{
  "nbformat": 4,
  "nbformat_minor": 0,
  "metadata": {
    "colab": {
      "provenance": [],
      "toc_visible": true,
      "authorship_tag": "ABX9TyMzK7uMy/M1Xbd6yqXFEREn",
      "include_colab_link": true
    },
    "kernelspec": {
      "name": "python3",
      "display_name": "Python 3"
    },
    "language_info": {
      "name": "python"
    }
  },
  "cells": [
    {
      "cell_type": "markdown",
      "metadata": {
        "id": "view-in-github",
        "colab_type": "text"
      },
      "source": [
        "<a href=\"https://colab.research.google.com/github/GildasTaliah/Solutions_with_PyNoteBook/blob/main/Intro_MathOptimz.ipynb\" target=\"_parent\"><img src=\"https://colab.research.google.com/assets/colab-badge.svg\" alt=\"Open In Colab\"/></a>"
      ]
    },
    {
      "cell_type": "markdown",
      "source": [
        "**INTRO TO MATHEMATICAL OPTIMIZATION IN PYTHON**\n",
        "\n",
        "\n",
        "\n",
        "**Description**\n",
        "\n",
        "This course transforms beginners into skilled optimizers, teaching you to convert and solve real-world problems using mathematical modeling in Python with SciPy and PuLP. Starting with the basics of optimization and its applications, you'll employ SymPy for analytical solutions without manually calculating derivatives, and utilize SciPy for numerical answers. You'll progress to tackling linear programming, constrained convex optimization, and mixed integer optimization with SciPy and PuLP, focusing on practical issues like manufacturing, profit maximization, and resource allocation."
      ],
      "metadata": {
        "id": "7g3XnFXaNjJ6"
      }
    },
    {
      "cell_type": "markdown",
      "source": [
        "# 1. **Introduction to Optimz**\n",
        "This chapter introduces optimization, its core components, and its wide applications across industries and domains. It presents a quick, exhaustive search method for solving an optimization problem. It provides a mathematical primer for the concepts required for this course."
      ],
      "metadata": {
        "id": "VUUZxYLEN9bI"
      }
    },
    {
      "cell_type": "markdown",
      "source": [
        "Applying an objective function\n",
        "You work for a media company and are faced with the problem of minimizing the cost to print and distribute magazines. You want to find the optimal number of magazines to publish and print for the smallest cost.\n",
        "\n",
        "In your organization, the costs associated with a number of magazines printed is calculated using the following equation:\n",
        "\n",
        "C = 50 + 5 (q -2)^2\n",
        "\n",
        "The costs C and quantity of magazines q are in thousands, so the 50 represents $50,000, the fixed costs of your business, such as paying the rent on the building.\n",
        "\n",
        "numpy and matplotlib.pyplot have been imported for you as np and plt, respectively."
      ],
      "metadata": {
        "id": "YvHvZpTWPlZc"
      }
    },
    {
      "cell_type": "code",
      "source": [
        "import numpy as np\n",
        "import matplotlib.pyplot as plt"
      ],
      "metadata": {
        "id": "_FcwwAIZQBPJ"
      },
      "execution_count": null,
      "outputs": []
    },
    {
      "cell_type": "code",
      "source": [
        "# Create an array of integers from 0 to 10\n",
        "quantity = np.arange(10)\n",
        "\n",
        "# Define the cost function\n",
        "def cost(q):\n",
        "  return 50 + 5*(q - 2)**2\n",
        "\n",
        "# Plot cost versus quantity\n",
        "plt.plot(quantity, cost(quantity))\n",
        "plt.xlabel('Quantity (thousands)')\n",
        "plt.ylabel('Cost ($ K)')\n",
        "plt.show()\n",
        "# That's correct! The lowest cost of $50,000 achieved with 2000 magazines."
      ],
      "metadata": {
        "colab": {
          "base_uri": "https://localhost:8080/",
          "height": 450
        },
        "id": "8JuUqgNhN3Sd",
        "outputId": "d3ba873f-f5f8-4a29-b825-2f93ad558c76"
      },
      "execution_count": null,
      "outputs": [
        {
          "output_type": "display_data",
          "data": {
            "text/plain": [
              "<Figure size 640x480 with 1 Axes>"
            ],
            "image/png": "[encoded data removed]"
          },
          "metadata": {}
        }
      ]
    },
    {
      "cell_type": "markdown",
      "source": [
        "**Exhaustive search method**\n",
        "\n",
        "You've applied the objective function and visualized the result; however, you could only eye-ball the optimal value by reviewing the plot. A more precise way of finding this value is with the exhaustive search method.\n",
        "\n",
        "You're again working for a media company that publishes and prints magazines, but this time, you'll discover how to maximize profit rather than minimize cost. Recall that the profit and quantity units are in the thousands, so a q of 1 is 1000 magazines and a profit of 5 is $5000.\n",
        "\n",
        "P = 40q - 0.5q^2\n",
        "\n",
        "The same quantity array from the previous exercise has been provided for you, along with a profit() function to optimize.\n",
        "\n",
        "numpy has been imported for you as np."
      ],
      "metadata": {
        "id": "vM1NMxuuQPkn"
      }
    },
    {
      "cell_type": "code",
      "source": [
        "# Calculate the profit for every quantity\n",
        "quantity = np.arange(80)\n",
        "\n",
        "def profit(q):\n",
        "  return 40*q - 0.5*q**2\n",
        "profits = profit(quantity)\n",
        "\n",
        "# Find the maximum profit\n",
        "max_profit = profits.max()\n",
        "\n",
        "# Find the optimal quantity\n",
        "max_profit_ind = np.argmax(profits)\n",
        "optimal_quantity = quantity[max_profit_ind]\n",
        "\n",
        "# Print the results\n",
        "print(f\"You need to print {optimal_quantity * 1000} magazines to make the maximum profit of ${max_profit * 1000}.\")\n",
        "\n",
        "#Great work! The exhaustive search worked well for the problem, and informs the media company that they'll need to sell 4000 magazines to optimize profit."
      ],
      "metadata": {
        "colab": {
          "base_uri": "https://localhost:8080/"
        },
        "id": "fCXbQf2sQ9rm",
        "outputId": "e5146e54-75fe-4369-efd1-e3092f031e90"
      },
      "execution_count": null,
      "outputs": [
        {
          "output_type": "stream",
          "name": "stdout",
          "text": [
            "You need to print 40000 magazines to make the maximum profit of $800000.0.\n"
          ]
        }
      ]
    },
    {
      "cell_type": "markdown",
      "source": [
        "**Finding the derivative**\n",
        "\n",
        "For some objective functions, the optimum can be found using calculus by finding the derivative of the function. sympy offers a solution to avoid manually calculating these derivatives. Suppose you work in a firm that produces toy bicycles. You have the following objective function to calculate your costs, C, which is dependent on the variable, q, the quantity of bicycles produced:\n",
        "\n",
        "C = 2000 - q2 + 120 q\n",
        "\n",
        "To find the optimum value of q , you'll find the derivative of the cost with respect to the quantity, dCdq, using sympy. symbols, diff, and solve have been loaded for you in this and the next exercise."
      ],
      "metadata": {
        "id": "Q0PPC8DOSr0P"
      }
    },
    {
      "cell_type": "code",
      "source": [
        "import sympy\n",
        "from sympy import symbols, diff, solve\n",
        "\n",
        "# Convert q into a symbol\n",
        "q = symbols('q')\n",
        "c = 2000 - q**2 + 120 * q\n",
        "\n",
        "# Find the derivative of the objective function\n",
        "dc_dq = diff(c)\n",
        "print(f\"The derivative is {dc_dq}.\")\n",
        "\n",
        "# Solve the derivative\n",
        "q_opt = solve(dc_dq)\n",
        "print(f\"Optimum quantity: {q_opt}\")\n",
        "\n",
        "#Excellent! The derivative is 120-2.0*q, and the slope is at zero when the quantity is 60, making that your optimum quantity!"
      ],
      "metadata": {
        "colab": {
          "base_uri": "https://localhost:8080/"
        },
        "id": "m-Z8VVA-TDoC",
        "outputId": "d2028f18-5b4a-4df1-a562-bff1a1a36b9d"
      },
      "execution_count": null,
      "outputs": [
        {
          "output_type": "stream",
          "name": "stdout",
          "text": [
            "The derivative is 120 - 2*q.\n",
            "Optimum quantity: [60]\n"
          ]
        }
      ]
    },
    {
      "cell_type": "markdown",
      "source": [
        "**Find the second derivative**\n",
        "\n",
        "Now that you have the derivative of your objective function, you can calculate the second order derivative. You'll do so symbolically using sympy.\n",
        "\n",
        "The values for dc_dq and q_opt, and the objective function c with the quantity variable q from the previous exercise are available to you."
      ],
      "metadata": {
        "id": "jKmwQMu5TZI-"
      }
    },
    {
      "cell_type": "code",
      "source": [
        "# Find the second derivative\n",
        "d2c_dq2 = diff(dc_dq)\n",
        "print(np.array(np.array(q_opt).astype(int)))\n",
        "\n",
        "# Substitute the optimum into the second derivative\n",
        "q_opt = q_opt[0]\n",
        "sol = d2c_dq2.subs(q, q_opt)\n",
        "print(f\"The 2nd derivative at q_opt is: {sol}\")\n",
        "# We have a maxima"
      ],
      "metadata": {
        "colab": {
          "base_uri": "https://localhost:8080/"
        },
        "id": "Fc2RoHToTi7B",
        "outputId": "0eb0dc2a-a942-482a-8945-10eb3f9050e6"
      },
      "execution_count": null,
      "outputs": [
        {
          "output_type": "stream",
          "name": "stdout",
          "text": [
            "[60]\n",
            "The 2nd derivative at q_opt is: -2\n"
          ]
        }
      ]
    },
    {
      "cell_type": "markdown",
      "source": [
        "**Partial derivatives with SymPy**\n",
        "You are an economist working for an automotive company. Your manager has modeled the production process as a function of the number of machines\n",
        "K and the number of workers L to produce\n",
        "\n",
        "F = - 3K2 + 100K - 1/2L^2 + 100L cars.\n",
        "\n",
        "This is your multivariate objective function. You'll need to use partial derivatives to optimize this function.\n",
        "\n",
        "symbols, diff, and solve have been loaded for you."
      ],
      "metadata": {
        "id": "70EkeeSUWoc8"
      }
    },
    {
      "cell_type": "code",
      "source": [
        "# Define symbols K, L\n",
        "K, L = symbols('K L')\n",
        "\n",
        "F = -3*K**2 + 100* K - (1/2)*L**2 + 100*L\n",
        "\n",
        "# Derive the partial derivatives\n",
        "dF_dK = diff(F, K)\n",
        "dF_dL = diff(F, L)\n",
        "\n",
        "# Solve the equations\n",
        "crit_points = solve([dF_dK, dF_dL], (K, L))\n",
        "print(crit_points)\n",
        "\n",
        "\"\"\" Excellent coding! You found a critical point at K of 16hrs 40min and an \\\n",
        "L of 100hrs—this could be the function's optimum! To be sure, y\\\n",
        "ou should visualize the function and look out for a special cases where differentiation breaks down. Let's test your knowledge of these cases! \"\"\""
      ],
      "metadata": {
        "colab": {
          "base_uri": "https://localhost:8080/",
          "height": 86
        },
        "id": "aE739LB5XzLu",
        "outputId": "03a231b0-6283-45bf-f5fd-191005d1e9a5"
      },
      "execution_count": null,
      "outputs": [
        {
          "output_type": "stream",
          "name": "stdout",
          "text": [
            "{K: 16.6666666666667, L: 100.000000000000}\n"
          ]
        },
        {
          "output_type": "execute_result",
          "data": {
            "text/plain": [
              "\" Excellent coding! You found a critical point at K of 16hrs 40min and an L of 100hrs—this could be the function's optimum! To be sure, you should visualize the function and look out for a special cases where differentiation breaks down. Let's test your knowledge of these cases! \""
            ],
            "application/vnd.google.colaboratory.intrinsic+json": {
              "type": "string"
            }
          },
          "metadata": {},
          "execution_count": 6
        }
      ]
    },
    {
      "cell_type": "markdown",
      "source": [
        "**Limitations of differentiation**\n",
        "\n",
        "Differentiation can be a good optimization tool for simpler objective functions, but there are a few things to look out for before applying it!\n",
        "\n",
        "Can you identify objective functions that can be differentiated (are differentiable) and functions where differentiation won't succeed?"
      ],
      "metadata": {
        "id": "l-f3LmriYEbE"
      }
    },
    {
      "cell_type": "markdown",
      "source": [
        "# Unconstrained and Linear Constrained Optimization\n",
        "\n",
        "This chapter covers solving unconstrained and constrained optimization problems with differential calculus and SymPy, identifying potential pitfalls. SciPy is also introduced to solve unconstrained optimization problems, in single and multiple dimensions, numerically, with a few lines of code. The chapter goes on to solve linear programming in SciPy and PuLP.\n",
        "\n"
      ],
      "metadata": {
        "id": "hAQw3CGM6sj9"
      }
    },
    {
      "cell_type": "markdown",
      "source": [
        "**Finding the maxima**\n",
        "\n",
        "Unconstrained optimization is finding the maxima or minima of a function that does not have any constraints or restrictions on the input variables.\n",
        "\n",
        "Suppose you are launching a new product in your delicious cookie company and you want to maximize the revenue. The revenue can be modeled with this objective function where R is the revenue generated at price x.\n",
        "\n",
        "R = -(x^2) + 3*x - 5\n",
        "\n",
        "Solve this maximization problem using SciPys minimize_scalar() which has been loaded for you."
      ],
      "metadata": {
        "id": "dRt6fGaD69Zi"
      }
    },
    {
      "cell_type": "code",
      "source": [
        "from scipy.optimize import minimize_scalar\n",
        "\n",
        "\n",
        "# Define the new objective function\n",
        "def negated_function(x):\n",
        "  return (x**2 - 3*x + 5)\n",
        "\n",
        "# Maximize the negated function\n",
        "result = minimize_scalar(negated_function)\n",
        "\n",
        "# Print the result\n",
        "print(f\"The maximum is {result.x:.2f} in two decimals\")\n",
        "\n",
        "\"\"\" Great work maximizing using minimize_scalar(). The result says the cookies should be priced at $1.50 to maximize revenue. \"\"\"\n"
      ],
      "metadata": {
        "colab": {
          "base_uri": "https://localhost:8080/",
          "height": 64
        },
        "id": "cW0cxNqp67u-",
        "outputId": "5b5f5718-9465-4d81-b6ee-b65da29e5635"
      },
      "execution_count": null,
      "outputs": [
        {
          "output_type": "stream",
          "name": "stdout",
          "text": [
            "The maximum is 1.50 in two decimals\n"
          ]
        },
        {
          "output_type": "execute_result",
          "data": {
            "text/plain": [
              "' Great work maximizing using minimize_scalar(). The result says the cookies should be priced at $1.50 to maximize revenue. '"
            ],
            "application/vnd.google.colaboratory.intrinsic+json": {
              "type": "string"
            }
          },
          "metadata": {},
          "execution_count": 7
        }
      ]
    },
    {
      "cell_type": "markdown",
      "source": [
        "**Multivariate optimization**\n",
        "\n",
        "Great job maximizing that revenue! You now want to look at minimizing costs.\n",
        "\n",
        "You'll need to consider two variables for your new cookie product, the sugar ingredient (a[0]) and the flour ingredient (a[1]). This is a multivariate optimization problem where you want to find the best way to mix these ingredients so that your cookies are delicious but not too expensive!\n",
        "\n",
        "SciPy's minimize() function has been loaded for you and the objective function has been provided."
      ],
      "metadata": {
        "id": "pZqOdtYS8xZb"
      }
    },
    {
      "cell_type": "code",
      "source": [
        "from scipy.optimize import minimize\n",
        "\n",
        "def objective_function(a):\n",
        "  return (a[0] - 2)**2 + (a[1] - 3)**2 + 3\n",
        "\n",
        "# Save your initial guess\n",
        "x0 = [1, 2]\n",
        "\n",
        "# Calculate and print the minimum\n",
        "result = minimize(objective_function, x0)\n",
        "print(f\"minimum is (x, y) = ({result.x[0]:.2f}, {result.x[1]:.2f}) in two decimals.\")\n",
        "\n",
        "\"\"\" Fantastic! You need 2 units of sugar and 3 units of flour to minimize costs while still having delicious cookies. \"\"\""
      ],
      "metadata": {
        "colab": {
          "base_uri": "https://localhost:8080/",
          "height": 64
        },
        "id": "ZCYRoZik86OU",
        "outputId": "7816ba2f-a8b8-4cb7-e631-21fbb18765a7"
      },
      "execution_count": null,
      "outputs": [
        {
          "output_type": "stream",
          "name": "stdout",
          "text": [
            "minimum is (x, y) = (2.00, 3.00) in two decimals.\n"
          ]
        },
        {
          "output_type": "execute_result",
          "data": {
            "text/plain": [
              "' Fantastic! You need 2 units of sugar and 3 units of flour to minimize costs while still having delicious cookies. '"
            ],
            "application/vnd.google.colaboratory.intrinsic+json": {
              "type": "string"
            }
          },
          "metadata": {},
          "execution_count": 8
        }
      ]
    },
    {
      "cell_type": "markdown",
      "source": [
        "**Note**: So far we have mostly been dealing with **bounds constraint optimization** with defaul solver **BFGS: Broyden Fletcher Goldharb Shanno**"
      ],
      "metadata": {
        "id": "uxykPVhZ9JiZ"
      }
    },
    {
      "cell_type": "markdown",
      "source": [
        "**Working with Bounds**\n",
        "\n",
        "Bound-constrained problems have variables that are limited to a range of values.\n",
        "\n",
        "You're running a coffee shop and need to place an order for two varieties of coffee beans: b[0] and b[1]. You want to minimize costs. Your supplier only accepts minimum quantity orders of 2 units for each bean, and you can afford a maximum of 100 units per bean.\n",
        "\n",
        "minimize and Bounds from scipy.optimize have been loaded for you and the objective function is provided."
      ],
      "metadata": {
        "id": "e8sAooNQ9m40"
      }
    },
    {
      "cell_type": "code",
      "source": [
        "from scipy.optimize import minimize, Bounds\n",
        "\n",
        "def objective_function(b):\n",
        "  return (b[0] - 6)**2 + (b[1] - 8)**2 + 3\n",
        "\n",
        "# Set the bounds of your problem\n",
        "bounds = Bounds(2, 100)\n",
        "\n",
        "# initial guess\n",
        "x0 = [10, 5]\n",
        "\n",
        "# Find the minimum\n",
        "result = minimize(objective_function, x0, method = 'L-BFGS-B', bounds = bounds)\n",
        "\n",
        "print(result.x)\n",
        "\n",
        "\"\"\" Nice job working with those bounds. Your optimal order of coffee beans will be 6 units for the first type and 8 units for the second. \"\"\""
      ],
      "metadata": {
        "colab": {
          "base_uri": "https://localhost:8080/",
          "height": 64
        },
        "id": "K8ATRUMZ-V3a",
        "outputId": "80fb1206-be54-4477-c9d5-4789872ce7d1"
      },
      "execution_count": null,
      "outputs": [
        {
          "output_type": "stream",
          "name": "stdout",
          "text": [
            "[6.         7.99999999]\n"
          ]
        },
        {
          "output_type": "execute_result",
          "data": {
            "text/plain": [
              "' Nice job working with those bounds. Your optimal order of coffee beans will be 6 units for the first type and 8 units for the second. '"
            ],
            "application/vnd.google.colaboratory.intrinsic+json": {
              "type": "string"
            }
          },
          "metadata": {},
          "execution_count": 9
        }
      ]
    },
    {
      "cell_type": "markdown",
      "source": [
        "**Handling hard inequalities**\n",
        "\n",
        "Back in the coffee shop, you want to look at minimizing daily expenses. You have an objective function that calculates your production costs, and a constraint function that tells you the limits of how much coffee you can produce.\n",
        "\n",
        "Apply scipy to find the optimal allocation of resources to minimize costs."
      ],
      "metadata": {
        "id": "LLA-7mdq-e5b"
      }
    },
    {
      "cell_type": "code",
      "source": [
        "def objective_function(b):\n",
        "  return (b[0] - 5) ** 2 + (b[1] - 3) ** 3\n",
        "\n",
        "def constraint_function(x):\n",
        "    return 2*x[0] + 3*x[1] - 6\n",
        "\n",
        "# Set the constraint variable\n",
        "constraint = {'type': 'ineq',\n",
        "              'fun': constraint_function}\n",
        "\n",
        "x0 = [20, 20]\n",
        "\n",
        "# Find the minimum\n",
        "result = minimize(objective_function, x0,\n",
        "         constraints=[constraint])\n",
        "\n",
        "print(result)\n",
        "\n",
        "\"\"\" Good work! It looks like you may need to make some reductions to your production schedule to minimize costs. \"\"\"\n",
        "\n"
      ],
      "metadata": {
        "colab": {
          "base_uri": "https://localhost:8080/",
          "height": 240
        },
        "id": "d81cU32e-sEK",
        "outputId": "d36d0e8f-2e05-4a9e-d52d-b3dd2289e563"
      },
      "execution_count": null,
      "outputs": [
        {
          "output_type": "stream",
          "name": "stdout",
          "text": [
            " message: Inequality constraints incompatible\n",
            " success: False\n",
            "  status: 4\n",
            "     fun: -5596424370440672.0\n",
            "       x: [ 2.665e+05 -1.775e+05]\n",
            "     nit: 3\n",
            "     jac: [ 0.000e+00  9.456e+10]\n",
            "    nfev: 9\n",
            "    njev: 3\n"
          ]
        },
        {
          "output_type": "execute_result",
          "data": {
            "text/plain": [
              "' Good work! It looks like you may need to make some reductions to your production schedule to minimize costs. '"
            ],
            "application/vnd.google.colaboratory.intrinsic+json": {
              "type": "string"
            }
          },
          "metadata": {},
          "execution_count": 10
        }
      ]
    },
    {
      "cell_type": "markdown",
      "source": [
        "That's right! Linear programming requires both the objective function and the constraints to have a linear relationship."
      ],
      "metadata": {
        "id": "-aTZgu9k_EFn"
      }
    },
    {
      "cell_type": "markdown",
      "source": [
        "**PuLP for linear optimization**\n",
        "\n",
        "A farmer faces a diet problem for their cattle. The vet's recommendation is that each animal is fed at least 7 pounds of a mix of corn and soybean with at least 17% protein and 2% fat. Below are the relevant nutritional elements:\n",
        "\n",
        "Food type: Corn and Syobean; Cost($/lb): 0.11 and 28; Protein(%): 10 and 40; Fat(%): 2.5 and 1.\n",
        "\n",
        "You will use this information to minimize costs subject to nutritional constraints.\n",
        "\n",
        "pulp has been imported for you."
      ],
      "metadata": {
        "id": "rIddwcew_QxF"
      }
    },
    {
      "cell_type": "code",
      "source": [
        "!pip install pulp"
      ],
      "metadata": {
        "colab": {
          "base_uri": "https://localhost:8080/"
        },
        "id": "v9Rp83mj_9nn",
        "outputId": "a3b5c865-ddab-416f-e9de-9f0df9c661f5"
      },
      "execution_count": null,
      "outputs": [
        {
          "output_type": "stream",
          "name": "stdout",
          "text": [
            "Collecting pulp\n",
            "  Downloading PuLP-2.9.0-py3-none-any.whl.metadata (5.4 kB)\n",
            "Downloading PuLP-2.9.0-py3-none-any.whl (17.7 MB)\n",
            "\u001b[2K   \u001b[90m━━━━━━━━━━━━━━━━━━━━━━━━━━━━━━━━━━━━━━━━\u001b[0m \u001b[32m17.7/17.7 MB\u001b[0m \u001b[31m33.4 MB/s\u001b[0m eta \u001b[36m0:00:00\u001b[0m\n",
            "\u001b[?25hInstalling collected packages: pulp\n",
            "Successfully installed pulp-2.9.0\n"
          ]
        }
      ]
    },
    {
      "cell_type": "code",
      "source": [
        "from pulp import *\n",
        "\n",
        "# Define the model\n",
        "model = LpProblem(\"MinCost\", LpMinimize)\n",
        "\n",
        "# Define the variables\n",
        "C = LpVariable(\"C\", lowBound=0)\n",
        "S = LpVariable(\"S\", lowBound=0)\n",
        "\n",
        "# Add the objective function and constraints\n",
        "model += 0.11*C + 0.28*S\n",
        "model += 40*S + 10*C >= 17*(C+S), \"M_protein\"\n",
        "model += S + 2.5*C >= 2*(C+S), \"M_fat\"\n",
        "model += C + S >= 7, \"M_weight\"\n",
        "\n",
        "# Solve the model\n",
        "model.solve()\n",
        "print(f\"Cost = {value(model.objective):.2f}\")\n",
        "print(f\"Pounds of soybean = {S.varValue:.2f}, pounds of corn = {C.varValue:.2f}\")\n",
        "\n",
        "\"\"\" That was superb! Piecing together the objective functions and constraints can be tricky but you did it and successfully minimized the cost for the farmer. \"\"\""
      ],
      "metadata": {
        "colab": {
          "base_uri": "https://localhost:8080/",
          "height": 86
        },
        "id": "V2SoVvU3_4zj",
        "outputId": "091d369a-cca3-414e-d06f-75423f89c66b"
      },
      "execution_count": null,
      "outputs": [
        {
          "output_type": "stream",
          "name": "stdout",
          "text": [
            "Cost = 1.05\n",
            "Pounds of soybean = 1.63, pounds of corn = 5.37\n"
          ]
        },
        {
          "output_type": "execute_result",
          "data": {
            "text/plain": [
              "' That was superb! Piecing together the objective functions and constraints can be tricky but you did it and successfully minimized the cost for the farmer. '"
            ],
            "application/vnd.google.colaboratory.intrinsic+json": {
              "type": "string"
            }
          },
          "metadata": {},
          "execution_count": 12
        }
      ]
    },
    {
      "cell_type": "markdown",
      "source": [
        "**Handling multiple elements**\n",
        "\n",
        "The farmer wants to replicate the previous optimization function to detail with more complicated meals for other animals on the farm.\n",
        "\n",
        "The previous code has been provided. Can you adjust the previous code to make it better at handling multiple variables?\n",
        "\n",
        "pulp has been imported for you."
      ],
      "metadata": {
        "id": "XpYfhML4APeX"
      }
    },
    {
      "cell_type": "code",
      "source": [
        "model = LpProblem(\"MinCost\", LpMinimize)\n",
        "\n",
        "# Adjust the variable definition\n",
        "variables = LpVariable.dicts(\"Food\", ['C', 'S'], lowBound=0)\n",
        "\n",
        "# Adjust the objective function\n",
        "cost = {'C': 0.11, 'S': 0.28}\n",
        "model += lpSum([cost[i] * variables[i] for i in ['C', 'S']])\n",
        "\n",
        "model += 40*variables['S'] + 10*variables['C'] >= 17*(variables['C']+variables['S']), \"M_protein\"\n",
        "model += variables['S'] + 2.5*variables['C'] >= 2*(variables['C']+variables['S']), \"M_fat\"\n",
        "model += variables['C'] + variables['S'] >= 7, \"M_weight\"\n",
        "\n",
        "model.solve()\n",
        "print(f\"Cost = {value(model.objective):.2f}\")\n",
        "print(f\"Pounds of soybean = {variables['S'].varValue:.2f}, pounds of corn = {variables['C'].varValue:.2f}\")\n",
        "\n",
        "\"\"\" Good job, Gut Arbeit, Gut gemacht! \"\"\""
      ],
      "metadata": {
        "colab": {
          "base_uri": "https://localhost:8080/",
          "height": 86
        },
        "id": "Qc_FnOEzAOs2",
        "outputId": "7b46d139-fc74-43e9-c33f-6507911ef994"
      },
      "execution_count": null,
      "outputs": [
        {
          "output_type": "stream",
          "name": "stdout",
          "text": [
            "Cost = 1.05\n",
            "Pounds of soybean = 1.63, pounds of corn = 5.37\n"
          ]
        },
        {
          "output_type": "execute_result",
          "data": {
            "text/plain": [
              "' Good job, Gut Arbeit, Gut gemacht! '"
            ],
            "application/vnd.google.colaboratory.intrinsic+json": {
              "type": "string"
            }
          },
          "metadata": {},
          "execution_count": 13
        }
      ]
    },
    {
      "cell_type": "markdown",
      "source": [
        "# Non-Linear Constraint Optimization\n",
        "\n",
        "This chapter introduces **convex-constrained optimization** problems with different constraints and looks at mixed integer linear programming problems, essentially linear programming problems where at least one variable is an integer."
      ],
      "metadata": {
        "id": "L8Kk6R49AJnm"
      }
    },
    {
      "cell_type": "markdown",
      "source": [
        "**Interpreting indifference curves**\n",
        "\n",
        "In convex optimization, you can interpret the indifference curve and constraint to understand the optimization problem.\n",
        "\n",
        "What should you look for when interpreting these visualizations? Select the two true statements.\n",
        "\n",
        "- The point on the indifference curve that minimizes or maximizes the objective function\n",
        "- The single point where the constraint line and indifference curve touch"
      ],
      "metadata": {
        "id": "Eil8-z1Zu7LS"
      }
    },
    {
      "cell_type": "markdown",
      "source": [
        "**Visualize the indifference curve**\n",
        "\n",
        "You have been provided the following utility function and constraint.\n",
        "\n",
        "U (c,m) = c^0.7 *  m^0.3\n",
        "\n",
        "s.t:  c + m = 2\n",
        "\n",
        "Use this to visualize the indifference curve.\n",
        "\n",
        "np and plt have been loaded for you."
      ],
      "metadata": {
        "id": "aER0UcvcvVtf"
      }
    },
    {
      "cell_type": "code",
      "source": [
        "c = np.linspace(1, 2, 10)\n",
        "# Define the constraint and generate combinations\n",
        "m = 2 - c\n",
        "\n",
        "# create combination pairs of c and m.\n",
        "C, M = np.meshgrid(c, m)\n",
        "# Define the utility function\n",
        "F = C**0.7 * M**0.3\n",
        "\n",
        "plt.figure(figsize=(8, 6))\n",
        "# Plot the controls and constraints\n",
        "contours = plt.contour(C, M, F, levels=[0.9, 1.00, 1.085, 1.2])\n",
        "plt.clabel(contours)\n",
        "plt.plot(c, m, color='red')\n",
        "plt.title('Indifference Curve with Constraint Line')\n",
        "plt.xlabel('c')\n",
        "plt.ylabel('m')\n",
        "plt.grid(True)\n",
        "plt.show()\n",
        "\n",
        "\"\"\" Excellent work! By looking at this graph, it looks like our solution may be around c of 1.4 and m of 0.6. Let's see if that's correct! \"\"\""
      ],
      "metadata": {
        "colab": {
          "base_uri": "https://localhost:8080/",
          "height": 590
        },
        "id": "NxyjeqhTvEbk",
        "outputId": "ab1aac4b-7c19-429d-dada-d404cd13225f"
      },
      "execution_count": null,
      "outputs": [
        {
          "output_type": "display_data",
          "data": {
            "text/plain": [
              "<Figure size 800x600 with 1 Axes>"
            ],
            "image/png": "[encoded data removed]"
          },
          "metadata": {}
        },
        {
          "output_type": "execute_result",
          "data": {
            "text/plain": [
              "\" Excellent work! By looking at this graph, it looks like our solution may be around c of 1.4 and m of 0.6. Let's see if that's correct! \""
            ],
            "application/vnd.google.colaboratory.intrinsic+json": {
              "type": "string"
            }
          },
          "metadata": {},
          "execution_count": 14
        }
      ]
    },
    {
      "cell_type": "markdown",
      "source": [
        "**Utility maximization**\n",
        "\n",
        "Bill is an aspiring piano student who allocates hours of study in classical **c** and modern **m** music. His preferences are represented by the same utility function you just plotted:\n",
        "\n",
        "U (c,m) = c^0.7 *  m^0.3.\n",
        "\n",
        "Hours of study sum up to 2. i.e (c + m = 2) daily. Help Bill find the optimal studying plan.\n",
        "\n",
        "np and minimize have been loaded for you. We have already imported symbols, diff and solve from SymPy, defined c and m as symbols and defined the Utility function U for you."
      ],
      "metadata": {
        "id": "2rpGpdiYwZOS"
      }
    },
    {
      "cell_type": "code",
      "source": [
        "# Define the utility function\n",
        "def utility_function(vars):\n",
        "    c, m = vars\n",
        "    return -(c**.7 * m**.3)\n",
        "\n",
        "# Define the constraint function\n",
        "def constraint(vars):\n",
        "    return 2 - np.sum(vars)\n",
        "\n",
        "initial_guess = [12, 12]\n",
        "\n",
        "# Set up the constraint\n",
        "constraint_definition = {'type': 'eq', 'fun': constraint}\n",
        "\n",
        "# Perform optimization\n",
        "result = minimize(utility_function, initial_guess, constraints=constraint_definition)\n",
        "c, m = result.x\n",
        "\n",
        "print(\"Optimal study hours for classical music:\", round(c, 2))\n",
        "print(\"Optimal study hours for modern music:\", round(m, 2))\n",
        "\n",
        "\"\"\" Well done! It looks like Bill should spend around 1.4 hours on classical music and around 0.6 hours on modern music. You did a great job visualizing and optimizing. \"\"\""
      ],
      "metadata": {
        "colab": {
          "base_uri": "https://localhost:8080/",
          "height": 86
        },
        "id": "4hxhWHgtxBbE",
        "outputId": "c4752a60-d19f-4776-ceb0-b0ef852ae4c5"
      },
      "execution_count": null,
      "outputs": [
        {
          "output_type": "stream",
          "name": "stdout",
          "text": [
            "Optimal study hours for classical music: 1.4\n",
            "Optimal study hours for modern music: 0.6\n"
          ]
        },
        {
          "output_type": "execute_result",
          "data": {
            "text/plain": [
              "' Well done! It looks like Bill should spend around 1.4 hours on classical music and around 0.6 hours on modern music. You did a great job visualizing and optimizing. '"
            ],
            "application/vnd.google.colaboratory.intrinsic+json": {
              "type": "string"
            }
          },
          "metadata": {},
          "execution_count": 15
        }
      ]
    },
    {
      "cell_type": "markdown",
      "source": [
        "**Interior or corner?**\n",
        "\n",
        "Select the correct definition for interior and corner solution.\n",
        "\n",
        "\n",
        "- A corner solution has an intersection of two constraints, while an interior solution does not\n",
        "- Correct! A corner solution shows the intersection of two constraints while an interior solution is where the constraint touches the curve."
      ],
      "metadata": {
        "id": "_w2dVV-p7K-3"
      }
    },
    {
      "cell_type": "markdown",
      "source": [
        "**Linear constrained biscuits**\n",
        "\n",
        "Congratulations! Your biscuit business has expanded. You now have two bakeries, **A** and **B**, to help you deliver your biscuits nationwide. Your bakeries can each make 100 biscuits a day and the cost of making a biscuit in bakery A is 1.5 the quantity q while in bakery B it is 1.75 q.\n",
        "\n",
        "Price is defined by 150 − q.\n",
        "\n",
        "Your business is booming and you already have 140 biscuit pre-orders for the day. You want to maximize your profit for the day. How many biscuits should you make in each bakery?\n",
        "\n",
        "minimize, Bounds, and LinearConstraint have been loaded for you and the revenue function R is already defined.\n",
        "\n",
        "\n",
        "\n"
      ],
      "metadata": {
        "id": "eSyJFTql7ohg"
      }
    },
    {
      "cell_type": "code",
      "source": [
        "from scipy.optimize import minimize, Bounds, LinearConstraint\n",
        "\n",
        "def R(q):\n",
        "    return (150 - q[0] - q[1]) * (q[0] + q[1])\n",
        "\n",
        "# Define the cost function\n",
        "def C(q):\n",
        "  return 1.5*q[0] + 1.75*q[1]\n",
        "\n",
        "# Define the profit function\n",
        "def profit(q):\n",
        "  return R(q) - C(q)\n",
        "\n",
        "# Define the bounds and constraints\n",
        "bounds = Bounds([0, 0], [100, 100])\n",
        "constraints = LinearConstraint([1, 1], lb=140)\n",
        "\n",
        "# Perform optimization\n",
        "result = minimize(lambda q: -profit(q),\n",
        "                  [50, 50],\n",
        "                  bounds=bounds,\n",
        "                  constraints=constraints)\n",
        "\n",
        "print(result.message)\n",
        "print(f'The optimal number of biscuits to bake in bakery A is: {result.x[0]:.2f}')\n",
        "print(f'The optimal number of biscuits to bake in bakery A is: {result.x[1]:.2f}')\n",
        "print(f'The bakery company made: ${-result.fun:.2f}')\n",
        "\n",
        "\"\"\" Brilliant baking! You need to make 100 biscuits in factory A and 40 in factory B to maximize on profit. \"\"\""
      ],
      "metadata": {
        "colab": {
          "base_uri": "https://localhost:8080/",
          "height": 130
        },
        "id": "NCdcsR5Q8N2D",
        "outputId": "252e872b-27ed-481f-f638-b63ef48e8031"
      },
      "execution_count": null,
      "outputs": [
        {
          "output_type": "stream",
          "name": "stdout",
          "text": [
            "Optimization terminated successfully\n",
            "The optimal number of biscuits to bake in bakery A is: 100.00\n",
            "The optimal number of biscuits to bake in bakery A is: 40.00\n",
            "The bakery company made: $1180.00\n"
          ]
        },
        {
          "output_type": "execute_result",
          "data": {
            "text/plain": [
              "' Brilliant baking! You need to make 100 biscuits in factory A and 40 in factory B to maximize on profit. '"
            ],
            "application/vnd.google.colaboratory.intrinsic+json": {
              "type": "string"
            }
          },
          "metadata": {},
          "execution_count": 16
        }
      ]
    },
    {
      "cell_type": "markdown",
      "source": [
        "**Nonlinear constrained biscuits**\n",
        "\n",
        "That was some excellent baking!\n",
        "\n",
        "Now can you solve the same problem again using NonlinearConstraint?\n",
        "\n",
        "Recall the constraint for the bakeries is they need to fulfill a minimum of 140 pre-orders and each factory can make 100 biscuits daily.\n",
        "\n",
        "minimize, Bounds, and NonlinearConstraint have been loaded for you as well as the revenue function R, cost function C, and profit function profit."
      ],
      "metadata": {
        "id": "WJlgNO1p8bUA"
      }
    },
    {
      "cell_type": "code",
      "source": [
        "\n",
        "from scipy.optimize import minimize, Bounds, NonlinearConstraint\n",
        "\n",
        "# Redefine the problem with NonlinearConstraint\n",
        "constraints = NonlinearConstraint(lambda q: q[0] + q[1], lb=140, ub=np.Inf)\n",
        "\n",
        "# Perform optimization\n",
        "result = minimize(lambda q: -profit(q),\n",
        "                  [50, 50],\n",
        "                  bounds=Bounds([0, 0], [100, 100]),\n",
        "                  constraints=constraints)\n",
        "\n",
        "print(result.message)\n",
        "print(f'The optimal number of biscuits to bake in bakery A is: {result.x[0]:.2f}')\n",
        "print(f'The optimal number of biscuits to bake in bakery A is: {result.x[1]:.2f}')\n",
        "print(f'The bakery company made: ${-result.fun:.2f}')\n",
        "\n",
        "\"\"\" Fantastic work! This problem is pretty straightforward, but remember you can use NonlinearConstraint if the problem is not as neat. \"\"\""
      ],
      "metadata": {
        "colab": {
          "base_uri": "https://localhost:8080/",
          "height": 130
        },
        "id": "7ixGNG7h8jfu",
        "outputId": "ae460a5b-4dbc-4891-d035-2df337220673"
      },
      "execution_count": null,
      "outputs": [
        {
          "output_type": "stream",
          "name": "stdout",
          "text": [
            "Optimization terminated successfully\n",
            "The optimal number of biscuits to bake in bakery A is: 100.00\n",
            "The optimal number of biscuits to bake in bakery A is: 40.00\n",
            "The bakery company made: $1180.00\n"
          ]
        },
        {
          "output_type": "execute_result",
          "data": {
            "text/plain": [
              "' Fantastic work! This problem is pretty straightforward, but remember you can use NonlinearConstraint if the problem is not as neat. '"
            ],
            "application/vnd.google.colaboratory.intrinsic+json": {
              "type": "string"
            }
          },
          "metadata": {},
          "execution_count": 17
        }
      ]
    },
    {
      "cell_type": "markdown",
      "source": [
        "**Adjusting MILP**\n",
        "\n",
        "The gown and tuxedo firm have adjusted some aspects of their business and need you to optimize for profit based on the new structure.\n",
        "\n",
        "The profit formula was 545g + 330t, where g are the gowns, and t are the tuxedos. The constraints are the same: 6g + 4t <= 40,\n",
        "\n",
        "3g + t <= 20\n",
        "\n",
        "The firm wants to increase their tuxedo profit by 10%, and Mr. S can now only work 30 hours per week.\n",
        "\n",
        "milp, LinearConstraint and Bounds have been loaded for you."
      ],
      "metadata": {
        "id": "KvmUAPZC-lyo"
      }
    },
    {
      "cell_type": "code",
      "source": [
        "#from pulp import *\n",
        "from scipy.optimize import milp, LinearConstraint, Bounds\n",
        "\n",
        "# Adjust the objective\n",
        "result = milp([-545, -363],\n",
        "              integrality=[1, 1],\n",
        "              bounds=Bounds([0, 0], [20, 12]),\n",
        "              constraints=LinearConstraint([[6, 4], [3, 1]], ub=[40, 20]))\n",
        "\n",
        "print(result.message)\n",
        "print(f'The optimal number of gowns produced is: {result.x[0]:.2f}')\n",
        "print(f'The optimal number of tuxedos produced is: {result.x[1]:.2f}')\n",
        "print(f'The firm made: ${-result.fun:.2f}')"
      ],
      "metadata": {
        "colab": {
          "base_uri": "https://localhost:8080/"
        },
        "id": "e5EeV_61_Dps",
        "outputId": "733aadfd-1eda-483b-b0b6-0f63f0746f75"
      },
      "execution_count": null,
      "outputs": [
        {
          "output_type": "stream",
          "name": "stdout",
          "text": [
            "Optimization terminated successfully. (HiGHS Status 7: Optimal)\n",
            "The optimal number of gowns produced is: 6.00\n",
            "The optimal number of tuxedos produced is: 1.00\n",
            "The firm made: $3633.00\n"
          ]
        }
      ]
    },
    {
      "cell_type": "code",
      "source": [
        "# Adjust the objective\n",
        "result = milp([-545, -363],\n",
        "              integrality=[1, 1],\n",
        "              bounds=Bounds([0, 0], [20, 12]),\n",
        "# Change Ms. Souster's constraint limit\n",
        "              constraints=LinearConstraint([[6, 4], [3, 1]], ub=[30, 20]))\n",
        "\n",
        "print(result.message)\n",
        "print(f'The optimal number of gowns produced is: {result.x[0]:.2f}')\n",
        "print(f'The optimal number of tuxedos produced is: {result.x[1]:.2f}')\n",
        "print(f'The firm made: ${-result.fun:.2f}')\n",
        "\n",
        "\"\"\" Well done! You changed objective and constraints properly. It looks like the change to \\\n",
        "Mr. S's hours combined with the new tuxedo goal is a bad match, since the optimal number of tuxedos is 0. \"\"\""
      ],
      "metadata": {
        "colab": {
          "base_uri": "https://localhost:8080/",
          "height": 152
        },
        "id": "cks6UC22_YDv",
        "outputId": "50119cf3-bb8f-44af-a81a-17fbc6ae2570"
      },
      "execution_count": null,
      "outputs": [
        {
          "output_type": "stream",
          "name": "stdout",
          "text": [
            "Optimization terminated successfully. (HiGHS Status 7: Optimal)\n",
            "The optimal number of gowns produced is: 5.00\n",
            "The optimal number of tuxedos produced is: -0.00\n",
            "The firm made: $2725.00\n"
          ]
        },
        {
          "output_type": "execute_result",
          "data": {
            "text/plain": [
              "\" Well done! You changed objective and constraints properly. It looks like the change to Mr. S's hours combined with the new tuxedo goal is a bad match, since the optimal number of tuxedos is 0. \""
            ],
            "application/vnd.google.colaboratory.intrinsic+json": {
              "type": "string"
            }
          },
          "metadata": {},
          "execution_count": 19
        }
      ]
    },
    {
      "cell_type": "markdown",
      "source": [
        "**Understanding integrality**\n",
        "\n",
        "The integrality argument of the milp() function ensures that the variables in the objective function are treated as integers, or discrete variables.\n",
        "\n",
        "What is a consequence of omitting this argument when performing optimization?\n",
        "\n",
        "- The solution may violate the variable constraints or underestimate the optimum values\n",
        "\n",
        "- Correct! The integrality argument makes sure that we are correctly interpreting variables as discrete variables and therefore enforcing constraints correctly."
      ],
      "metadata": {
        "id": "iedfqiQ-_ld1"
      }
    },
    {
      "cell_type": "markdown",
      "source": [
        "# Robust Optimization Technique\n",
        "\n",
        "This chapter covers finding the global optimum when multiple good solutions exist. We will conduct sensitivity analysis and learn linearization techniques that reduce non-linear problems to easily solvable ones with SciPy or PuLP. In terms of applications, we will solve an HR allocation with training costs problem and capital budgeting with dependent projects."
      ],
      "metadata": {
        "id": "Sesx8cEbAgTZ"
      }
    },
    {
      "cell_type": "markdown",
      "source": [
        "**Solving the capital budgeting problem\n",
        "Recall the capital budgeting problem.\n",
        "\n",
        "Your manager designs the firm's strategy and considers projects\n",
        "A\n",
        ",\n",
        "B\n",
        ",\n",
        "C\n",
        ", and\n",
        "A\n",
        " is the prerequisite for\n",
        "B\n",
        ". Profits are respectively\n",
        "V\n",
        "=\n",
        "[\n",
        "250\n",
        ",\n",
        "200\n",
        ",\n",
        "300\n",
        "]\n",
        ", the required investment is I = [2000, 1900, 2500] and only $4600 is available.\n",
        "o\n",
        " is a binary variable of whether a project is selected.\n",
        "\n",
        "Your manager gave you the problem:\n",
        "\n",
        "max\n",
        "\n",
        "\n",
        "o\n",
        "A\n",
        "V\n",
        "A\n",
        "+\n",
        "o\n",
        "A\n",
        "B\n",
        "V\n",
        "B\n",
        "+\n",
        "o\n",
        "C\n",
        "V\n",
        "C\n",
        "\n",
        "s\n",
        ".\n",
        "t\n",
        ".\n",
        "\n",
        "o\n",
        "A\n",
        "I\n",
        "A\n",
        "+\n",
        "o\n",
        "A\n",
        "B\n",
        "I\n",
        "B\n",
        "+\n",
        "o\n",
        "C\n",
        "I\n",
        "C\n",
        "≤\n",
        "4600\n",
        "\n",
        "Your task is to linearize and solve the profit problem.\n",
        "\n",
        "We have already imported pulp and defined a model with the parameters V, I, names for the project names (A, B, C, and AB indexed in that order), and o representing the binary decision using the same indexing."
      ],
      "metadata": {
        "id": "J1C2j6cTxinp"
      }
    },
    {
      "cell_type": "markdown",
      "source": [
        "**Solving the Capital Budgeting Problem**\n",
        "\n",
        "Recall the capital budgeting problem where your manager designs the firm's strategy and considers projects A, B, and C. Project A is a prerequisite for project B.\n",
        "\n",
        "Profits are V = [250, 200, 300].\n",
        "Required investments are I = [2000, 1900, 2500].\n",
        "The available budget is $4600.\n",
        "o is a binary variable representing whether a project is selected.\n",
        "\n",
        "The manager has given you the following problem:\n",
        "\n",
        "Maximize o_A * V_A + o_B * V_B + o_C * V_C\n",
        "\n",
        "Subject to o_A * I_A + o_B * I_B + o_C * I_C ≤ 4600\n",
        "\n",
        "Your task is to linearize and solve the problem using pulp. Below is the code to set up the linear programming (LP) model:\n"
      ],
      "metadata": {
        "id": "np3BltlMyezl"
      }
    },
    {
      "cell_type": "code",
      "source": [
        "import pulp\n",
        "\n",
        "# Define the profits and investment requirements\n",
        "V = [250, 200, 300]   # Profits for A, B, C\n",
        "I = [2000, 1900, 2500] # Investments for A, B, C\n",
        "\n",
        "\n",
        "# Define the objective\n",
        "o = {0: o_0, 1: o_1, 2: o_2, 3: o_3}\n",
        "model += o[0]*V[0] + o[3]*V[1] + o[2]*V[2]\n",
        "\n",
        "# Define the constraints\n",
        "model += o[0]*I[0] + o[3]*I[1] + o[2]*I[2] <= 4600, 'budget constraint'\n",
        "model += o[3] <= o[0]\n",
        "model += o[3] <= o[1]\n",
        "model += o[3] >= o[0] + o[1] - 1\n",
        "\n",
        "status = model.solve()\n",
        "print(f\"{'Optimal found' if status == 1 else 'Ignore solution'}\")\n",
        "\n",
        "for i, name in enumerate(names):\n",
        "    print(f\"{name}: {'accepted' if o[i].varValue == 1 else 'rejected'}\")\n",
        "print(f'Total profit = ${value(model.objective)}')\n",
        "\n"
      ],
      "metadata": {
        "colab": {
          "base_uri": "https://localhost:8080/",
          "height": 258
        },
        "id": "n8DAJzClx_7O",
        "outputId": "c539ebb8-661f-456e-da57-55035c10cea4"
      },
      "execution_count": null,
      "outputs": [
        {
          "output_type": "error",
          "ename": "NameError",
          "evalue": "name 'o_0' is not defined",
          "traceback": [
            "\u001b[0;31m---------------------------------------------------------------------------\u001b[0m",
            "\u001b[0;31mNameError\u001b[0m                                 Traceback (most recent call last)",
            "\u001b[0;32m<ipython-input-21-3454856a01a7>\u001b[0m in \u001b[0;36m<cell line: 9>\u001b[0;34m()\u001b[0m\n\u001b[1;32m      7\u001b[0m \u001b[0;34m\u001b[0m\u001b[0m\n\u001b[1;32m      8\u001b[0m \u001b[0;31m# Define the objective\u001b[0m\u001b[0;34m\u001b[0m\u001b[0;34m\u001b[0m\u001b[0m\n\u001b[0;32m----> 9\u001b[0;31m \u001b[0mo\u001b[0m \u001b[0;34m=\u001b[0m \u001b[0;34m{\u001b[0m\u001b[0;36m0\u001b[0m\u001b[0;34m:\u001b[0m \u001b[0mo_0\u001b[0m\u001b[0;34m,\u001b[0m \u001b[0;36m1\u001b[0m\u001b[0;34m:\u001b[0m \u001b[0mo_1\u001b[0m\u001b[0;34m,\u001b[0m \u001b[0;36m2\u001b[0m\u001b[0;34m:\u001b[0m \u001b[0mo_2\u001b[0m\u001b[0;34m,\u001b[0m \u001b[0;36m3\u001b[0m\u001b[0;34m:\u001b[0m \u001b[0mo_3\u001b[0m\u001b[0;34m}\u001b[0m\u001b[0;34m\u001b[0m\u001b[0;34m\u001b[0m\u001b[0m\n\u001b[0m\u001b[1;32m     10\u001b[0m \u001b[0mmodel\u001b[0m \u001b[0;34m+=\u001b[0m \u001b[0mo\u001b[0m\u001b[0;34m[\u001b[0m\u001b[0;36m0\u001b[0m\u001b[0;34m]\u001b[0m\u001b[0;34m*\u001b[0m\u001b[0mV\u001b[0m\u001b[0;34m[\u001b[0m\u001b[0;36m0\u001b[0m\u001b[0;34m]\u001b[0m \u001b[0;34m+\u001b[0m \u001b[0mo\u001b[0m\u001b[0;34m[\u001b[0m\u001b[0;36m3\u001b[0m\u001b[0;34m]\u001b[0m\u001b[0;34m*\u001b[0m\u001b[0mV\u001b[0m\u001b[0;34m[\u001b[0m\u001b[0;36m1\u001b[0m\u001b[0;34m]\u001b[0m \u001b[0;34m+\u001b[0m \u001b[0mo\u001b[0m\u001b[0;34m[\u001b[0m\u001b[0;36m2\u001b[0m\u001b[0;34m]\u001b[0m\u001b[0;34m*\u001b[0m\u001b[0mV\u001b[0m\u001b[0;34m[\u001b[0m\u001b[0;36m2\u001b[0m\u001b[0;34m]\u001b[0m\u001b[0;34m\u001b[0m\u001b[0;34m\u001b[0m\u001b[0m\n\u001b[1;32m     11\u001b[0m \u001b[0;34m\u001b[0m\u001b[0m\n",
            "\u001b[0;31mNameError\u001b[0m: name 'o_0' is not defined"
          ]
        }
      ]
    },
    {
      "cell_type": "code",
      "source": [
        "import pulp\n",
        "\n",
        "# Define profits and investments\n",
        "V = [250, 200, 300]   # Profits for A, B, C\n",
        "I = [2000, 1900, 2500] # Investments for A, B, C\n",
        "\n",
        "# Project names\n",
        "names = [\"A\", \"AB\", \"C\"]\n",
        "\n",
        "# Initialize the LP problem\n",
        "model = pulp.LpProblem(\"Capital_Budgeting\", pulp.LpMaximize)\n",
        "\n",
        "# Define binary decision variables for selecting projects A, B, and C\n",
        "o = [pulp.LpVariable(f\"o_{name}\", cat='Binary') for name in names]\n",
        "\n",
        "# Define the objective: maximize the total profit\n",
        "model += o[0] * V[0] + o[1] * V[1] + o[2] * V[2], \"Total_Profit\"\n",
        "\n",
        "# Define the constraints\n",
        "model += o[0] * I[0] + o[1] * I[1] + o[2] * I[2] <= 4600, 'Budget_Constraint'\n",
        "model += o[1] <= o[0], \"Prerequisite_Constraint_B_A\"  # B can only be selected if A is selected\n",
        "\n",
        "# Solve the problem\n",
        "status = model.solve()\n",
        "\n",
        "# Print the status of the solution\n",
        "print(f\"{'Optimal found' if status == 1 else 'Ignore solution'}\")\n",
        "\n",
        "# Output results: whether each project is accepted or rejected\n",
        "for i, name in enumerate(names):\n",
        "    print(f\"Project {name}: {'accepted' if o[i].varValue == 1 else 'rejected'}\")\n",
        "\n",
        "# Output the total profit\n",
        "print(f\"Total profit = ${pulp.value(model.objective)}\")\n",
        "\"\"\" Excellent! Projects A and C are selected, but there isn't enough budget to pick up B as well even if we have completed the prerequisite. \"\"\""
      ],
      "metadata": {
        "colab": {
          "base_uri": "https://localhost:8080/"
        },
        "id": "ge_IXg-jzR3U",
        "outputId": "74d2a2bf-492c-4fdf-a20f-5100275953e0"
      },
      "execution_count": null,
      "outputs": [
        {
          "output_type": "stream",
          "name": "stdout",
          "text": [
            "Optimal found\n",
            "Project A: accepted\n",
            "Project AB: rejected\n",
            "Project C: accepted\n",
            "Total profit = $550.0\n"
          ]
        }
      ]
    },
    {
      "cell_type": "markdown",
      "source": [
        "**Allocating Resources**\n",
        "\n",
        "Nice work, time to solve the next problem you were introduced to.\n",
        "\n",
        "A manager allocates 120 tasks to a senior (S), a junior (J), and an intern (I) software engineer and wants to minimize costs.\n",
        "\n",
        "The intern requires training that costs $500 prior to working on the tasks. The cost to resolve each task is c = [30, 40, 5] respectively.\n",
        "\n",
        "x holds the number of assigned tasks, and o is the binary variable for whether the intern receives training. The total cost is:\n",
        "\n",
        "TC = 30 * x_S + 40 * x_J + (5 * x_I + 500) * o\n",
        "\n",
        "Use the BigM method to linearize this problem using the new variable z:\n",
        "\n",
        "z = (5 * x_I + 500) * o\n",
        "\n",
        "-o * M ≤ z ≤ o * M\n",
        "\n",
        "-(1 - o) * M ≤ z - (5 * x_I + 500) * o ≤ (1 - o) * M\n",
        "\n",
        "pulp, along with a model, parameters c, M, and names, and variables x, z, o have already been imported for you.\n"
      ],
      "metadata": {
        "id": "R2oTHSRhzivh"
      }
    },
    {
      "cell_type": "code",
      "source": [
        "import pulp\n",
        "\n",
        "# Define the costs per task for Senior (S), Junior (J), and Intern (I)\n",
        "c = [30, 40, 5]  # Cost per task for S, J, and I\n",
        "M = 10000  # A large number for BigM method\n",
        "names = [\"Senior\", \"Junior\", \"Intern\"]\n",
        "\n",
        "# Initialize the model\n",
        "model = pulp.LpProblem(\"Task_Allocation\", pulp.LpMinimize)\n",
        "\n",
        "# Define decision variables\n",
        "x = [pulp.LpVariable(f\"x_{names[i]}\", lowBound=0, cat='Continuous') for i in range(3)]  # Tasks assigned to each\n",
        "o = pulp.LpVariable(\"o_Intern\", cat='Binary')  # Binary variable for Intern training\n",
        "z = pulp.LpVariable(\"z\", lowBound=0, cat='Continuous')  # Cost variable for intern\n",
        "\n",
        "# Define the objective function (minimize total cost)\n",
        "model += c[0] * x[0] + c[1] * x[1] + z, \"Total_Cost\"\n",
        "\n",
        "# Define the constraints for BigM method and task distribution\n",
        "model += -o * M <= z, \"BigM_lower_bound\"\n",
        "model += z <= o * M, \"BigM_upper_bound\"\n",
        "model += -(1 - o) * M <= z - (c[2] * x[2] + 500), \"BigM_constraint_lower\"\n",
        "model += z - (c[2] * x[2] + 500) <= (1 - o) * M, \"BigM_constraint_upper\"\n",
        "model += pulp.lpSum(x) == 120, \"Total_Tasks\"\n",
        "\n",
        "# Solve the model\n",
        "status = model.solve()\n",
        "\n",
        "# Output the results\n",
        "print(f\"{'Optimal found' if status == 1 else 'Ignore solution'}\")\n",
        "\n",
        "for i in range(len(c)):\n",
        "    print(f\"{names[i]} was assigned {x[i].varValue:.0f} tasks\")\n",
        "\n",
        "print(f\"Total cost = ${pulp.value(model.objective):.2f}\")\n",
        "\"\"\" Great job! You now know how to use BigM to deal with product terms of binary * continuous variables. \"\"\""
      ],
      "metadata": {
        "colab": {
          "base_uri": "https://localhost:8080/"
        },
        "id": "xuDGUJ2UHw8f",
        "outputId": "3f78ca2a-8c41-4822-b4b4-9270d884c068"
      },
      "execution_count": null,
      "outputs": [
        {
          "output_type": "stream",
          "name": "stdout",
          "text": [
            "Optimal found\n",
            "Senior was assigned 0 tasks\n",
            "Junior was assigned 0 tasks\n",
            "Intern was assigned 120 tasks\n",
            "Total cost = $0.00\n"
          ]
        }
      ]
    },
    {
      "cell_type": "markdown",
      "source": [
        "**Find the global optimum**\n",
        "\n",
        "You've been provided with the following profit maximization problem and are tasked with finding the global maximum.\n",
        "\n",
        "Π = - (1/4) * q^4 + 11 * q^3 - 160 * q^2 + 900 * q\n",
        "\n",
        "0 is a natural lower bound for quantity, and you observed that at q = 30, profit is negative, so 30 is a good candidate for an upper bound.\n",
        "\n",
        "Find the global optimum for this problem.\n",
        "\n",
        "basinhopping has been imported for you.\n"
      ],
      "metadata": {
        "id": "gP8T8YHiJOXR"
      }
    },
    {
      "cell_type": "code",
      "source": [
        "from scipy.optimize import basinhopping\n",
        "def profit(q):\n",
        "\treturn -q**4 / 4 + 11 * q**3 - 160 * q**2 + 900 * q\n",
        "\n",
        "x0 = 0\n",
        "\n",
        "# Define the keyword arguments for bounds\n",
        "kwargs = {\"bounds\": [(0, 30)]}\n",
        "\n",
        "# Run basinhopping to find the optimal quantity\n",
        "result = basinhopping(lambda q: -profit(q), x0, minimizer_kwargs=kwargs)\n",
        "\n",
        "print(f\"{result.message}\")\n",
        "print(f\"The maximum according to basinhopping(x0={x0}) is at {result.x[0]:.2f}\\n\")\n",
        "\n",
        "\"\"\" Perfect! The global maximum is 18. \"\"\"\n",
        "\" Perfect! The global maximum is 18. \""
      ],
      "metadata": {
        "colab": {
          "base_uri": "https://localhost:8080/",
          "height": 108
        },
        "id": "6IF10jZ_JWWw",
        "outputId": "dd8be10a-a1e4-42ba-a447-2ddb741917ba"
      },
      "execution_count": null,
      "outputs": [
        {
          "output_type": "stream",
          "name": "stdout",
          "text": [
            "['requested number of basinhopping iterations completed successfully']\n",
            "The maximum according to basinhopping(x0=0) is at 18.00\n",
            "\n"
          ]
        },
        {
          "output_type": "execute_result",
          "data": {
            "text/plain": [
              "' Perfect! The global maximum is 18. '"
            ],
            "application/vnd.google.colaboratory.intrinsic+json": {
              "type": "string"
            }
          },
          "metadata": {},
          "execution_count": 26
        }
      ]
    },
    {
      "cell_type": "markdown",
      "source": [
        "**Using callback**\n",
        "\n",
        "You want to find the two highest maxima of a profit function and you have decided to use callback to collect the optima found and then select the top two values.\n",
        "\n",
        "First, you will complete the callback function. You will check if the value of the objective currently examined by basinhopping is accepted as optimum, and if so, you will append it to a list opt_values. Afterwards you will run basinhopping with the callback function you just defined.\n",
        "\n",
        "basinhopping has been imported for you. The initial guess, x0, kwargs, and profit, function have already been defined for you."
      ],
      "metadata": {
        "id": "ITsfwP7ZJh5A"
      }
    },
    {
      "cell_type": "code",
      "source": [
        "opt_values = []\n",
        "\n",
        "def callback(x, f, accept):\n",
        "# Check if the candidate is an optimum\n",
        "    if accept:\n",
        "# Append the value of the minimized objective to list opt_values\n",
        "        opt_values.append(f)\n",
        "\n",
        "# Run basinhopping to find top two maxima\n",
        "result = basinhopping(lambda q: -profit(q), x0, callback=callback, minimizer_kwargs=kwargs, niter=5, seed=3)\n",
        "top2 = sorted(list(set([round(f, 2) for f in opt_values])), reverse=True)[:2]\n",
        "top2 = [-f for f in top2]\n",
        "\n",
        "print(f\"{result.message}\\nThe highest two values are {top2}\")\n",
        "\n",
        "\" Excellent! You have mastered using callback! Callback is very useful both to find many local optima and to debug if needed. The top values found here are 1718.75 and 2268.0. \""
      ],
      "metadata": {
        "colab": {
          "base_uri": "https://localhost:8080/"
        },
        "id": "Bd6Jv6G3Jpbx",
        "outputId": "b6a1884e-c83b-4b7a-d985-f0d39a8fda85"
      },
      "execution_count": null,
      "outputs": [
        {
          "output_type": "stream",
          "name": "stdout",
          "text": [
            "['requested number of basinhopping iterations completed successfully']\n",
            "The highest two values are [2268.0]\n"
          ]
        },
        {
          "output_type": "execute_result",
          "data": {
            "text/plain": [
              "' Excellent! You have mastered using callback! Callback is very useful both to find many local optima and to debug if needed. The top values found here are 1718.75 and 2268.0. '"
            ],
            "application/vnd.google.colaboratory.intrinsic+json": {
              "type": "string"
            }
          },
          "metadata": {},
          "execution_count": 27
        }
      ]
    },
    {
      "cell_type": "markdown",
      "source": [
        "**Slack and shadow price**\n",
        "\n",
        "Which of the following accurately describes the concept of \"slack\" (as a noun) in linear programming?\n",
        "\n",
        "\n",
        "- Slack denotes the amount added to the left-hand side of a constraint to make it binding\n",
        "- That's right! Slack is indeed the amount added to the left-hand side of a constraint to make it binding."
      ],
      "metadata": {
        "id": "oETXw6VBLDiY"
      }
    },
    {
      "cell_type": "markdown",
      "source": [
        "**Shadow prices with juice**\n",
        "\n",
        "A firm is employing two machines M1 and M2 to put grapefruit juice (g) and orange juice (o) in bottles. Its goal is to maximize profit subject to the constraints:\n",
        "\n",
        "M1: 6g + 5.5o ≤ 40  \n",
        "M2: 3g + 2.5o ≤ 20\n",
        "\n",
        "The constraints reflect the productivity and availability of machines. For example, M1 is available for 40 hours per week and needs 6 hours to bottle 1 ton of grapefruit juice and 5.5 hours for a ton of orange juice.\n",
        "\n",
        "There is an additional supply constraint where the firm only receives a maximum of 6 tons of grapefruit a week, and 12 tons of oranges. These are the upper bounds.\n",
        "\n",
        "pulp has been imported for you and model has been defined as well as the variables g and o for grapefruit and orange juice.\n"
      ],
      "metadata": {
        "id": "xusbSEz5LV-6"
      }
    },
    {
      "cell_type": "code",
      "source": [
        "import pulp\n",
        "from pulp import LpProblem, LpMaximize, LpVariable, LpStatus, value\n",
        "\n",
        "# Define the model\n",
        "model = LpProblem(\"Juice_Bottling\", LpMaximize)\n",
        "\n",
        "# Define the decision variables\n",
        "g = LpVariable(\"Grapefruit_Juice\", lowBound=0)  # Tons of grapefruit juice\n",
        "o = LpVariable(\"Orange_Juice\", lowBound=0)      # Tons of orange juice\n",
        "\n",
        "# Define the objective function (profit maximization)\n",
        "# Assuming profit per ton of grapefruit juice is $P1 and for orange juice is $P2\n",
        "profit_per_g = 10  # Example profit for grapefruit juice\n",
        "profit_per_o = 8   # Example profit for orange juice\n",
        "model += profit_per_g * g + profit_per_o * o, \"Total_Profit\"\n",
        "\n",
        "# Define the constraints\n",
        "model += 6 * g + 5.5 * o <= 40, \"Machine1_Capacity\"  # M1 constraint\n",
        "model += 3 * g + 2.5 * o <= 20, \"Machine2_Capacity\"  # M2 constraint\n",
        "model += g <= 6, \"Grapefruit_Supply\"  # Supply constraint for grapefruit\n",
        "model += o <= 12, \"Orange_Supply\"      # Supply constraint for orange\n",
        "\n",
        "# Solve the model\n",
        "status = model.solve()\n",
        "\n",
        "# Print results\n",
        "print(LpStatus[model.status])\n",
        "print(f'The optimal amount of {g.name} embottled is: {g.varValue:.2f} tons')\n",
        "print(f'The optimal amount of {o.name} embottled is: {o.varValue:.2f} tons')\n",
        "\n",
        "# Print shadow prices and slacks for the constraints\n",
        "for name, c in model.constraints.items():\n",
        "    # Check if shadow value is positive\n",
        "    if c.pi > 0:\n",
        "        # Display the marginal increase in profit when the constraint is relaxed\n",
        "        print(f\"Increasing the capacity of {name} by one unit would increase profit by {c.pi:.2f} units.\")\n",
        "    else:\n",
        "        # Display the slack, or unused capacity, of the constraint\n",
        "        print(f\"{name} has {c.slack:.2f} units of unused capacity.\")\n",
        "\n",
        "print(\"Excellent! You have mastered how to identify which constraint is most beneficial to relax and which is non-binding.\")\n"
      ],
      "metadata": {
        "colab": {
          "base_uri": "https://localhost:8080/"
        },
        "id": "GPr0i-HGLwon",
        "outputId": "d39ff28a-2221-4283-96df-80a2d0df88f2"
      },
      "execution_count": null,
      "outputs": [
        {
          "output_type": "stream",
          "name": "stdout",
          "text": [
            "Optimal\n",
            "The optimal amount of Grapefruit_Juice embottled is: 6.00 tons\n",
            "The optimal amount of Orange_Juice embottled is: 0.73 tons\n",
            "Increasing the capacity of Machine1_Capacity by one unit would increase profit by 1.45 units.\n",
            "Machine2_Capacity has 0.18 units of unused capacity.\n",
            "Increasing the capacity of Grapefruit_Supply by one unit would increase profit by 1.27 units.\n",
            "Orange_Supply has 11.27 units of unused capacity.\n",
            "Excellent! You have mastered how to identify which constraint is most beneficial to relax and which is non-binding.\n"
          ]
        }
      ]
    },
    {
      "cell_type": "markdown",
      "source": [
        "**The diet problem revisited**\n",
        "\n",
        "You are reviewing the financials for a farmer who asked you to revisit the diet of his pigs and cut on the cost if possible. The current cost minimization diet is based on the vet's recommendation for at least 17% protein, 2% fat, 7lb food following specifications\n",
        "\n",
        "\n",
        "You have the information that the 7 lb was a rounded figure and could decrease to 6.6 lb. You are asked to see how changing the weight or fat constraints one at a time affects the minimum cost. You will solve the original problem as is and examine the slack and shadow price.\n",
        "\n",
        "pulp has been imported for you and model has been defined as well as the variables C and S for corn and soybean."
      ],
      "metadata": {
        "id": "lvzftf3vL2_F"
      }
    },
    {
      "cell_type": "code",
      "source": [
        "import pulp\n",
        "from pulp import LpProblem, LpMinimize, LpVariable, LpStatus, value\n",
        "\n",
        "# Define the model\n",
        "model = LpProblem(\"Diet_Problem_Revisited\", LpMinimize)\n",
        "\n",
        "# Define the decision variables\n",
        "C = LpVariable(\"Corn\", lowBound=0)  # Pounds of corn\n",
        "S = LpVariable(\"Soybean\", lowBound=0)  # Pounds of soybean\n",
        "\n",
        "# Define the cost per pound\n",
        "cost_per_corn = 0.1  # Example cost for corn per pound\n",
        "cost_per_soybean = 0.2  # Example cost for soybean per pound\n",
        "\n",
        "# Define the objective function (minimize cost)\n",
        "model += cost_per_corn * C + cost_per_soybean * S, \"Total_Cost\"\n",
        "\n",
        "# Define the constraints\n",
        "model += C + S >= 7, \"Weight\"  # Original weight constraint\n",
        "model += (0.17 * (C * 0.09 + S * 0.36)) >= 1, \"Protein\"  # Protein constraint (based on 17% protein)\n",
        "model += (0.02 * (C * 0.02 + S * 0.01)) >= 0.12, \"Fat\"  # Fat constraint (based on 2% fat)\n",
        "\n",
        "# Solve the model\n",
        "model.solve()\n",
        "print(f\"Status: {LpStatus[model.status]}\\n\")\n",
        "\n",
        "# Print the optimal solution\n",
        "print(f\"Optimal amount of Corn: {C.varValue:.2f} lbs\")\n",
        "print(f\"Optimal amount of Soybean: {S.varValue:.2f} lbs\")\n",
        "print(f\"Total cost: ${value(model.objective):.2f}\\n\")\n",
        "\n",
        "# Print the slack of the weight constraint\n",
        "print(\"The slack of the Weight constraint is: {:.2f}\".format(model.constraints['Weight'].slack))\n",
        "\n",
        "# Check if the shadow price is greater than 0\n",
        "if model.constraints['Weight'].pi > 0:\n",
        "    print('Tightening the constraint will increase minimum cost.')\n",
        "else:\n",
        "    print('Relaxing the constraint will not affect the minimum cost.')\n",
        "\n",
        "print(\"\\nWell done! You know how to retrieve the slack and the shadow value and most importantly you understand its significance and use!\")\n"
      ],
      "metadata": {
        "colab": {
          "base_uri": "https://localhost:8080/"
        },
        "id": "77hfp5IyMbdf",
        "outputId": "8f30dde9-9236-43a9-88b0-0ec4cd1cba9f"
      },
      "execution_count": null,
      "outputs": [
        {
          "output_type": "stream",
          "name": "stdout",
          "text": [
            "Status: Optimal\n",
            "\n",
            "Optimal amount of Corn: 300.00 lbs\n",
            "Optimal amount of Soybean: 0.00 lbs\n",
            "Total cost: $30.00\n",
            "\n",
            "The slack of the Weight constraint is: -293.00\n",
            "Relaxing the constraint will not affect the minimum cost.\n",
            "\n",
            "Well done! You know how to retrieve the slack and the shadow value and most importantly you understand its significance and use!\n"
          ]
        }
      ]
    },
    {
      "cell_type": "markdown",
      "source": [],
      "metadata": {
        "id": "YQF8yYKs3Oob"
      }
    },
    {
      "cell_type": "code",
      "source": [
        "# The End!!"
      ],
      "metadata": {
        "id": "dO3dBEcK3PIr"
      },
      "execution_count": null,
      "outputs": []
    }
  ]
}