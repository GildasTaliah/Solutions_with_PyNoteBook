{
  "nbformat": 4,
  "nbformat_minor": 0,
  "metadata": {
    "colab": {
      "provenance": [],
      "authorship_tag": "ABX9TyOAq62Ly6ae3/Zi8gc5ihiY",
      "include_colab_link": true
    },
    "kernelspec": {
      "name": "python3",
      "display_name": "Python 3"
    },
    "language_info": {
      "name": "python"
    }
  },
  "cells": [
    {
      "cell_type": "markdown",
      "metadata": {
        "id": "view-in-github",
        "colab_type": "text"
      },
      "source": [
        "<a href=\"https://colab.research.google.com/github/GildasTaliah/Solutions_with_PyNoteBook/blob/main/NumpyBasics.ipynb\" target=\"_parent\"><img src=\"https://colab.research.google.com/assets/colab-badge.svg\" alt=\"Open In Colab\"/></a>"
      ]
    },
    {
      "cell_type": "markdown",
      "source": [
        "# INTRO\n",
        "\n",
        "**NumPy**, short for **Numerical Python**, is a package to perform scientific computing in Python efficaciously. It includes but not limited to: random number generation capabilities, functions for mathematical and statiscal operations and much more."
      ],
      "metadata": {
        "id": "czL1HbTmqNxZ"
      }
    },
    {
      "cell_type": "code",
      "source": [
        "# Install\n",
        "\"Remove '#' to install\"\n",
        "#pip! install numpy"
      ],
      "metadata": {
        "colab": {
          "base_uri": "https://localhost:8080/",
          "height": 42
        },
        "id": "Kg4ROZJP0D-l",
        "outputId": "41ed8d94-ac9b-423f-c3e2-1e132eb75b32"
      },
      "execution_count": null,
      "outputs": [
        {
          "output_type": "execute_result",
          "data": {
            "text/plain": [
              "\"Remove '#' to install\""
            ],
            "application/vnd.google.colaboratory.intrinsic+json": {
              "type": "string"
            }
          },
          "metadata": {},
          "execution_count": 1
        }
      ]
    },
    {
      "cell_type": "code",
      "source": [
        "# import numpy package\n",
        "import numpy as np"
      ],
      "metadata": {
        "id": "44tGszHA0VFU"
      },
      "execution_count": null,
      "outputs": []
    },
    {
      "cell_type": "markdown",
      "source": [
        "# NumPy Arrays\n",
        "Numpy arrays are good replacements for python list, for the allow efficient array operations.\n",
        "\n",
        "Below we compute put call parity ratio using: Put and Call options volume"
      ],
      "metadata": {
        "id": "C6Nbuv3fzQ2a"
      }
    },
    {
      "cell_type": "code",
      "source": [
        "# puts\n",
        "put_l = list([29, 59.01, 87.21, 129.03, 50.55])\n",
        "\n",
        "# coreeponding calls\n",
        "call_l = [89, 13.01, 67.21, 149.03, 49.55 ]\n",
        "\n",
        "# Compute Put Call Parity\n",
        "put_l/call_l"
      ],
      "metadata": {
        "colab": {
          "base_uri": "https://localhost:8080/",
          "height": 214
        },
        "id": "rr0OModB2U21",
        "outputId": "b29d5464-017f-42b2-e694-07c7262025fa"
      },
      "execution_count": null,
      "outputs": [
        {
          "output_type": "error",
          "ename": "TypeError",
          "evalue": "unsupported operand type(s) for /: 'list' and 'list'",
          "traceback": [
            "\u001b[0;31m---------------------------------------------------------------------------\u001b[0m",
            "\u001b[0;31mTypeError\u001b[0m                                 Traceback (most recent call last)",
            "\u001b[0;32m<ipython-input-3-9a2cb87d5df2>\u001b[0m in \u001b[0;36m<cell line: 8>\u001b[0;34m()\u001b[0m\n\u001b[1;32m      6\u001b[0m \u001b[0;34m\u001b[0m\u001b[0m\n\u001b[1;32m      7\u001b[0m \u001b[0;31m# Compute Put Call Parity\u001b[0m\u001b[0;34m\u001b[0m\u001b[0;34m\u001b[0m\u001b[0m\n\u001b[0;32m----> 8\u001b[0;31m \u001b[0mput_l\u001b[0m\u001b[0;34m/\u001b[0m\u001b[0mcall_l\u001b[0m\u001b[0;34m\u001b[0m\u001b[0;34m\u001b[0m\u001b[0m\n\u001b[0m",
            "\u001b[0;31mTypeError\u001b[0m: unsupported operand type(s) for /: 'list' and 'list'"
          ]
        }
      ]
    },
    {
      "cell_type": "code",
      "source": [
        "put, call = np.array(put_l), np.array(call_l)\n",
        "pcr = put/call\n",
        "pcr"
      ],
      "metadata": {
        "colab": {
          "base_uri": "https://localhost:8080/"
        },
        "id": "_q442ERY2X-W",
        "outputId": "94b9505e-9482-48e6-ea57-77243d7162b3"
      },
      "execution_count": null,
      "outputs": [
        {
          "output_type": "execute_result",
          "data": {
            "text/plain": [
              "array([0.3258427 , 4.53574174, 1.29757477, 0.86579883, 1.02018163])"
            ]
          },
          "metadata": {},
          "execution_count": 5
        }
      ]
    },
    {
      "cell_type": "code",
      "source": [
        "# Addition\n",
        "print(put_l + call_l)    # Can add list, but just appending\n",
        "print(put + call)\n",
        "\n",
        "# Subtraction\n",
        "#print(put_l - call_l).  # Can't subtract list element\n",
        "print(put - call)\n",
        "\n",
        "# Multiplication\n",
        "#print(put_l * call_l).  # Can't multiply list element\n",
        "print(put * call)\n",
        "\n",
        "# Division\n",
        "#print(put_l / call_l).  # Can't Divide list\n",
        "print(put / call)"
      ],
      "metadata": {
        "colab": {
          "base_uri": "https://localhost:8080/"
        },
        "id": "06kUd5JY28uL",
        "outputId": "d3a64cb2-9d00-44f1-a6db-9e6dfa1fe9d6"
      },
      "execution_count": null,
      "outputs": [
        {
          "output_type": "stream",
          "name": "stdout",
          "text": [
            "[29, 59.01, 87.21, 129.03, 50.55, 89, 13.01, 67.21, 149.03, 49.55]\n",
            "[118.    72.02 154.42 278.06 100.1 ]\n",
            "[-60.  46.  20. -20.   1.]\n",
            "[ 2581.       767.7201  5861.3841 19229.3409  2504.7525]\n",
            "[0.3258427  4.53574174 1.29757477 0.86579883 1.02018163]\n"
          ]
        }
      ]
    },
    {
      "cell_type": "markdown",
      "source": [
        "# Checking Arrays"
      ],
      "metadata": {
        "id": "8-kL2wRzzQ5Q"
      }
    },
    {
      "cell_type": "code",
      "source": [
        "type(put)"
      ],
      "metadata": {
        "colab": {
          "base_uri": "https://localhost:8080/"
        },
        "id": "icwPssed3sqH",
        "outputId": "77b16ce8-f3ad-42bf-cdba-eef950a532f8"
      },
      "execution_count": null,
      "outputs": [
        {
          "output_type": "execute_result",
          "data": {
            "text/plain": [
              "numpy.ndarray"
            ]
          },
          "metadata": {},
          "execution_count": 7
        }
      ]
    },
    {
      "cell_type": "code",
      "source": [
        "type(np.array([put, call]))"
      ],
      "metadata": {
        "colab": {
          "base_uri": "https://localhost:8080/"
        },
        "id": "AYWoFDj93wbS",
        "outputId": "6b19e3c6-3b40-4aef-9158-86e586d5c785"
      },
      "execution_count": null,
      "outputs": [
        {
          "output_type": "execute_result",
          "data": {
            "text/plain": [
              "numpy.ndarray"
            ]
          },
          "metadata": {},
          "execution_count": 8
        }
      ]
    },
    {
      "cell_type": "markdown",
      "source": [
        "|-|-|\n",
        "|-|-|\n",
        "|Text Type:\t| str|\n",
        "|-|-|\n",
        "|Numeric Types:\t|int, float, complex|\n",
        "|Sequence Types:\t|list, tuple, range|\n",
        "|Mapping Type:|\tdict|\n",
        "|Set Types:\t|set, frozenset|\n",
        "|Boolean Type:\t|bool|\n",
        "|Binary Types:\t|bytes, bytearray, memoryview|\n",
        "|-|-|\n",
        "|None Type:\t|NoneType|\n",
        "|-|-|\n"
      ],
      "metadata": {
        "id": "F1nXYagF5N-1"
      }
    },
    {
      "cell_type": "code",
      "source": [
        "## Data types\n",
        "np.array([5.01, 'Python Solutions', 2, True, 'Continets', False])"
      ],
      "metadata": {
        "colab": {
          "base_uri": "https://localhost:8080/"
        },
        "id": "rzJTv2oK4pd0",
        "outputId": "6c794299-a2b4-42db-fef2-91b7ed331236"
      },
      "execution_count": null,
      "outputs": [
        {
          "output_type": "execute_result",
          "data": {
            "text/plain": [
              "array(['5.01', 'Python Solutions', '2', 'True', 'Continets', 'False'],\n",
              "      dtype='<U32')"
            ]
          },
          "metadata": {},
          "execution_count": 9
        }
      ]
    },
    {
      "cell_type": "code",
      "source": [
        "for ele in np.array([5.01, 'Python Solutions', 2, True, 'Continets']):\n",
        "    print(type(ele))\n",
        "\n",
        "for ele in np.array([5.01, 4, 3.78, 2]):\n",
        "    print(ele.dtype)\n",
        "\n",
        "for ele in np.array([5, 4, 2, 3]):\n",
        "    print(type(ele))"
      ],
      "metadata": {
        "colab": {
          "base_uri": "https://localhost:8080/"
        },
        "id": "PXAH_W22zRRL",
        "outputId": "4c9062f6-06b2-4204-847e-f823e34f3f61"
      },
      "execution_count": null,
      "outputs": [
        {
          "output_type": "stream",
          "name": "stdout",
          "text": [
            "<class 'numpy.str_'>\n",
            "<class 'numpy.str_'>\n",
            "<class 'numpy.str_'>\n",
            "<class 'numpy.str_'>\n",
            "<class 'numpy.str_'>\n",
            "float64\n",
            "float64\n",
            "float64\n",
            "float64\n",
            "<class 'numpy.int64'>\n",
            "<class 'numpy.int64'>\n",
            "<class 'numpy.int64'>\n",
            "<class 'numpy.int64'>\n"
          ]
        }
      ]
    },
    {
      "cell_type": "markdown",
      "source": [
        "# Random Numbers"
      ],
      "metadata": {
        "id": "8hrgpbyjGx87"
      }
    },
    {
      "cell_type": "code",
      "source": [
        "# Random number between 0 and 1, with random.rand function from numpy\n",
        "\n",
        "# single\n",
        "print(np.random.rand(), '\\n')\n",
        "\n",
        "# 1-d\n",
        "print(np.random.rand(5))\n",
        "# 2-d\n",
        "print(np.random.rand(2, 3))\n",
        "print()\n",
        "\n",
        "# Generate ranndom interval between 0 and 6.\n",
        "print(np.random.randint(6))\n",
        "# Generate ranndom interval between 0 and 6.\n",
        "print(np.random.randint(6, 10))\n",
        "# Generate ranndom interval between 0 and 6. 1-d\n",
        "print(np.random.randint(6, 10, 5))\n",
        "# Generate ranndom interval between 0 and 6. 2-d\n",
        "print(np.random.randint(6, 10, (2, 3)))\n",
        "\n",
        "\n",
        "# Generate random float\n",
        "print()\n",
        "print(np.random.random())\n",
        "# Generate random float. 1-d\n",
        "print(np.random.random(5))\n",
        "# Generate random float. 2-d\n",
        "print(np.random.random((2, 3)))\n",
        "\n",
        "# Generate intergers between 100 and 120\n",
        "print()\n",
        "print(np.random.randint(100, 120))\n",
        "# Generate intergers. 1-d\n",
        "print(np.random.randint(100, size=5))\n",
        "# Generate intergers. 2-d\n",
        "print(np.random.randint(100, size=(2, 3)))"
      ],
      "metadata": {
        "colab": {
          "base_uri": "https://localhost:8080/"
        },
        "id": "Wgm5O8rxzRUU",
        "outputId": "28c382a8-438a-4a25-e861-217cbdc88341"
      },
      "execution_count": null,
      "outputs": [
        {
          "output_type": "stream",
          "name": "stdout",
          "text": [
            "0.40889863683415706 \n",
            "\n",
            "[0.95077179 0.54322487 0.36559624 0.57453689 0.68976233]\n",
            "[[0.32430284 0.45068109 0.15734899]\n",
            " [0.83212898 0.79860915 0.08890259]]\n",
            "\n",
            "4\n",
            "8\n",
            "[9 6 6 9 6]\n",
            "[[8 9 7]\n",
            " [8 9 6]]\n",
            "\n",
            "0.3084777352810649\n",
            "[0.61567972 0.72241126 0.94258006 0.59398729 0.32597384]\n",
            "[[0.01414453 0.56207471 0.85787076]\n",
            " [0.9633898  0.42186184 0.75792486]]\n",
            "\n",
            "119\n",
            "[20  1 63 92 43]\n",
            "[[22 76 19]\n",
            " [31 54 60]]\n"
          ]
        }
      ]
    },
    {
      "cell_type": "markdown",
      "source": [
        "# Array Creation"
      ],
      "metadata": {
        "id": "6o3Uj3hfKeeC"
      }
    },
    {
      "cell_type": "code",
      "source": [
        "# Create 1-d array of zeros\n",
        "print(np.zeros(5))\n",
        "print(np.zeros(5, dtype=int))\n",
        "\n",
        "# Create 2-d array of zeros\n",
        "print(np.zeros((2, 3), '\\n'))\n",
        "\n",
        "\n",
        "# create 1-d array of ones\n",
        "print(np.ones(5))\n",
        "print(np.ones(5, dtype=int))\n",
        "\n",
        "# Create 2-d array of ones\n",
        "print(np.ones((2, 3)), '\\n')\n",
        "\n",
        "# Create a 1-dimensional array with value as 75\n",
        "print(np.full(5, 75))\n",
        "\n",
        "# Create a two-dimensional array with value as 55\n",
        "print(np.full((2, 3), 55))\n",
        "\n",
        "# Create an array with only stop argument\n",
        "print(np.arange(5) )\n",
        "\n",
        "# Create an array with intervals and step value as 0.5\n",
        "print(np.arange(24.25, 41, 0.75), '\\n')\n",
        "\n",
        "# Create evenly spaced array with 10 numbers within interval -5 to 10\n",
        "np.linspace(-5, 10, num=10)\n",
        "\n",
        "# Creat an array excluding end value\n",
        "np.linspace(2.0, 3.0, num=5, endpoint=False)"
      ],
      "metadata": {
        "colab": {
          "base_uri": "https://localhost:8080/"
        },
        "id": "BLyJa4ZSKdcu",
        "outputId": "85e7391c-def6-4806-ee01-4d938ad2e993"
      },
      "execution_count": null,
      "outputs": [
        {
          "output_type": "stream",
          "name": "stdout",
          "text": [
            "[0. 0. 0. 0. 0.]\n",
            "[0 0 0 0 0]\n",
            "[[0 0 0]\n",
            " [0 0 0]]\n",
            "[1. 1. 1. 1. 1.]\n",
            "[1 1 1 1 1]\n",
            "[[1. 1. 1.]\n",
            " [1. 1. 1.]] \n",
            "\n",
            "[75 75 75 75 75]\n",
            "[[55 55 55]\n",
            " [55 55 55]]\n",
            "[0 1 2 3 4]\n",
            "[24.25 25.   25.75 26.5  27.25 28.   28.75 29.5  30.25 31.   31.75 32.5\n",
            " 33.25 34.   34.75 35.5  36.25 37.   37.75 38.5  39.25 40.   40.75] \n",
            "\n"
          ]
        },
        {
          "output_type": "execute_result",
          "data": {
            "text/plain": [
              "array([2. , 2.2, 2.4, 2.6, 2.8])"
            ]
          },
          "metadata": {},
          "execution_count": 12
        }
      ]
    },
    {
      "cell_type": "markdown",
      "source": [
        "# Prob Distributions"
      ],
      "metadata": {
        "id": "-9x-Tm0MzUHZ"
      }
    },
    {
      "cell_type": "code",
      "source": [
        "# Generate random numbers from a standard normal normal distribution\n",
        "num = [np.random.randn() for _ in range(10)]\n",
        "print(np.round(num,4))\n",
        "\n",
        "# Generate a 2-dimensional array over N(0, 1)\n",
        "norm = np.random.randn(5, 2)\n",
        "print(norm)\n",
        "norm.T"
      ],
      "metadata": {
        "colab": {
          "base_uri": "https://localhost:8080/"
        },
        "id": "i7vItmhWzReN",
        "outputId": "df88826d-f896-4db4-8ada-53e6cfda0ad7"
      },
      "execution_count": null,
      "outputs": [
        {
          "output_type": "stream",
          "name": "stdout",
          "text": [
            "[ 0.743   0.8638 -0.2321 -0.3538 -0.1382 -0.5687  0.1328 -0.0886 -0.6696\n",
            " -0.0922]\n",
            "[[ 2.15213433 -1.62309421]\n",
            " [ 0.02583727  1.15048094]\n",
            " [-0.219447    1.47539779]\n",
            " [ 0.34993881  0.20444893]\n",
            " [ 0.76039088  0.60932799]]\n"
          ]
        },
        {
          "output_type": "execute_result",
          "data": {
            "text/plain": [
              "array([[ 2.15213433,  0.02583727, -0.219447  ,  0.34993881,  0.76039088],\n",
              "       [-1.62309421,  1.15048094,  1.47539779,  0.20444893,  0.60932799]])"
            ]
          },
          "metadata": {},
          "execution_count": 13
        }
      ]
    },
    {
      "cell_type": "code",
      "source": [
        "# Binomial Dist\n",
        "# Number of trials, probability of each trial\n",
        "n, p = 1, 0.5\n",
        "\n",
        "# Flip a coin once and repeat  50 times\n",
        "samples = np.random.binomial(n, p, 50)\n",
        "\n",
        "# How many heads(1), from that ?\n",
        "print('For each trial of one', samples)\n",
        "print(np.sum(samples))\n",
        "\n",
        "# Flip a coin 5 times, and repeat  50 times\n",
        "n = 5\n",
        "samples = np.random.binomial(n, p, 50)\n",
        "\n",
        "print('For each trial of five', samples)\n",
        "print(np.sum(samples))\n",
        "# Average head from each of the 50 times\n",
        "print(np.mean(samples))"
      ],
      "metadata": {
        "colab": {
          "base_uri": "https://localhost:8080/"
        },
        "id": "Dc3jwP5e0uiM",
        "outputId": "b101a559-0f7e-4446-c64f-531bfde5a812"
      },
      "execution_count": null,
      "outputs": [
        {
          "output_type": "stream",
          "name": "stdout",
          "text": [
            "For each trial of one [0 1 0 1 0 1 1 1 0 1 0 1 1 0 1 1 0 1 0 0 1 1 0 1 0 1 1 1 1 0 1 1 1 0 1 1 1\n",
            " 0 1 1 1 0 1 0 0 1 1 0 1 0]\n",
            "31\n",
            "For each trial of five [3 0 3 4 4 1 2 3 2 5 5 3 3 1 3 1 4 2 2 5 2 2 3 3 0 3 4 4 4 4 1 3 3 3 3 3 1\n",
            " 2 2 1 2 2 2 3 4 3 5 3 2 2]\n",
            "135\n",
            "2.7\n"
          ]
        }
      ]
    },
    {
      "cell_type": "markdown",
      "source": [
        "# Array Attributes and Methods"
      ],
      "metadata": {
        "id": "TPW9aK8d2paA"
      }
    },
    {
      "cell_type": "code",
      "source": [
        "# check dimensions\n",
        "print(samples, '\\n')\n",
        "print('Number of dim', samples.ndim)\n",
        "print('Shape', samples.shape)\n",
        "print('Size', samples.size)\n",
        "print('Data type', samples.dtype, '\\n')\n",
        "\n",
        "\n",
        "print(norm, '\\n')\n",
        "print('Number of dim', norm.ndim)\n",
        "print('Shape', norm.shape)\n",
        "print(norm.T.shape)\n",
        "print('Size', norm.size)\n",
        "print('Data type', norm.dtype)"
      ],
      "metadata": {
        "colab": {
          "base_uri": "https://localhost:8080/"
        },
        "id": "Mu-qTgqY2ouv",
        "outputId": "60fefc82-edd3-46b5-bddb-28bcbff4a1da"
      },
      "execution_count": null,
      "outputs": [
        {
          "output_type": "stream",
          "name": "stdout",
          "text": [
            "[3 0 3 4 4 1 2 3 2 5 5 3 3 1 3 1 4 2 2 5 2 2 3 3 0 3 4 4 4 4 1 3 3 3 3 3 1\n",
            " 2 2 1 2 2 2 3 4 3 5 3 2 2] \n",
            "\n",
            "Number of dim 1\n",
            "Shape (50,)\n",
            "Size 50\n",
            "Data type int64 \n",
            "\n",
            "[[ 2.15213433 -1.62309421]\n",
            " [ 0.02583727  1.15048094]\n",
            " [-0.219447    1.47539779]\n",
            " [ 0.34993881  0.20444893]\n",
            " [ 0.76039088  0.60932799]] \n",
            "\n",
            "Number of dim 2\n",
            "Shape (5, 2)\n",
            "(2, 5)\n",
            "Size 10\n",
            "Data type float64\n"
          ]
        }
      ]
    },
    {
      "cell_type": "code",
      "source": [
        "# reshaping\n",
        "print(norm, '\\n')\n",
        "print(norm.reshape(2, 5))"
      ],
      "metadata": {
        "colab": {
          "base_uri": "https://localhost:8080/"
        },
        "id": "dcEQAdSf444_",
        "outputId": "3ab48a5b-2876-44b4-dc23-60941923a5e8"
      },
      "execution_count": null,
      "outputs": [
        {
          "output_type": "stream",
          "name": "stdout",
          "text": [
            "[[ 2.15213433 -1.62309421]\n",
            " [ 0.02583727  1.15048094]\n",
            " [-0.219447    1.47539779]\n",
            " [ 0.34993881  0.20444893]\n",
            " [ 0.76039088  0.60932799]] \n",
            "\n",
            "[[ 2.15213433 -1.62309421  0.02583727  1.15048094 -0.219447  ]\n",
            " [ 1.47539779  0.34993881  0.20444893  0.76039088  0.60932799]]\n"
          ]
        }
      ]
    },
    {
      "cell_type": "markdown",
      "source": [
        "# Basic Stats Computation"
      ],
      "metadata": {
        "id": "hzK9xNu65meA"
      }
    },
    {
      "cell_type": "code",
      "source": [
        "# Create a 1-d array with 1000 samples drawn from a normal distribution\n",
        "samples = np.random.normal(0.05, 1, 10000)\n",
        "\n",
        "# Creat a two-dimensional array with 100 samples drawn from a normal distribution\n",
        "samples_2d = np.random.normal(0.05, 1, size=(10000, 4))   # 100 rows, 4 columns\n",
        "samples_2d_ = np.random.normal(0.05, 1, size=(4, 10000))\n",
        "\n",
        "\n",
        "# Compute mean\n",
        "print('Mean 1-d', np.mean(samples))\n",
        "print('Mean 2-d', np.mean(samples_2d, axis = 0))   # across columns\n",
        "print('Mean 2-d', np.mean(samples_2d_, axis = 1), '\\n')  # across rows\n",
        "\n",
        "# Compute median\n",
        "print('Median 1-d', np.median(samples))\n",
        "print('Median 2-d', np.median(samples_2d, axis = 0))   # across columns\n",
        "print('Median 2-d', np.median(samples_2d_, axis = 1), '\\n')  # across rows\n",
        "\n",
        "# Compute Max and Min\n",
        "print('Max 1-d', np.max(samples))\n",
        "print('Max 2-d', np.max(samples_2d, axis = 0))\n",
        "print('Max 2-d', np.max(samples_2d_, axis = 1))\n",
        "\n",
        "print('Min 1-d', np.min(samples))\n",
        "print('Min 2-d', np.min(samples_2d, axis = 0))\n",
        "print('Min 2-d', np.min(samples_2d_, axis = 1), '\\n')\n",
        "\n",
        "# Compute variance and standard deviation\n",
        "print('Variance 1-d', np.var(samples))\n",
        "print('Variance 2-d', np.var(samples_2d, axis = 0))\n",
        "print('Variance 2-d', np.var(samples_2d_, axis = 1))\n",
        "\n",
        "print('Std 1-d', np.std(samples))\n",
        "print('Std 2-d', np.std(samples_2d, axis = 0))\n",
        "print('Std 2-d', np.std(samples_2d_, axis = 1), '\\n')\n",
        "\n",
        "# Sum\n",
        "print('Sum 1-d', np.sum(samples))\n",
        "print('Sum 2-d', np.sum(samples_2d, axis = 0))\n",
        "print('Sum 2-d', np.sum(samples_2d_, axis = 1), '\\n')\n",
        "\n",
        "# Cumulative sum\n",
        "print('Cumulative sum 1-d', np.cumsum(samples)[:-5])\n",
        "print('Cumulative sum 2-d', np.cumsum(samples_2d, axis = 0)[:-5])\n",
        "print('Cumulative sum 2-d', np.cumsum(samples_2d_, axis = 1)[:-5], '\\n')"
      ],
      "metadata": {
        "colab": {
          "base_uri": "https://localhost:8080/"
        },
        "id": "roRrm7dM5qGL",
        "outputId": "f5702b4b-7832-4d0d-c0ad-1f2863adb069"
      },
      "execution_count": null,
      "outputs": [
        {
          "output_type": "stream",
          "name": "stdout",
          "text": [
            "Mean 1-d 0.040758935380014565\n",
            "Mean 2-d [0.05197648 0.04973987 0.04281042 0.04297958]\n",
            "Mean 2-d [0.0518276  0.04492579 0.05103779 0.05183757] \n",
            "\n",
            "Median 1-d 0.04255011942044873\n",
            "Median 2-d [0.04231763 0.06193835 0.03490264 0.03954452]\n",
            "Median 2-d [0.04440384 0.03563514 0.0568338  0.04494457] \n",
            "\n",
            "Max 1-d 3.5673643928682703\n",
            "Max 2-d [4.15512012 3.74428279 4.50991201 3.73331331]\n",
            "Max 2-d [3.66976244 3.61417653 3.43542274 5.07000799]\n",
            "Min 1-d -3.865692796569678\n",
            "Min 2-d [-3.88147331 -4.12912245 -3.72574164 -4.35563696]\n",
            "Min 2-d [-3.89653273 -3.80604827 -5.07476745 -3.47621659] \n",
            "\n",
            "Variance 1-d 1.0219528892931793\n",
            "Variance 2-d [1.02776058 0.99358927 1.00883362 1.00423877]\n",
            "Variance 2-d [0.99150203 0.98712965 0.99482102 0.99909901]\n",
            "Std 1-d 1.0109168557765664\n",
            "Std 2-d [1.01378527 0.99678948 1.0044071  1.00211714]\n",
            "Std 2-d [0.99574195 0.99354399 0.99740715 0.9995494 ] \n",
            "\n",
            "Sum 1-d 407.58935380014566\n",
            "Sum 2-d [519.76481232 497.39866545 428.10415976 429.79575988]\n",
            "Sum 2-d [518.27599036 449.25787341 510.37790796 518.37568827] \n",
            "\n",
            "Cumulative sum 1-d [1.86905618e-01 1.52196766e+00 1.29572090e+00 ... 4.06367784e+02\n",
            " 4.07075458e+02 4.07493362e+02]\n",
            "Cumulative sum 2-d [[ 1.73298671e+00 -1.38651159e+00  1.73805963e+00 -1.47601087e+00]\n",
            " [ 2.27025019e+00 -2.05910642e+00  1.79252678e+00 -1.52406114e+00]\n",
            " [ 2.63113486e+00 -5.77337395e-01  3.90400962e-01 -1.43679347e+00]\n",
            " ...\n",
            " [ 5.24265534e+02  4.98921043e+02  4.33233378e+02  4.29974694e+02]\n",
            " [ 5.23473352e+02  4.98080974e+02  4.32808405e+02  4.30188758e+02]\n",
            " [ 5.24371825e+02  4.97564583e+02  4.31472430e+02  4.29855533e+02]]\n",
            "Cumulative sum 2-d [] \n",
            "\n"
          ]
        }
      ]
    },
    {
      "cell_type": "markdown",
      "source": [
        "# Array Manipulation\n",
        "- Broadcasting"
      ],
      "metadata": {
        "id": "m71eljWEfZE2"
      }
    },
    {
      "cell_type": "code",
      "source": [
        "# Generate numbers\n",
        "a = np.random.randint(1, 10, 5)\n",
        "a2 = np.random.randint(11, 20, 5)\n",
        "\n",
        "x  = np.array([a, a2])\n",
        "b = np.array([2,1]).reshape(2, 1)\n",
        "print(x)\n",
        "print(b, '\\n')\n",
        "\n",
        "# multiply add etc\n",
        "print(a * b)\n",
        "print(a * b[1])\n",
        "print(a + b[1])\n",
        "print(x * b)\n",
        "print(x * (x + 5), '\\n')\n",
        "\n",
        "\n",
        "# Exponents for each element in array\n",
        "print(np.exp(x))\n",
        "print(np.exp(a2), '\\n')\n",
        "\n",
        "\n",
        "# Square root for each element in array\n",
        "print(np.sqrt(x))\n",
        "print(np.sqrt(a2), '\\n')\n",
        "\n",
        "\n",
        "# Using np.reshpae for rsshaping\n",
        "print('Reshaped', np.reshape(x, (5,2)) )\n",
        "print('Reshaped', np.reshape(x, (2,5)) )\n",
        "\n",
        "# Using np.resize for reshaping\n",
        "# Notice the difference to np.reshape\n",
        "print('Resized', np.resize(x, (6,2)) )\n",
        "print('Resized', np.resize(x, (2,6)), '\\n')\n",
        "\n",
        "\n",
        "# Round Numbers\n",
        "rand_num = np.random.randn(10)\n",
        "print(rand_num)\n",
        "print(np.round(rand_num, 2))\n",
        "print(rand_num.round(2), '\\n')\n",
        "\n",
        "# Sort values\n",
        "# default is wquick sort\n",
        "rand_norm = np.random.standard_normal(100)\n",
        "#rand_norm = np.random.shuffle(rand_norm)\n",
        "print(rand_norm[-10:])\n",
        "print(np.sort(rand_norm)[-10:])"
      ],
      "metadata": {
        "colab": {
          "base_uri": "https://localhost:8080/"
        },
        "id": "zSTkIqb0jLBU",
        "outputId": "8c45888b-56f1-4e9f-bc4b-782a75424eae"
      },
      "execution_count": null,
      "outputs": [
        {
          "output_type": "stream",
          "name": "stdout",
          "text": [
            "[[ 3  3  5  4  5]\n",
            " [16 14 12 13 12]]\n",
            "[[2]\n",
            " [1]] \n",
            "\n",
            "[[ 6  6 10  8 10]\n",
            " [ 3  3  5  4  5]]\n",
            "[3 3 5 4 5]\n",
            "[4 4 6 5 6]\n",
            "[[ 6  6 10  8 10]\n",
            " [16 14 12 13 12]]\n",
            "[[ 24  24  50  36  50]\n",
            " [336 266 204 234 204]] \n",
            "\n",
            "[[2.00855369e+01 2.00855369e+01 1.48413159e+02 5.45981500e+01\n",
            "  1.48413159e+02]\n",
            " [8.88611052e+06 1.20260428e+06 1.62754791e+05 4.42413392e+05\n",
            "  1.62754791e+05]]\n",
            "[8886110.52050787 1202604.28416478  162754.791419    442413.39200892\n",
            "  162754.791419  ] \n",
            "\n",
            "[[1.73205081 1.73205081 2.23606798 2.         2.23606798]\n",
            " [4.         3.74165739 3.46410162 3.60555128 3.46410162]]\n",
            "[4.         3.74165739 3.46410162 3.60555128 3.46410162] \n",
            "\n",
            "Reshaped [[ 3  3]\n",
            " [ 5  4]\n",
            " [ 5 16]\n",
            " [14 12]\n",
            " [13 12]]\n",
            "Reshaped [[ 3  3  5  4  5]\n",
            " [16 14 12 13 12]]\n",
            "Resized [[ 3  3]\n",
            " [ 5  4]\n",
            " [ 5 16]\n",
            " [14 12]\n",
            " [13 12]\n",
            " [ 3  3]]\n",
            "Resized [[ 3  3  5  4  5 16]\n",
            " [14 12 13 12  3  3]] \n",
            "\n",
            "[ 0.8183102   1.87886823  0.13231386 -0.6888626   0.68007187  0.07188928\n",
            " -0.89501832  0.42089028 -1.29280919 -0.15959952]\n",
            "[ 0.82  1.88  0.13 -0.69  0.68  0.07 -0.9   0.42 -1.29 -0.16]\n",
            "[ 0.82  1.88  0.13 -0.69  0.68  0.07 -0.9   0.42 -1.29 -0.16] \n",
            "\n",
            "[ 1.88510905  0.24014387 -0.86832904 -0.57989325  0.01978806  0.41779668\n",
            "  1.60185432 -2.08406534 -1.38040601  0.46327259]\n",
            "[1.60185432 1.60427255 1.61997373 1.87847575 1.88510905 2.10113612\n",
            " 2.15138608 2.16321924 2.46917415 2.68984302]\n"
          ]
        }
      ]
    },
    {
      "cell_type": "code",
      "source": [
        "# Stack values\n",
        "a1 = np.array([[8, 5, 3], [8, 5, 3], [8, 5, 3]])\n",
        "a2 = np.array([[13, 15, 16], [13, 15, 16], [13, 15, 16]])\n",
        "a3 = np.array([[27, 21, 29], [27, 21, 29], [27, 21, 29]])\n",
        "\n",
        "print(np.vstack([a1, a2, a3]))\n",
        "print(np.hstack([a1, a2, a3]))\n",
        "print(np.stack([a1, a2, a3]), '\\n')\n",
        "\n",
        "# Column and row stack\n",
        "print(np.column_stack([a1, a2, a3]))\n",
        "print(np.row_stack([a1, a2, a3]), '\\n')\n",
        "\n",
        "\n",
        "# Transpose\n",
        "print(np.transpose(x)) # also print(x.transpose())\n",
        "print(x.T, '\\n')\n",
        "\n",
        "# Flip\n",
        "print(np.flip(x))\n",
        "print(np.flip(x, axis = 0))\n",
        "print(np.flip(x, axis = 1), '\\n')\n",
        "\n",
        "# Split\n",
        "print(np.split(x, 1, axis = 0))\n",
        "print(np.split(x, 1, axis = 1))"
      ],
      "metadata": {
        "colab": {
          "base_uri": "https://localhost:8080/"
        },
        "id": "nxnwh3JJo3Ge",
        "outputId": "a1ef13bb-9dd2-4eb5-fe7f-bb28ee882869"
      },
      "execution_count": null,
      "outputs": [
        {
          "output_type": "stream",
          "name": "stdout",
          "text": [
            "[[ 8  5  3]\n",
            " [ 8  5  3]\n",
            " [ 8  5  3]\n",
            " [13 15 16]\n",
            " [13 15 16]\n",
            " [13 15 16]\n",
            " [27 21 29]\n",
            " [27 21 29]\n",
            " [27 21 29]]\n",
            "[[ 8  5  3 13 15 16 27 21 29]\n",
            " [ 8  5  3 13 15 16 27 21 29]\n",
            " [ 8  5  3 13 15 16 27 21 29]]\n",
            "[[[ 8  5  3]\n",
            "  [ 8  5  3]\n",
            "  [ 8  5  3]]\n",
            "\n",
            " [[13 15 16]\n",
            "  [13 15 16]\n",
            "  [13 15 16]]\n",
            "\n",
            " [[27 21 29]\n",
            "  [27 21 29]\n",
            "  [27 21 29]]] \n",
            "\n",
            "[[ 8  5  3 13 15 16 27 21 29]\n",
            " [ 8  5  3 13 15 16 27 21 29]\n",
            " [ 8  5  3 13 15 16 27 21 29]]\n",
            "[[ 8  5  3]\n",
            " [ 8  5  3]\n",
            " [ 8  5  3]\n",
            " [13 15 16]\n",
            " [13 15 16]\n",
            " [13 15 16]\n",
            " [27 21 29]\n",
            " [27 21 29]\n",
            " [27 21 29]] \n",
            "\n",
            "[[ 8 14]\n",
            " [ 7 14]\n",
            " [ 4 18]\n",
            " [ 6 13]\n",
            " [ 3 18]]\n",
            "[[ 8 14]\n",
            " [ 7 14]\n",
            " [ 4 18]\n",
            " [ 6 13]\n",
            " [ 3 18]] \n",
            "\n",
            "[[18 13 18 14 14]\n",
            " [ 3  6  4  7  8]]\n",
            "[[14 14 18 13 18]\n",
            " [ 8  7  4  6  3]]\n",
            "[[ 3  6  4  7  8]\n",
            " [18 13 18 14 14]] \n",
            "\n",
            "[array([[ 8,  7,  4,  6,  3],\n",
            "       [14, 14, 18, 13, 18]])]\n",
            "[array([[ 8,  7,  4,  6,  3],\n",
            "       [14, 14, 18, 13, 18]])]\n"
          ]
        }
      ]
    },
    {
      "cell_type": "markdown",
      "source": [
        "# Bolean Indexing || Array Operations || Array Programming."
      ],
      "metadata": {
        "id": "EKk96a6mqN3o"
      }
    },
    {
      "cell_type": "code",
      "source": [
        "# import numpy\n",
        "import numpy as np\n",
        "\n",
        "# create an array\n",
        "arr = np.arange(2, 20)\n",
        "\n",
        "# print\n",
        "print('Lenth', len(arr))\n",
        "print('Content', arr, '\\n')\n",
        "\n",
        "# subseeting array using array\n",
        "print(arr[arr % 2 == 0])\n",
        "print(arr[np.array([5, 4, 1, 6, 15])])"
      ],
      "metadata": {
        "colab": {
          "base_uri": "https://localhost:8080/"
        },
        "id": "IAWYgrMUqOD3",
        "outputId": "3ea99403-6427-41d5-9a65-ec45ddd8ee49"
      },
      "execution_count": null,
      "outputs": [
        {
          "output_type": "stream",
          "name": "stdout",
          "text": [
            "Lenth 18\n",
            "Content [ 2  3  4  5  6  7  8  9 10 11 12 13 14 15 16 17 18 19] \n",
            "\n",
            "[ 2  4  6  8 10 12 14 16 18]\n",
            "[ 7  6  3  8 17]\n"
          ]
        }
      ]
    },
    {
      "cell_type": "code",
      "source": [
        "# Vectorized programing: str\n",
        "# Create random array with  values\n",
        "numpy = np.array(['Numpy', 'is', 'Magnificietn', 'isnt it', ': Sure!'])\n",
        "\n",
        "# obtain lenth\n",
        "vectorized_len = np.vectorize(len)\n",
        "print(vectorized_len(numpy))\n",
        "vectorized_len(numpy) < 6"
      ],
      "metadata": {
        "colab": {
          "base_uri": "https://localhost:8080/"
        },
        "id": "YCKx44q-r2Q3",
        "outputId": "574499b6-63b3-43f4-fb10-fbf5e9e3d63c"
      },
      "execution_count": null,
      "outputs": [
        {
          "output_type": "stream",
          "name": "stdout",
          "text": [
            "[ 5  2 12  7  7]\n"
          ]
        },
        {
          "output_type": "execute_result",
          "data": {
            "text/plain": [
              "array([ True,  True, False, False, False])"
            ]
          },
          "metadata": {},
          "execution_count": 99
        }
      ]
    },
    {
      "cell_type": "code",
      "source": [
        "# Vectrozied programming: float\n",
        "num_array = np.arange(0, 10, 2)\n",
        "print(num_array)\n",
        "\n",
        "def divBy2(a):\n",
        "  return a / 2\n",
        "\n",
        "vectorized_div = np.vectorize(divBy2)\n",
        "print(vectorized_div(num_array))"
      ],
      "metadata": {
        "colab": {
          "base_uri": "https://localhost:8080/"
        },
        "id": "cV5uSnmkx0j8",
        "outputId": "d800c5d3-aa39-47c6-d599-246cad0c5b7b"
      },
      "execution_count": null,
      "outputs": [
        {
          "output_type": "stream",
          "name": "stdout",
          "text": [
            "[0 2 4 6 8]\n",
            "[0. 1. 2. 3. 4.]\n"
          ]
        }
      ]
    },
    {
      "cell_type": "code",
      "source": [
        "# Create random array with 20 values\n",
        "randarr= np.random.randint(4, 100, 20)\n",
        "\n",
        "# print\n",
        "print('Lenth', len(randarr))\n",
        "print('Content', randarr, '\\n')\n",
        "\n",
        "# subseeting array using array\n",
        "print('Greater than 50',  randarr[randarr > 50], '\\n')\n",
        "print('Less than 50',  randarr[randarr < 50], '\\n')\n",
        "print('Greater than 100', randarr[randarr > 100])\n",
        "\n",
        "print()\n",
        "\n",
        "# Filter\n",
        "filt = randarr > 50\n",
        "print(randarr[filt])\n",
        "\n",
        "filt_a = np.where(randarr > 50)\n",
        "print(filt_a, '\\n')\n",
        "print(randarr[np.where(randarr > 50)])\n",
        "\n",
        "# Creating array of heights: 165 - 185\n",
        "heights = np.random.uniform(165, 185, 20)\n",
        "print()\n",
        "heights"
      ],
      "metadata": {
        "colab": {
          "base_uri": "https://localhost:8080/"
        },
        "id": "Z5MLsTxErYjn",
        "outputId": "2a4c9071-6b18-4cb7-d889-e9718239ecd3"
      },
      "execution_count": null,
      "outputs": [
        {
          "output_type": "stream",
          "name": "stdout",
          "text": [
            "Lenth 20\n",
            "Content [68 75 62  5 60  6 40 82 65 35 49 45 42 58 33 37 47 13 29 89] \n",
            "\n",
            "Greater than 50 [68 75 62 60 82 65 58 89] \n",
            "\n",
            "Less than 50 [ 5  6 40 35 49 45 42 33 37 47 13 29] \n",
            "\n",
            "Greater than 100 []\n",
            "\n",
            "[68 75 62 60 82 65 58 89]\n",
            "(array([ 0,  1,  2,  4,  7,  8, 13, 19]),) \n",
            "\n",
            "[68 75 62 60 82 65 58 89]\n",
            "\n"
          ]
        },
        {
          "output_type": "execute_result",
          "data": {
            "text/plain": [
              "array([166.18410472, 167.36308416, 175.42379041, 176.84053676,\n",
              "       173.85756279, 165.02126649, 183.13877529, 168.59946132,\n",
              "       175.17785177, 183.62970662, 183.77708249, 170.0298424 ,\n",
              "       176.11792115, 166.95732447, 170.83412315, 171.73695265,\n",
              "       170.4838487 , 168.22642625, 167.55089191, 169.92084469])"
            ]
          },
          "metadata": {},
          "execution_count": 19
        }
      ]
    },
    {
      "cell_type": "code",
      "source": [
        "# return index values\n",
        "print(np.where(heights > 178), '\\n')\n",
        "\n",
        "# return booleans: T or F\n",
        "print(np.where(heights > 178, True, False))\n",
        "\n",
        "# Now create two arrays, for their values to be returned if the above condition holds\n",
        "\n",
        "x_array = np.arange(0, 20, 1)\n",
        "y_array = np.arange(100, 120, 1)\n",
        "\n",
        "print(x_array, '\\n')\n",
        "print(y_array)\n",
        "print()\n",
        "\n",
        "np.where(heights > 170, y_array, x_array)"
      ],
      "metadata": {
        "colab": {
          "base_uri": "https://localhost:8080/"
        },
        "id": "OluPypvgtWVo",
        "outputId": "d301a53d-0ace-4190-83c4-6f57a89edcc1"
      },
      "execution_count": null,
      "outputs": [
        {
          "output_type": "stream",
          "name": "stdout",
          "text": [
            "(array([ 6,  9, 10]),) \n",
            "\n",
            "[False False False False False False  True False False  True  True False\n",
            " False False False False False False False False]\n",
            "[ 0  1  2  3  4  5  6  7  8  9 10 11 12 13 14 15 16 17 18 19] \n",
            "\n",
            "[100 101 102 103 104 105 106 107 108 109 110 111 112 113 114 115 116 117\n",
            " 118 119]\n",
            "\n"
          ]
        },
        {
          "output_type": "execute_result",
          "data": {
            "text/plain": [
              "array([  0,   1, 102, 103, 104,   5, 106,   7, 108, 109, 110, 111, 112,\n",
              "        13, 114, 115, 116,  17,  18,  19])"
            ]
          },
          "metadata": {},
          "execution_count": 20
        }
      ]
    },
    {
      "cell_type": "markdown",
      "source": [
        "#"
      ],
      "metadata": {
        "id": "T3myzY-Pvuaz"
      }
    },
    {
      "cell_type": "code",
      "source": [
        "# Build hypothetical close prices\n",
        "# Close prices Year 1.\n",
        "cls_prices = np.random.randint(100, 125, 20)\n",
        "\n",
        "# Close prices Year 2.\n",
        "close_prices = np.random.uniform(100, 125, 20)\n",
        "close_prices"
      ],
      "metadata": {
        "colab": {
          "base_uri": "https://localhost:8080/"
        },
        "id": "Qm2XHpqevvKo",
        "outputId": "435551d9-1b86-4131-8285-6697551306d5"
      },
      "execution_count": null,
      "outputs": [
        {
          "output_type": "execute_result",
          "data": {
            "text/plain": [
              "array([101.73953637, 102.36510065, 117.77232502, 118.41740719,\n",
              "       104.56664698, 115.20275214, 106.50597039, 117.84348301,\n",
              "       124.2885547 , 112.51272184, 117.30529316, 117.07439787,\n",
              "       107.84477522, 119.89638079, 113.07214008, 105.38693425,\n",
              "       102.99235422, 113.16851228, 107.02176066, 109.6053388 ])"
            ]
          },
          "metadata": {},
          "execution_count": 21
        }
      ]
    },
    {
      "cell_type": "code",
      "source": [
        "# Generate signals based on average close prices for years 1.\n",
        "avg_price = np.mean(cls_prices)\n",
        "print(avg_price)\n",
        "\n",
        "signal = np.where(close_prices > avg_price, 1, 0)\n",
        "print(signal)"
      ],
      "metadata": {
        "colab": {
          "base_uri": "https://localhost:8080/"
        },
        "id": "NlZfv7m-wcdj",
        "outputId": "aa5bb5a1-c10f-4b56-b2bd-4cad378eca13"
      },
      "execution_count": null,
      "outputs": [
        {
          "output_type": "stream",
          "name": "stdout",
          "text": [
            "108.15\n",
            "[0 0 1 1 0 1 0 1 1 1 1 1 0 1 1 0 0 1 0 1]\n"
          ]
        }
      ]
    },
    {
      "cell_type": "markdown",
      "source": [
        "# Iterations"
      ],
      "metadata": {
        "id": "gtDYRwNTzFTp"
      }
    },
    {
      "cell_type": "code",
      "source": [
        "# Looping across 1-d array\n",
        "# until before last 15 values\n",
        "for _ in signal[:-15]:\n",
        "    print(_)\n",
        "\n",
        "# # Looping across 2-d array\n",
        "# combine two arrays\n",
        "comb_array = np.array([signal[-5:], close_prices[-5:]])\n",
        "print(comb_array)\n",
        "\n",
        "for arr in comb_array:\n",
        "    for ele in arr:\n",
        "        print(ele)\n",
        "\n",
        "# Also n.diter can be used irrespective of dimensions\n",
        "for ele in np.nditer(signal[:5]):\n",
        "    print(ele)\n",
        "for ele in np.nditer(comb_array):\n",
        "    print(ele)"
      ],
      "metadata": {
        "colab": {
          "base_uri": "https://localhost:8080/"
        },
        "id": "7sRJxEJhw1YF",
        "outputId": "f7f991f8-9fca-4999-e14a-cf9d8b7cc3f2"
      },
      "execution_count": null,
      "outputs": [
        {
          "output_type": "stream",
          "name": "stdout",
          "text": [
            "0\n",
            "0\n",
            "1\n",
            "1\n",
            "0\n",
            "[[  0.           0.           1.           0.           1.        ]\n",
            " [105.38693425 102.99235422 113.16851228 107.02176066 109.6053388 ]]\n",
            "0.0\n",
            "0.0\n",
            "1.0\n",
            "0.0\n",
            "1.0\n",
            "105.38693424500275\n",
            "102.99235422242023\n",
            "113.16851227590077\n",
            "107.02176065558217\n",
            "109.60533879509\n",
            "0\n",
            "0\n",
            "1\n",
            "1\n",
            "0\n",
            "0.0\n",
            "0.0\n",
            "1.0\n",
            "0.0\n",
            "1.0\n",
            "105.38693424500275\n",
            "102.99235422242023\n",
            "113.16851227590077\n",
            "107.02176065558217\n",
            "109.60533879509\n"
          ]
        }
      ]
    },
    {
      "cell_type": "code",
      "source": [
        "# Checking documentation\n",
        "#help(np.unique)\n",
        "#help(np.random.randint)\n",
        "#help(np.concatenate)\n",
        "#help(np.flatten)\n",
        "#help(np.ravel)\n",
        "#help(np.reshape)\n",
        "#help(np.insert)\n",
        "#help(np.append)\n",
        "#help(np.delete)\n",
        "#help(np.diag)\n",
        "#help(np.reshape)\n",
        "# etc,.\n",
        "help(np.delete)"
      ],
      "metadata": {
        "colab": {
          "base_uri": "https://localhost:8080/"
        },
        "id": "_P-T8DZEnEXA",
        "outputId": "7001f365-8343-4f3f-f591-c4afd8bcd2d3"
      },
      "execution_count": null,
      "outputs": [
        {
          "output_type": "stream",
          "name": "stdout",
          "text": [
            "Help on _ArrayFunctionDispatcher in module numpy:\n",
            "\n",
            "delete(arr, obj, axis=None)\n",
            "    Return a new array with sub-arrays along an axis deleted. For a one\n",
            "    dimensional array, this returns those entries not returned by\n",
            "    `arr[obj]`.\n",
            "    \n",
            "    Parameters\n",
            "    ----------\n",
            "    arr : array_like\n",
            "        Input array.\n",
            "    obj : slice, int or array of ints\n",
            "        Indicate indices of sub-arrays to remove along the specified axis.\n",
            "    \n",
            "        .. versionchanged:: 1.19.0\n",
            "            Boolean indices are now treated as a mask of elements to remove,\n",
            "            rather than being cast to the integers 0 and 1.\n",
            "    \n",
            "    axis : int, optional\n",
            "        The axis along which to delete the subarray defined by `obj`.\n",
            "        If `axis` is None, `obj` is applied to the flattened array.\n",
            "    \n",
            "    Returns\n",
            "    -------\n",
            "    out : ndarray\n",
            "        A copy of `arr` with the elements specified by `obj` removed. Note\n",
            "        that `delete` does not occur in-place. If `axis` is None, `out` is\n",
            "        a flattened array.\n",
            "    \n",
            "    See Also\n",
            "    --------\n",
            "    insert : Insert elements into an array.\n",
            "    append : Append elements at the end of an array.\n",
            "    \n",
            "    Notes\n",
            "    -----\n",
            "    Often it is preferable to use a boolean mask. For example:\n",
            "    \n",
            "    >>> arr = np.arange(12) + 1\n",
            "    >>> mask = np.ones(len(arr), dtype=bool)\n",
            "    >>> mask[[0,2,4]] = False\n",
            "    >>> result = arr[mask,...]\n",
            "    \n",
            "    Is equivalent to ``np.delete(arr, [0,2,4], axis=0)``, but allows further\n",
            "    use of `mask`.\n",
            "    \n",
            "    Examples\n",
            "    --------\n",
            "    >>> arr = np.array([[1,2,3,4], [5,6,7,8], [9,10,11,12]])\n",
            "    >>> arr\n",
            "    array([[ 1,  2,  3,  4],\n",
            "           [ 5,  6,  7,  8],\n",
            "           [ 9, 10, 11, 12]])\n",
            "    >>> np.delete(arr, 1, 0)\n",
            "    array([[ 1,  2,  3,  4],\n",
            "           [ 9, 10, 11, 12]])\n",
            "    \n",
            "    >>> np.delete(arr, np.s_[::2], 1)\n",
            "    array([[ 2,  4],\n",
            "           [ 6,  8],\n",
            "           [10, 12]])\n",
            "    >>> np.delete(arr, [1,3,5], None)\n",
            "    array([ 1,  3,  5,  7,  8,  9, 10, 11, 12])\n",
            "\n"
          ]
        }
      ]
    },
    {
      "cell_type": "code",
      "source": [
        "# The End!!"
      ],
      "metadata": {
        "id": "7kz5NWgxzIji"
      },
      "execution_count": null,
      "outputs": []
    }
  ]
}