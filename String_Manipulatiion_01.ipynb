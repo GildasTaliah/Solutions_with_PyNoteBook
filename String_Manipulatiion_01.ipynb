{
  "nbformat": 4,
  "nbformat_minor": 0,
  "metadata": {
    "colab": {
      "provenance": [],
      "authorship_tag": "ABX9TyOVs3hixHHRcSAs9L0KrSJI",
      "include_colab_link": true
    },
    "kernelspec": {
      "name": "python3",
      "display_name": "Python 3"
    },
    "language_info": {
      "name": "python"
    }
  },
  "cells": [
    {
      "cell_type": "markdown",
      "metadata": {
        "id": "view-in-github",
        "colab_type": "text"
      },
      "source": [
        "<a href=\"https://colab.research.google.com/github/GildasTaliah/Solutions_with_PyNoteBook/blob/main/String_Manipulatiion_01.ipynb\" target=\"_parent\"><img src=\"https://colab.research.google.com/assets/colab-badge.svg\" alt=\"Open In Colab\"/></a>"
      ]
    },
    {
      "cell_type": "markdown",
      "source": [
        "**STRING MANIPULATION**\n"
      ],
      "metadata": {
        "id": "yq-l2wawaSVq"
      }
    },
    {
      "cell_type": "markdown",
      "source": [
        "**Intro**\n",
        "\n",
        "In this brief project we present a string implementation of 'strings' in Python."
      ],
      "metadata": {
        "id": "DAVUBvnIaNe3"
      }
    },
    {
      "cell_type": "markdown",
      "source": [],
      "metadata": {
        "id": "tZpzWSRLbU1o"
      }
    },
    {
      "cell_type": "code",
      "source": [
        "import requests\n",
        "from bs4 import BeautifulSoup\n",
        "\n",
        "# Extract strings from Yahoo page\n",
        "# Actually we are extracting headlines from news on Yahoo Finance page\n",
        "# Date of extract: 19 November 2024\n",
        "url = \"https://finance.yahoo.com/\"\n",
        "page = requests.get(url)\n",
        "soup = BeautifulSoup(page.content, \"html.parser\")"
      ],
      "metadata": {
        "id": "FzTYyHuabXkY"
      },
      "execution_count": 5,
      "outputs": []
    },
    {
      "cell_type": "code",
      "source": [
        "# Create empty list to store headers\n",
        "title = []\n",
        "\n",
        "# extract header\n",
        "# h1: Main Title h2: Subtitle h3: Section Header h4: Sub-section\n",
        "for heade in soup.find_all(['h1', 'h2', 'h3', 'h4']):\n",
        "  title.append(heade.text)"
      ],
      "metadata": {
        "id": "XvtFq72nb-GB"
      },
      "execution_count": 3,
      "outputs": []
    },
    {
      "cell_type": "code",
      "source": [
        "import pandas as pd\n",
        "pd.DataFrame(title)"
      ],
      "metadata": {
        "colab": {
          "base_uri": "https://localhost:8080/",
          "height": 534
        },
        "id": "a6YV-L5wc9IZ",
        "outputId": "c40896bd-6f62-4525-c308-7917b4582ca8"
      },
      "execution_count": 90,
      "outputs": [
        {
          "output_type": "execute_result",
          "data": {
            "text/plain": [
              "                                                    0\n",
              "0                                                News\n",
              "1                                                Life\n",
              "2                                       Entertainment\n",
              "3                                             Finance\n",
              "4                                              Sports\n",
              "..                                                ...\n",
              "75   Daily Spotlight: Gold Prices Pull Back from Peak\n",
              "76  Billionaires Are Selling Palantir Stock and Bu...\n",
              "77  DJT, Bakkt stocks pop on report Trump Media in...\n",
              "78  Nvidia Stock Has Done This After Its Last Four...\n",
              "79  Super Micro shares soar over 30% after naming ...\n",
              "\n",
              "[80 rows x 1 columns]"
            ],
            "text/html": [
              "\n",
              "  <div id=\"df-e7bbce99-19ad-418c-aad3-459b03d189de\" class=\"colab-df-container\">\n",
              "    <div>\n",
              "<style scoped>\n",
              "    .dataframe tbody tr th:only-of-type {\n",
              "        vertical-align: middle;\n",
              "    }\n",
              "\n",
              "    .dataframe tbody tr th {\n",
              "        vertical-align: top;\n",
              "    }\n",
              "\n",
              "    .dataframe thead th {\n",
              "        text-align: right;\n",
              "    }\n",
              "</style>\n",
              "<table border=\"1\" class=\"dataframe\">\n",
              "  <thead>\n",
              "    <tr style=\"text-align: right;\">\n",
              "      <th></th>\n",
              "      <th>0</th>\n",
              "    </tr>\n",
              "  </thead>\n",
              "  <tbody>\n",
              "    <tr>\n",
              "      <th>0</th>\n",
              "      <td>News</td>\n",
              "    </tr>\n",
              "    <tr>\n",
              "      <th>1</th>\n",
              "      <td>Life</td>\n",
              "    </tr>\n",
              "    <tr>\n",
              "      <th>2</th>\n",
              "      <td>Entertainment</td>\n",
              "    </tr>\n",
              "    <tr>\n",
              "      <th>3</th>\n",
              "      <td>Finance</td>\n",
              "    </tr>\n",
              "    <tr>\n",
              "      <th>4</th>\n",
              "      <td>Sports</td>\n",
              "    </tr>\n",
              "    <tr>\n",
              "      <th>...</th>\n",
              "      <td>...</td>\n",
              "    </tr>\n",
              "    <tr>\n",
              "      <th>75</th>\n",
              "      <td>Daily Spotlight: Gold Prices Pull Back from Peak</td>\n",
              "    </tr>\n",
              "    <tr>\n",
              "      <th>76</th>\n",
              "      <td>Billionaires Are Selling Palantir Stock and Bu...</td>\n",
              "    </tr>\n",
              "    <tr>\n",
              "      <th>77</th>\n",
              "      <td>DJT, Bakkt stocks pop on report Trump Media in...</td>\n",
              "    </tr>\n",
              "    <tr>\n",
              "      <th>78</th>\n",
              "      <td>Nvidia Stock Has Done This After Its Last Four...</td>\n",
              "    </tr>\n",
              "    <tr>\n",
              "      <th>79</th>\n",
              "      <td>Super Micro shares soar over 30% after naming ...</td>\n",
              "    </tr>\n",
              "  </tbody>\n",
              "</table>\n",
              "<p>80 rows × 1 columns</p>\n",
              "</div>\n",
              "    <div class=\"colab-df-buttons\">\n",
              "\n",
              "  <div class=\"colab-df-container\">\n",
              "    <button class=\"colab-df-convert\" onclick=\"convertToInteractive('df-e7bbce99-19ad-418c-aad3-459b03d189de')\"\n",
              "            title=\"Convert this dataframe to an interactive table.\"\n",
              "            style=\"display:none;\">\n",
              "\n",
              "  <svg xmlns=\"http://www.w3.org/2000/svg\" height=\"24px\" viewBox=\"0 -960 960 960\">\n",
              "    <path d=\"M120-120v-720h720v720H120Zm60-500h600v-160H180v160Zm220 220h160v-160H400v160Zm0 220h160v-160H400v160ZM180-400h160v-160H180v160Zm440 0h160v-160H620v160ZM180-180h160v-160H180v160Zm440 0h160v-160H620v160Z\"/>\n",
              "  </svg>\n",
              "    </button>\n",
              "\n",
              "  <style>\n",
              "    .colab-df-container {\n",
              "      display:flex;\n",
              "      gap: 12px;\n",
              "    }\n",
              "\n",
              "    .colab-df-convert {\n",
              "      background-color: #E8F0FE;\n",
              "      border: none;\n",
              "      border-radius: 50%;\n",
              "      cursor: pointer;\n",
              "      display: none;\n",
              "      fill: #1967D2;\n",
              "      height: 32px;\n",
              "      padding: 0 0 0 0;\n",
              "      width: 32px;\n",
              "    }\n",
              "\n",
              "    .colab-df-convert:hover {\n",
              "      background-color: #E2EBFA;\n",
              "      box-shadow: 0px 1px 2px rgba(60, 64, 67, 0.3), 0px 1px 3px 1px rgba(60, 64, 67, 0.15);\n",
              "      fill: #174EA6;\n",
              "    }\n",
              "\n",
              "    .colab-df-buttons div {\n",
              "      margin-bottom: 4px;\n",
              "    }\n",
              "\n",
              "    [theme=dark] .colab-df-convert {\n",
              "      background-color: #3B4455;\n",
              "      fill: #D2E3FC;\n",
              "    }\n",
              "\n",
              "    [theme=dark] .colab-df-convert:hover {\n",
              "      background-color: #434B5C;\n",
              "      box-shadow: 0px 1px 3px 1px rgba(0, 0, 0, 0.15);\n",
              "      filter: drop-shadow(0px 1px 2px rgba(0, 0, 0, 0.3));\n",
              "      fill: #FFFFFF;\n",
              "    }\n",
              "  </style>\n",
              "\n",
              "    <script>\n",
              "      const buttonEl =\n",
              "        document.querySelector('#df-e7bbce99-19ad-418c-aad3-459b03d189de button.colab-df-convert');\n",
              "      buttonEl.style.display =\n",
              "        google.colab.kernel.accessAllowed ? 'block' : 'none';\n",
              "\n",
              "      async function convertToInteractive(key) {\n",
              "        const element = document.querySelector('#df-e7bbce99-19ad-418c-aad3-459b03d189de');\n",
              "        const dataTable =\n",
              "          await google.colab.kernel.invokeFunction('convertToInteractive',\n",
              "                                                    [key], {});\n",
              "        if (!dataTable) return;\n",
              "\n",
              "        const docLinkHtml = 'Like what you see? Visit the ' +\n",
              "          '<a target=\"_blank\" href=https://colab.research.google.com/notebooks/data_table.ipynb>data table notebook</a>'\n",
              "          + ' to learn more about interactive tables.';\n",
              "        element.innerHTML = '';\n",
              "        dataTable['output_type'] = 'display_data';\n",
              "        await google.colab.output.renderOutput(dataTable, element);\n",
              "        const docLink = document.createElement('div');\n",
              "        docLink.innerHTML = docLinkHtml;\n",
              "        element.appendChild(docLink);\n",
              "      }\n",
              "    </script>\n",
              "  </div>\n",
              "\n",
              "\n",
              "<div id=\"df-f516b760-5228-4e39-ac76-a9c5877b9b9a\">\n",
              "  <button class=\"colab-df-quickchart\" onclick=\"quickchart('df-f516b760-5228-4e39-ac76-a9c5877b9b9a')\"\n",
              "            title=\"Suggest charts\"\n",
              "            style=\"display:none;\">\n",
              "\n",
              "<svg xmlns=\"http://www.w3.org/2000/svg\" height=\"24px\"viewBox=\"0 0 24 24\"\n",
              "     width=\"24px\">\n",
              "    <g>\n",
              "        <path d=\"M19 3H5c-1.1 0-2 .9-2 2v14c0 1.1.9 2 2 2h14c1.1 0 2-.9 2-2V5c0-1.1-.9-2-2-2zM9 17H7v-7h2v7zm4 0h-2V7h2v10zm4 0h-2v-4h2v4z\"/>\n",
              "    </g>\n",
              "</svg>\n",
              "  </button>\n",
              "\n",
              "<style>\n",
              "  .colab-df-quickchart {\n",
              "      --bg-color: #E8F0FE;\n",
              "      --fill-color: #1967D2;\n",
              "      --hover-bg-color: #E2EBFA;\n",
              "      --hover-fill-color: #174EA6;\n",
              "      --disabled-fill-color: #AAA;\n",
              "      --disabled-bg-color: #DDD;\n",
              "  }\n",
              "\n",
              "  [theme=dark] .colab-df-quickchart {\n",
              "      --bg-color: #3B4455;\n",
              "      --fill-color: #D2E3FC;\n",
              "      --hover-bg-color: #434B5C;\n",
              "      --hover-fill-color: #FFFFFF;\n",
              "      --disabled-bg-color: #3B4455;\n",
              "      --disabled-fill-color: #666;\n",
              "  }\n",
              "\n",
              "  .colab-df-quickchart {\n",
              "    background-color: var(--bg-color);\n",
              "    border: none;\n",
              "    border-radius: 50%;\n",
              "    cursor: pointer;\n",
              "    display: none;\n",
              "    fill: var(--fill-color);\n",
              "    height: 32px;\n",
              "    padding: 0;\n",
              "    width: 32px;\n",
              "  }\n",
              "\n",
              "  .colab-df-quickchart:hover {\n",
              "    background-color: var(--hover-bg-color);\n",
              "    box-shadow: 0 1px 2px rgba(60, 64, 67, 0.3), 0 1px 3px 1px rgba(60, 64, 67, 0.15);\n",
              "    fill: var(--button-hover-fill-color);\n",
              "  }\n",
              "\n",
              "  .colab-df-quickchart-complete:disabled,\n",
              "  .colab-df-quickchart-complete:disabled:hover {\n",
              "    background-color: var(--disabled-bg-color);\n",
              "    fill: var(--disabled-fill-color);\n",
              "    box-shadow: none;\n",
              "  }\n",
              "\n",
              "  .colab-df-spinner {\n",
              "    border: 2px solid var(--fill-color);\n",
              "    border-color: transparent;\n",
              "    border-bottom-color: var(--fill-color);\n",
              "    animation:\n",
              "      spin 1s steps(1) infinite;\n",
              "  }\n",
              "\n",
              "  @keyframes spin {\n",
              "    0% {\n",
              "      border-color: transparent;\n",
              "      border-bottom-color: var(--fill-color);\n",
              "      border-left-color: var(--fill-color);\n",
              "    }\n",
              "    20% {\n",
              "      border-color: transparent;\n",
              "      border-left-color: var(--fill-color);\n",
              "      border-top-color: var(--fill-color);\n",
              "    }\n",
              "    30% {\n",
              "      border-color: transparent;\n",
              "      border-left-color: var(--fill-color);\n",
              "      border-top-color: var(--fill-color);\n",
              "      border-right-color: var(--fill-color);\n",
              "    }\n",
              "    40% {\n",
              "      border-color: transparent;\n",
              "      border-right-color: var(--fill-color);\n",
              "      border-top-color: var(--fill-color);\n",
              "    }\n",
              "    60% {\n",
              "      border-color: transparent;\n",
              "      border-right-color: var(--fill-color);\n",
              "    }\n",
              "    80% {\n",
              "      border-color: transparent;\n",
              "      border-right-color: var(--fill-color);\n",
              "      border-bottom-color: var(--fill-color);\n",
              "    }\n",
              "    90% {\n",
              "      border-color: transparent;\n",
              "      border-bottom-color: var(--fill-color);\n",
              "    }\n",
              "  }\n",
              "</style>\n",
              "\n",
              "  <script>\n",
              "    async function quickchart(key) {\n",
              "      const quickchartButtonEl =\n",
              "        document.querySelector('#' + key + ' button');\n",
              "      quickchartButtonEl.disabled = true;  // To prevent multiple clicks.\n",
              "      quickchartButtonEl.classList.add('colab-df-spinner');\n",
              "      try {\n",
              "        const charts = await google.colab.kernel.invokeFunction(\n",
              "            'suggestCharts', [key], {});\n",
              "      } catch (error) {\n",
              "        console.error('Error during call to suggestCharts:', error);\n",
              "      }\n",
              "      quickchartButtonEl.classList.remove('colab-df-spinner');\n",
              "      quickchartButtonEl.classList.add('colab-df-quickchart-complete');\n",
              "    }\n",
              "    (() => {\n",
              "      let quickchartButtonEl =\n",
              "        document.querySelector('#df-f516b760-5228-4e39-ac76-a9c5877b9b9a button');\n",
              "      quickchartButtonEl.style.display =\n",
              "        google.colab.kernel.accessAllowed ? 'block' : 'none';\n",
              "    })();\n",
              "  </script>\n",
              "</div>\n",
              "\n",
              "    </div>\n",
              "  </div>\n"
            ],
            "application/vnd.google.colaboratory.intrinsic+json": {
              "type": "dataframe",
              "summary": "{\n  \"name\": \"pd\",\n  \"rows\": 80,\n  \"fields\": [\n    {\n      \"column\": 0,\n      \"properties\": {\n        \"dtype\": \"string\",\n        \"num_unique_values\": 73,\n        \"samples\": [\n          \" Sports\",\n          \"What to know before buying gold from Costco\",\n          \"Serbia's opposition is locked in a standoff with police as tensions rise over deadly roof collapse\"\n        ],\n        \"semantic_type\": \"\",\n        \"description\": \"\"\n      }\n    }\n  ]\n}"
            }
          },
          "metadata": {},
          "execution_count": 90
        }
      ]
    },
    {
      "cell_type": "code",
      "source": [
        "#\n",
        "text = ' '.join(title)\n",
        "print(text[:100])"
      ],
      "metadata": {
        "colab": {
          "base_uri": "https://localhost:8080/"
        },
        "id": "_oUFdBg5dr_k",
        "outputId": "7f2ffa27-ee9d-404b-c7ef-7b3f168adfda"
      },
      "execution_count": 91,
      "outputs": [
        {
          "output_type": "stream",
          "name": "stdout",
          "text": [
            " News  Life  Entertainment   Finance  Sports New on Yahoo Yahoo Finance Wall Street isn't banking on\n"
          ]
        }
      ]
    },
    {
      "cell_type": "code",
      "source": [],
      "metadata": {
        "colab": {
          "base_uri": "https://localhost:8080/",
          "height": 42
        },
        "id": "47yHpOD3d4Rx",
        "outputId": "6488166e-4894-4094-cb25-925e39d94cea"
      },
      "execution_count": 11,
      "outputs": [
        {
          "output_type": "execute_result",
          "data": {
            "text/plain": [
              "'Entertainment'"
            ],
            "application/vnd.google.colaboratory.intrinsic+json": {
              "type": "string"
            }
          },
          "metadata": {},
          "execution_count": 11
        }
      ]
    },
    {
      "cell_type": "markdown",
      "source": [
        "**Striping Whitespace**\n",
        "Strip leading whitespace with **lstrip()**, trailing whitespace with **rstrip()**, both with **strip()**."
      ],
      "metadata": {
        "id": "1oPDlgIDeHcp"
      }
    },
    {
      "cell_type": "code",
      "source": [
        "# @title Striping Whtespace\n",
        "\n",
        "sent = '   Consider this a sentence with whitespace.   \\n'\n",
        "print(sent)\n",
        "\n",
        "print('{}'.format( sent.lstrip()))\n",
        "print('{}'.format( sent.rstrip()))\n",
        "print('{}'.format( sent.strip()))\n",
        "\n",
        "# Characters\n",
        "sent = '  A. Consider this a sentence with whitespace.   \\n'\n",
        "sent = '  A   \\n'\n",
        "print()\n",
        "print(sent)\n",
        "print('{}'.format( sent.rstrip('A')))"
      ],
      "metadata": {
        "colab": {
          "base_uri": "https://localhost:8080/"
        },
        "id": "0Q27OgCsekHF",
        "outputId": "0e68ff71-3dcd-457c-beca-918d4e583a53"
      },
      "execution_count": 20,
      "outputs": [
        {
          "output_type": "stream",
          "name": "stdout",
          "text": [
            "   Consider this a sentence with whitespace.   \n",
            "\n",
            "Consider this a sentence with whitespace.   \n",
            "\n",
            "   Consider this a sentence with whitespace.\n",
            "Consider this a sentence with whitespace.\n",
            "\n",
            "  A   \n",
            "\n",
            "  A   \n",
            "\n"
          ]
        }
      ]
    },
    {
      "cell_type": "markdown",
      "source": [
        "** Splitting Strings**\n",
        "Split strings into lists of smaller substrings with **split()**."
      ],
      "metadata": {
        "id": "vxwF5-zIji_8"
      }
    },
    {
      "cell_type": "code",
      "source": [
        "# @title Splitting strings\n",
        "\n",
        "splitted_text = text.split()\n",
        "print(splitted_text[:50])\n",
        "\n",
        "# other character sequence can be passed\n",
        "text_ex = 'At,the,entrance,of,the,door,was,the,pantry,.,How,inconveniencing!'\n",
        "splitted_text_ex = text_ex.split(',')\n",
        "print(splitted_text_ex[:50])"
      ],
      "metadata": {
        "colab": {
          "base_uri": "https://localhost:8080/"
        },
        "id": "NmdK1oGlfV9y",
        "outputId": "373c2632-74b5-452c-f2aa-437611b3e49a"
      },
      "execution_count": 30,
      "outputs": [
        {
          "output_type": "stream",
          "name": "stdout",
          "text": [
            "['News', 'Life', 'Entertainment', 'Finance', 'Sports', 'New', 'on', 'Yahoo', 'Yahoo', 'Finance', 'Wall', 'Street', \"isn't\", 'banking', 'on', 'AI', 'to', 'juice', 'stocks', 'any', 'more', 'Stocks', 'retreat', 'as', 'Russia', 'nuclear', 'worries', 'rattle', 'markets', 'Newman:', 'My', 'Trump', 'trade', 'went', 'bust', '—', 'with', 'a', 'consolation', 'prize', 'Putin', 'signs', 'doctrine', 'lowering', 'threshold', 'for', 'using', 'nuclear', 'weapons', 'Safe-haven']\n",
            "['At', 'the', 'entrance', 'of', 'the', 'door', 'was', 'the', 'pantry', '.', 'How', 'inconveniencing!']\n"
          ]
        }
      ]
    },
    {
      "cell_type": "markdown",
      "source": [
        "**Joining Elements to strings**\n",
        "\n",
        "Join list element strings into single string in Python using **' 'join()**."
      ],
      "metadata": {
        "id": "zPdtPkq3j5g0"
      }
    },
    {
      "cell_type": "code",
      "source": [
        "# @title Joining Elements to strings\n",
        "\n",
        "text_exx = text[:100]\n",
        "text_exx = text_exx.split()\n",
        "print(text_exx, '\\n')\n",
        "\n",
        "# join\n",
        "print(' '.join(text_exx))\n",
        "\n",
        "# Join with something other than Whitespace\n",
        "print()\n",
        "print(' and '.join(text_exx))"
      ],
      "metadata": {
        "colab": {
          "base_uri": "https://localhost:8080/"
        },
        "id": "ZVJz9Vkejvad",
        "outputId": "08813652-9b97-4c4f-a663-d6c0c1c2a64a"
      },
      "execution_count": 40,
      "outputs": [
        {
          "output_type": "stream",
          "name": "stdout",
          "text": [
            "['News', 'Life', 'Entertainment', 'Finance', 'Sports', 'New', 'on', 'Yahoo', 'Yahoo', 'Finance', 'Wall', 'Street', \"isn't\", 'banking', 'on'] \n",
            "\n",
            "News Life Entertainment Finance Sports New on Yahoo Yahoo Finance Wall Street isn't banking on\n",
            "\n",
            "News and Life and Entertainment and Finance and Sports and New and on and Yahoo and Yahoo and Finance and Wall and Street and isn't and banking and on\n"
          ]
        }
      ]
    },
    {
      "cell_type": "markdown",
      "source": [
        "**Reversing Strings**\n",
        "\n",
        "Strings can be sliced like lists. Reversing one can be done in the same way as a list's elements."
      ],
      "metadata": {
        "id": "Xxb3A6vCmS7Q"
      }
    },
    {
      "cell_type": "code",
      "source": [
        "# Reversing elements\n",
        "\n",
        "for text in text_exx:\n",
        "  print('The reverse of {}   is:  {}'.format(text,text[::-1]))"
      ],
      "metadata": {
        "colab": {
          "base_uri": "https://localhost:8080/"
        },
        "id": "AFVyUsqnlMlt",
        "outputId": "eb353f75-e03e-491c-b672-b60d23474052"
      },
      "execution_count": 47,
      "outputs": [
        {
          "output_type": "stream",
          "name": "stdout",
          "text": [
            "The reverse of News   is:  sweN\n",
            "The reverse of Life   is:  efiL\n",
            "The reverse of Entertainment   is:  tnemniatretnE\n",
            "The reverse of Finance   is:  ecnaniF\n",
            "The reverse of Sports   is:  stropS\n",
            "The reverse of New   is:  weN\n",
            "The reverse of on   is:  no\n",
            "The reverse of Yahoo   is:  oohaY\n",
            "The reverse of Yahoo   is:  oohaY\n",
            "The reverse of Finance   is:  ecnaniF\n",
            "The reverse of Wall   is:  llaW\n",
            "The reverse of Street   is:  teertS\n",
            "The reverse of isn't   is:  t'nsi\n",
            "The reverse of banking   is:  gniknab\n",
            "The reverse of on   is:  no\n"
          ]
        }
      ]
    },
    {
      "cell_type": "markdown",
      "source": [
        "**Converting uppercase and lowercase**\n",
        "\n",
        "Converting between cases can be done with **upper()**, **lower()**, and **swapcase()**."
      ],
      "metadata": {
        "id": "TE0VT8jznGFa"
      }
    },
    {
      "cell_type": "code",
      "source": [
        "# upper case and lower case\n",
        "\n",
        "for text in text_exx:\n",
        "  print('The upper case of {}   is:  {}.      Lower case is: {}'.format(text,text.upper(), text.lower()))\n",
        "  print('The swap case of {}   is:  {}'.format(text,text.swapcase()))\n",
        "  print()\n",
        ""
      ],
      "metadata": {
        "colab": {
          "base_uri": "https://localhost:8080/"
        },
        "id": "uwzgmHBlmMg0",
        "outputId": "de42c280-322e-48ae-ce23-bd053ea488e7"
      },
      "execution_count": 51,
      "outputs": [
        {
          "output_type": "stream",
          "name": "stdout",
          "text": [
            "The upper case of News   is:  NEWS.      Lower case is: news\n",
            "The swap case of News   is:  nEWS\n",
            "\n",
            "The upper case of Life   is:  LIFE.      Lower case is: life\n",
            "The swap case of Life   is:  lIFE\n",
            "\n",
            "The upper case of Entertainment   is:  ENTERTAINMENT.      Lower case is: entertainment\n",
            "The swap case of Entertainment   is:  eNTERTAINMENT\n",
            "\n",
            "The upper case of Finance   is:  FINANCE.      Lower case is: finance\n",
            "The swap case of Finance   is:  fINANCE\n",
            "\n",
            "The upper case of Sports   is:  SPORTS.      Lower case is: sports\n",
            "The swap case of Sports   is:  sPORTS\n",
            "\n",
            "The upper case of New   is:  NEW.      Lower case is: new\n",
            "The swap case of New   is:  nEW\n",
            "\n",
            "The upper case of on   is:  ON.      Lower case is: on\n",
            "The swap case of on   is:  ON\n",
            "\n",
            "The upper case of Yahoo   is:  YAHOO.      Lower case is: yahoo\n",
            "The swap case of Yahoo   is:  yAHOO\n",
            "\n",
            "The upper case of Yahoo   is:  YAHOO.      Lower case is: yahoo\n",
            "The swap case of Yahoo   is:  yAHOO\n",
            "\n",
            "The upper case of Finance   is:  FINANCE.      Lower case is: finance\n",
            "The swap case of Finance   is:  fINANCE\n",
            "\n",
            "The upper case of Wall   is:  WALL.      Lower case is: wall\n",
            "The swap case of Wall   is:  wALL\n",
            "\n",
            "The upper case of Street   is:  STREET.      Lower case is: street\n",
            "The swap case of Street   is:  sTREET\n",
            "\n",
            "The upper case of isn't   is:  ISN'T.      Lower case is: isn't\n",
            "The swap case of isn't   is:  ISN'T\n",
            "\n",
            "The upper case of banking   is:  BANKING.      Lower case is: banking\n",
            "The swap case of banking   is:  BANKING\n",
            "\n",
            "The upper case of on   is:  ON.      Lower case is: on\n",
            "The swap case of on   is:  ON\n",
            "\n"
          ]
        }
      ]
    },
    {
      "cell_type": "markdown",
      "source": [
        "**Checking for string membership**\n",
        "\n",
        "Check for string membership using the **in** operator."
      ],
      "metadata": {
        "id": "rpPD2S5htXXI"
      }
    },
    {
      "cell_type": "code",
      "source": [
        "#\n",
        "\n",
        "s1 = \"MacDemotD'Angeles\"\n",
        "s2 = 'Mac'\n",
        "s3 = 'Marcus'\n",
        "\n",
        "print('\\'Mac\\' is {} in {}'.format(s1, s2 in s1))\n",
        "print('Mark is {} in {}'.format(s1, s3 in s1))\n",
        "print()\n",
        "\n",
        "\n",
        "# Find Find the location of a substring with find() (-1 means not present).\n",
        "\n",
        "print(text_exx)\n",
        "\n",
        "print(f\"Location of Finance: {' '.join(text_exx).find('Finance')}\")\n",
        "print(f\"Location of Financial: {' '.join(text_exx).find('Financial')}\")"
      ],
      "metadata": {
        "colab": {
          "base_uri": "https://localhost:8080/"
        },
        "id": "491VaxJztpz2",
        "outputId": "2a29066b-469b-43ea-a377-22333ca8eb0f"
      },
      "execution_count": 70,
      "outputs": [
        {
          "output_type": "stream",
          "name": "stdout",
          "text": [
            "'Mac' is MacDemotD'Angeles in True\n",
            "Mark is MacDemotD'Angeles in False\n",
            "\n",
            "['News', 'Life', 'Entertainment', 'Finance', 'Sports', 'New', 'on', 'Yahoo', 'Yahoo', 'Finance', 'Wall', 'Street', \"isn't\", 'banking', 'on']\n",
            "Location of Finance: 24\n",
            "Location of Financial: -1\n"
          ]
        }
      ]
    },
    {
      "cell_type": "markdown",
      "source": [
        "**Replacing Substring**\n",
        "\n",
        "Replace substrings with **replace()**."
      ],
      "metadata": {
        "id": "INZwvw391E-A"
      }
    },
    {
      "cell_type": "code",
      "source": [
        "#\n",
        "\n",
        "print(text_exx)\n",
        "\n",
        "# Word to replace\n",
        "joined_text = ' '.join(text_exx)\n",
        "rep_word = 'Yahoo Financial'\n",
        "\n",
        "print('{}'.format(joined_text.replace('Yahoo', rep_word)))\n",
        "\n"
      ],
      "metadata": {
        "colab": {
          "base_uri": "https://localhost:8080/"
        },
        "id": "CTwpN5z21SJd",
        "outputId": "3f609067-14ab-45cc-f9db-469e2bfa923d"
      },
      "execution_count": 72,
      "outputs": [
        {
          "output_type": "stream",
          "name": "stdout",
          "text": [
            "['News', 'Life', 'Entertainment', 'Finance', 'Sports', 'New', 'on', 'Yahoo', 'Yahoo', 'Finance', 'Wall', 'Street', \"isn't\", 'banking', 'on']\n",
            "News Life Entertainment Finance Sports New on Yahoo Financial Yahoo Financial Finance Wall Street isn't banking on\n"
          ]
        }
      ]
    },
    {
      "cell_type": "markdown",
      "source": [
        "**Combine Elements from different list**\n",
        "\n",
        "\n",
        "Combine multiple lists in an element-wise fashion with **zip()**."
      ],
      "metadata": {
        "id": "8dqVVrUf3TsP"
      }
    },
    {
      "cell_type": "code",
      "source": [
        "#\n",
        "\n",
        "list_a = ['Kamerun', 'Ghana', 'Deutchsland']\n",
        "list_b = ['Jaunde', 'Accra', 'Berlin']\n",
        "\n",
        "for x, y in zip(list_a, list_b):\n",
        "  print(f'The capital of {x} is {y}')\n",
        "  print('The Capital of {} is {}'.format(x, y))"
      ],
      "metadata": {
        "colab": {
          "base_uri": "https://localhost:8080/"
        },
        "id": "0vCtKtMn3csB",
        "outputId": "d189a4a6-6d9e-4268-e40d-6eacb2f0e340"
      },
      "execution_count": 73,
      "outputs": [
        {
          "output_type": "stream",
          "name": "stdout",
          "text": [
            "The capital of Kamerun is Jaunde\n",
            "The Capital of Kamerun is Jaunde\n",
            "The capital of Ghana is Accra\n",
            "The Capital of Ghana is Accra\n",
            "The capital of Deutchsland is Berlin\n",
            "The Capital of Deutchsland is Berlin\n"
          ]
        }
      ]
    },
    {
      "cell_type": "markdown",
      "source": [
        "**Checking for Anagrams**\n",
        "\n",
        "Check for anagrams by counting, comparing letter occurrences."
      ],
      "metadata": {
        "id": "BC-zifiC5Fa3"
      }
    },
    {
      "cell_type": "code",
      "source": [
        "import numpy as np\n",
        "from collections import Counter\n",
        "\n",
        "text_l = text.lower()\n",
        "#text = text.replace(' ', '')\n",
        "np.array(Counter(text_l.split()))"
      ],
      "metadata": {
        "colab": {
          "base_uri": "https://localhost:8080/"
        },
        "id": "OikDYo9M5ElQ",
        "outputId": "634873ed-ed7f-4fe2-c6e1-de412f796600"
      },
      "execution_count": 92,
      "outputs": [
        {
          "output_type": "execute_result",
          "data": {
            "text/plain": [
              "array(Counter({'to': 17, 'the': 13, 'of': 12, 'stocks': 11, 'in': 11, 'and': 8, 'stock': 8, 'on': 7, 'for': 7, 'trump': 6, 'a': 6, 'after': 6, 'is': 6, 'warren': 6, 'are': 6, 'what': 6, 'wall': 4, 'street': 4, 'as': 4, 'with': 4, 'money': 4, 'billionaire': 4, 'buffett': 4, 'stake': 4, 'has': 4, 'palantir': 4, 'this': 4, \"here's\": 4, 'daily': 4, 'buying': 4, 'will': 4, 'top': 4, 'credit': 4, 'more': 3, 'nuclear': 3, 'trade': 3, 'but': 3, 'before': 3, 'strong': 3, 'its': 3, 'here': 3, 'real': 3, 'best': 3, 'gold': 3, 'from': 3, 'an': 3, 'may': 3, 'soar': 3, 'experts': 3, 'ideas': 3, 'save': 3, 'about': 3, 'cards': 3, 'news': 2, 'finance': 2, 'new': 2, 'yahoo': 2, 'ai': 2, 'russia': 2, 'markets': 2, '—': 2, 'doctrine': 2, 'beats': 2, 'nvidia': 2, 'us': 2, 'walmart': 2, 'lifts': 2, 'earnings': 2, 'over': 2, 'annual': 2, 'buy': 2, 'build': 2, 'four': 2, 'sold': 2, '67%': 2, \"berkshire's\": 2, 'apple': 2, 'piling': 2, 'into': 2, 'beloved': 2, 'consumer': 2, 'brand': 2, 'whose': 2, 'soared': 2, 'by': 2, '7,000%': 2, 'since': 2, 'ipo': 2, 'bye-bye,': 2, 'apple!': 2, \"buffett's\": 2, 'magnificent': 2, 'seven': 2, 'israel': 2, 'englander': 2, 'dumped': 2, '90%': 2, \"millennium's\": 2, 'favor': 2, 'hypergrowth': 2, 'electric-vehicle': 2, '(ev)': 2, 'just': 2, 'bought': 2, '4': 2, 'stocks.': 2, 'bunch.': 2, 'spotlight:': 2, 'prices': 2, 'pull': 2, 'back': 2, 'peak': 2, 'billionaires': 2, 'selling': 2, 'index': 2, 'fund': 2, 'that': 2, 'up': 2, '54,300%,': 2, 'according': 2, 'certain': 2, 'djt,': 2, 'bakkt': 2, 'pop': 2, 'report': 2, 'media': 2, 'talks': 2, 'acquire': 2, 'crypto': 2, 'trading': 2, 'platform': 2, 'how': 2, 'economy': 2, 'moves': 2, 'it': 2, 'ways': 2, 'avoid': 2, 'know': 2, 'win': 2, 'super': 2, 'micro': 2, 'life': 1, 'entertainment': 1, 'sports': 1, \"isn't\": 1, 'banking': 1, 'juice': 1, 'any': 1, 'retreat': 1, 'worries': 1, 'rattle': 1, 'newman:': 1, 'my': 1, 'went': 1, 'bust': 1, 'consolation': 1, 'prize': 1, 'putin': 1, 'signs': 1, 'lowering': 1, 'threshold': 1, 'using': 1, 'weapons': 1, 'safe-haven': 1, 'assets': 1, 'rally': 1, 'updates': 1, \"lowe's\": 1, 'estimates,': 1, 'downbeat': 1, 'sales': 1, 'outlook': 1, 'weighs': 1, 'chips': 1, 'power': 1, \"nebius'\": 1, 'cloud': 1, 'expansion': 1, 'guidance': 1, 'revenue': 1, \"nvidia's\": 1, 'options': 1, 'primed': 1, '$300b': 1, 'price': 1, 'swing': 1, 'japan': 1, 'china': 1, 'dump': 1, 'treasurys': 1, \"trump's\": 1, 'victory': 1, 'latest': 1, \"serbia's\": 1, 'opposition': 1, 'locked': 1, 'standoff': 1, 'police': 1, 'tensions': 1, 'rise': 1, 'deadly': 1, 'roof': 1, 'collapse': 1, 'medtronic': 1, 'profit': 1, 'view': 1, 'demand': 1, 'medical': 1, 'devices': 1, 'beyond': 1, 'b-loans?': 1, 'development': 1, 'banks': 1, 'seek': 1, 'private': 1, 'climate': 1, 'change': 1, 'fight': 1, \"alphabet's\": 1, 'partnership': 1, 'anthropic': 1, 'no': 1, 'longer': 1, 'under': 1, 'uk': 1, 'scrutiny': 1, 'blackstone': 1, 'strikes': 1, 'deal': 1, 'jersey': 1, \"mike's\": 1, 'subs': 1, 'fall': 1, 'russia-ukraine': 1, 'war': 1, 'rattles': 1, 'traders:': 1, 'wrap': 1, 'raises': 1, 'forecasts,': 1, 'betting': 1, 'holiday': 1, 'shopping': 1, 'byd': 1, 'phase': 1, 'industrial': 1, 'park': 1, 'southern': 1, 'china,': 1, 'shenzhen': 1, 'government': 1, 'says': 1, 'popular': 1, 'bitcoin': 1, \"'risky,'\": 1, 'not': 1, 'risk-on': 1, 'asset:': 1, 'blackrock': 1, 'strategist': 1, \"spirit's\": 1, 'bankruptcy': 1, 'impact': 1, 'consumers,': 1, 'shareholders': 1, 'why': 1, 'market': 1, 'be': 1, \"'super\": 1, \"volatile'\": 1, 'rest': 1, '2024': 1, 'spacex': 1, 'valuation': 1, \"company's\": 1, 'place': 1, 'global': 1, 'space': 1, 'retail': 1, 'investors': 1, 'now?': 1, 'investopedia': 1, 'editor': 1, 'explains.': 1, 'investment': 1, 'gainers': 1, 'losers': 1, 'stockstory': 1, 'picks': 1, 'most': 1, 'active': 1, 'etfs': 1, 'undervalued': 1, 'growth': 1, 'analyst': 1, 'morningstar': 1, '5-star': 1, 'fundamental': 1, 'technical': 1, 'your': 1, 'wealth': 1, 'realtor': 1, 'fee': 1, 'rules': 1, 'have': 1, 'changed.': 1, 'know.': 1, 'smart': 1, 'paypal': 1, 'savings': 1, 'account': 1, 'offers': 1, '4.30%': 1, 'apy': 1, 'worth': 1, 'it?': 1, 'make': 1, 'end': 1, 'year': 1, '9': 1, 'debt': 1, 'black': 1, 'friday': 1, 'when': 1, 'mortgage': 1, 'rates': 1, 'go': 1, 'down?': 1, 'say': 1, '2025.': 1, 'inside': 1, 'look': 1, 'at': 1, 'powerful': 1, 'estate': 1, 'negotiating': 1, 'tool': 1, 'thanksgiving': 1, 'groceries': 1, 'card': 1, 'users': 1, 'should': 1, 'fed': 1, 'rate': 1, 'cut': 1, 'trip': 1, 'costs': 1, 'during': 1, 'holidays': 1, '5': 1, 'easy': 1, 'get': 1, 'approved': 1, 'costco': 1, 'snapshots': 1, \"'no\": 1, \"landing'\": 1, 'scenario': 1, 'gains': 1, 'steam': 1, 'following': 1, 'ignites': 1, 'concerns': 1, 'miss': 1, 'soft': 1, 'landing': 1, 'optimistic': 1, '2.0': 1, \"fed's\": 1, 'biggest': 1, 'challenge': 1, 'become': 1, \"'sasquatch\": 1, 'financial': 1, \"world'\": 1, 'surges': 1, 'company': 1, 'files': 1, 'plan': 1, 'nasdaq': 1, 'delisting': 1, 'done': 1, 'last': 1, 'quarterly': 1, 'results.': 1, 'do': 1, 'nov.': 1, '20': 1, 'shares': 1, '30%': 1, 'naming': 1, 'auditor': 1}),\n",
              "      dtype=object)"
            ]
          },
          "metadata": {},
          "execution_count": 92
        }
      ]
    },
    {
      "cell_type": "code",
      "source": [
        "# function to define\n",
        "\n",
        "word = 'glean'\n",
        "word2 = 'angel'\n",
        "\n",
        "print(Counter(word), Counter(word2))\n",
        "print(Counter(word) == Counter(word2))\n",
        "\n",
        "def is_anagram(word1, word2):\n",
        "  return Counter(word1) == Counter(word2)\n",
        "\n",
        "words_1 = ['cheap', 'pan', 'brag', 'top', 'arc' ]\n",
        "words_2 = ['peach', 'can', 'grab', 'pot', 'car' ]\n",
        "\n",
        "for word1, word2 in zip(words_1, words_2):\n",
        "  print(f'{word1} and {word2} are anagrams: {is_anagram(word1, word2)}')"
      ],
      "metadata": {
        "colab": {
          "base_uri": "https://localhost:8080/"
        },
        "id": "bpDCmKPp679q",
        "outputId": "55a1c222-20a8-4d1f-da98-29bddb2b2dde"
      },
      "execution_count": 99,
      "outputs": [
        {
          "output_type": "stream",
          "name": "stdout",
          "text": [
            "Counter({'g': 1, 'l': 1, 'e': 1, 'a': 1, 'n': 1}) Counter({'a': 1, 'n': 1, 'g': 1, 'e': 1, 'l': 1})\n",
            "True\n",
            "cheap and peach are anagrams: True\n",
            "pan and can are anagrams: False\n",
            "brag and grab are anagrams: True\n",
            "top and pot are anagrams: True\n",
            "arc and car are anagrams: True\n"
          ]
        }
      ]
    },
    {
      "cell_type": "markdown",
      "source": [
        "**Checking for Palindrome**\n",
        "\n",
        "Check for palindromes by reversing a word and then using **==**."
      ],
      "metadata": {
        "id": "P6hMLA0P-NsH"
      }
    },
    {
      "cell_type": "code",
      "source": [
        "# Check for palindromes\n",
        "\n",
        "def is_palindrome(word):\n",
        "  word = word.lower()\n",
        "  return word == word[::-1]\n",
        "\n",
        "word = ['Civic', 'Mum', 'Mumy', 'Nun', 'Hannah', 'Noon', 'Kayak']\n",
        "\n",
        "for w in word:\n",
        "  print(f'{w} is a palindrome: {is_palindrome(w)}')"
      ],
      "metadata": {
        "colab": {
          "base_uri": "https://localhost:8080/"
        },
        "id": "SAfnctd2-Trc",
        "outputId": "78fc1b56-bba4-4df8-94f7-17c8d864468f"
      },
      "execution_count": 100,
      "outputs": [
        {
          "output_type": "stream",
          "name": "stdout",
          "text": [
            "Civic is a palindrome: True\n",
            "Mum is a palindrome: True\n",
            "Mumy is a palindrome: False\n",
            "Nun is a palindrome: True\n",
            "Hannah is a palindrome: True\n",
            "Noon is a palindrome: True\n",
            "Kayak is a palindrome: True\n"
          ]
        }
      ]
    }
  ]
}