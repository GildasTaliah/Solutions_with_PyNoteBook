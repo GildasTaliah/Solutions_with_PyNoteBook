{
  "nbformat": 4,
  "nbformat_minor": 0,
  "metadata": {
    "colab": {
      "provenance": [],
      "authorship_tag": "ABX9TyN3u2DPu/SMpHln5dNBTBT4",
      "include_colab_link": true
    },
    "kernelspec": {
      "name": "ir",
      "display_name": "R"
    },
    "language_info": {
      "name": "R"
    }
  },
  "cells": [
    {
      "cell_type": "markdown",
      "metadata": {
        "id": "view-in-github",
        "colab_type": "text"
      },
      "source": [
        "<a href=\"https://colab.research.google.com/github/GildasTaliah/Solutions_with_PyNoteBook/blob/main/StatsLearningHA.ipynb\" target=\"_parent\"><img src=\"https://colab.research.google.com/assets/colab-badge.svg\" alt=\"Open In Colab\"/></a>"
      ]
    },
    {
      "cell_type": "code",
      "source": [
        "#  Install tidymodels and other packages\n",
        "\n",
        "install.packages(c(\"tidymodels\", \"randomForest\", \"xgboost\"))\n",
        "install.packages(c(\"glmnet\", \"rpart.plot\", \"vip\"))"
      ],
      "metadata": {
        "colab": {
          "base_uri": "https://localhost:8080/"
        },
        "id": "uc7Vpw5s2656",
        "outputId": "22708b37-7767-4d3e-852a-8fd4cfabc4f4"
      },
      "execution_count": null,
      "outputs": [
        {
          "output_type": "stream",
          "name": "stderr",
          "text": [
            "Installing packages into ‘/usr/local/lib/R/site-library’\n",
            "(as ‘lib’ is unspecified)\n",
            "\n",
            "also installing the dependencies ‘shape’, ‘numDeriv’, ‘progressr’, ‘SQUAREM’, ‘diagram’, ‘lava’, ‘prodlim’, ‘warp’, ‘future.apply’, ‘iterators’, ‘listenv’, ‘parallelly’, ‘lhs’, ‘DiceDesign’, ‘sfd’, ‘sparsevctrs’, ‘patchwork’, ‘globals’, ‘clock’, ‘gower’, ‘ipred’, ‘timeDate’, ‘furrr’, ‘slider’, ‘doFuture’, ‘foreach’, ‘future’, ‘GPfit’, ‘modelenv’, ‘dials’, ‘hardhat’, ‘infer’, ‘modeldata’, ‘parsnip’, ‘recipes’, ‘rsample’, ‘tune’, ‘workflows’, ‘workflowsets’, ‘yardstick’\n",
            "\n",
            "\n",
            "Installing packages into ‘/usr/local/lib/R/site-library’\n",
            "(as ‘lib’ is unspecified)\n",
            "\n",
            "also installing the dependency ‘RcppEigen’\n",
            "\n",
            "\n"
          ]
        }
      ]
    },
    {
      "cell_type": "code",
      "source": [
        "## Import important libraries\n",
        "library(tidyverse)\n",
        "library(tidymodels)\n",
        "\n",
        "## Import other Engines\n",
        "library(rpart)\n",
        "library(randomForest)\n",
        "library(xgboost)\n",
        "\n",
        "## Import visualization libraries\n",
        "library(rpart.plot)\n",
        "library(vip)"
      ],
      "metadata": {
        "id": "LGNmUJM5K_tK",
        "colab": {
          "base_uri": "https://localhost:8080/"
        },
        "outputId": "b032695f-515d-4840-cc8e-5294b1db9470"
      },
      "execution_count": null,
      "outputs": [
        {
          "output_type": "stream",
          "name": "stderr",
          "text": [
            "── \u001b[1mAttaching core tidyverse packages\u001b[22m ──────────────────────── tidyverse 2.0.0 ──\n",
            "\u001b[32m✔\u001b[39m \u001b[34mdplyr    \u001b[39m 1.1.4     \u001b[32m✔\u001b[39m \u001b[34mreadr    \u001b[39m 2.1.5\n",
            "\u001b[32m✔\u001b[39m \u001b[34mforcats  \u001b[39m 1.0.0     \u001b[32m✔\u001b[39m \u001b[34mstringr  \u001b[39m 1.5.1\n",
            "\u001b[32m✔\u001b[39m \u001b[34mggplot2  \u001b[39m 3.5.2     \u001b[32m✔\u001b[39m \u001b[34mtibble   \u001b[39m 3.2.1\n",
            "\u001b[32m✔\u001b[39m \u001b[34mlubridate\u001b[39m 1.9.4     \u001b[32m✔\u001b[39m \u001b[34mtidyr    \u001b[39m 1.3.1\n",
            "\u001b[32m✔\u001b[39m \u001b[34mpurrr    \u001b[39m 1.0.4     \n",
            "── \u001b[1mConflicts\u001b[22m ────────────────────────────────────────── tidyverse_conflicts() ──\n",
            "\u001b[31m✖\u001b[39m \u001b[34mdplyr\u001b[39m::\u001b[32mfilter()\u001b[39m masks \u001b[34mstats\u001b[39m::filter()\n",
            "\u001b[31m✖\u001b[39m \u001b[34mdplyr\u001b[39m::\u001b[32mlag()\u001b[39m    masks \u001b[34mstats\u001b[39m::lag()\n",
            "\u001b[36mℹ\u001b[39m Use the conflicted package (\u001b[3m\u001b[34m<http://conflicted.r-lib.org/>\u001b[39m\u001b[23m) to force all conflicts to become errors\n",
            "── \u001b[1mAttaching packages\u001b[22m ────────────────────────────────────── tidymodels 1.3.0 ──\n",
            "\n",
            "\u001b[32m✔\u001b[39m \u001b[34mbroom       \u001b[39m 1.0.8     \u001b[32m✔\u001b[39m \u001b[34mrsample     \u001b[39m 1.3.0\n",
            "\u001b[32m✔\u001b[39m \u001b[34mdials       \u001b[39m 1.4.0     \u001b[32m✔\u001b[39m \u001b[34mtune        \u001b[39m 1.3.0\n",
            "\u001b[32m✔\u001b[39m \u001b[34minfer       \u001b[39m 1.0.8     \u001b[32m✔\u001b[39m \u001b[34mworkflows   \u001b[39m 1.2.0\n",
            "\u001b[32m✔\u001b[39m \u001b[34mmodeldata   \u001b[39m 1.4.0     \u001b[32m✔\u001b[39m \u001b[34mworkflowsets\u001b[39m 1.1.0\n",
            "\u001b[32m✔\u001b[39m \u001b[34mparsnip     \u001b[39m 1.3.1     \u001b[32m✔\u001b[39m \u001b[34myardstick   \u001b[39m 1.3.2\n",
            "\u001b[32m✔\u001b[39m \u001b[34mrecipes     \u001b[39m 1.3.1     \n",
            "\n",
            "── \u001b[1mConflicts\u001b[22m ───────────────────────────────────────── tidymodels_conflicts() ──\n",
            "\u001b[31m✖\u001b[39m \u001b[34mscales\u001b[39m::\u001b[32mdiscard()\u001b[39m masks \u001b[34mpurrr\u001b[39m::discard()\n",
            "\u001b[31m✖\u001b[39m \u001b[34mdplyr\u001b[39m::\u001b[32mfilter()\u001b[39m   masks \u001b[34mstats\u001b[39m::filter()\n",
            "\u001b[31m✖\u001b[39m \u001b[34mrecipes\u001b[39m::\u001b[32mfixed()\u001b[39m  masks \u001b[34mstringr\u001b[39m::fixed()\n",
            "\u001b[31m✖\u001b[39m \u001b[34mdplyr\u001b[39m::\u001b[32mlag()\u001b[39m      masks \u001b[34mstats\u001b[39m::lag()\n",
            "\u001b[31m✖\u001b[39m \u001b[34myardstick\u001b[39m::\u001b[32mspec()\u001b[39m masks \u001b[34mreadr\u001b[39m::spec()\n",
            "\u001b[31m✖\u001b[39m \u001b[34mrecipes\u001b[39m::\u001b[32mstep()\u001b[39m   masks \u001b[34mstats\u001b[39m::step()\n",
            "\n",
            "\n",
            "Attaching package: ‘rpart’\n",
            "\n",
            "\n",
            "The following object is masked from ‘package:dials’:\n",
            "\n",
            "    prune\n",
            "\n",
            "\n",
            "randomForest 4.7-1.2\n",
            "\n",
            "Type rfNews() to see new features/changes/bug fixes.\n",
            "\n",
            "\n",
            "Attaching package: ‘randomForest’\n",
            "\n",
            "\n",
            "The following object is masked from ‘package:dplyr’:\n",
            "\n",
            "    combine\n",
            "\n",
            "\n",
            "The following object is masked from ‘package:ggplot2’:\n",
            "\n",
            "    margin\n",
            "\n",
            "\n",
            "\n",
            "Attaching package: ‘xgboost’\n",
            "\n",
            "\n",
            "The following object is masked from ‘package:dplyr’:\n",
            "\n",
            "    slice\n",
            "\n",
            "\n",
            "\n",
            "Attaching package: ‘vip’\n",
            "\n",
            "\n",
            "The following object is masked from ‘package:utils’:\n",
            "\n",
            "    vi\n",
            "\n",
            "\n"
          ]
        }
      ]
    },
    {
      "cell_type": "code",
      "source": [
        "##  Read data into R\n",
        "data <- read_csv('StudentPerformanceFactors.csv')\n",
        "\n",
        "## Take a glimpse of the data\n",
        "glimpse(data)"
      ],
      "metadata": {
        "colab": {
          "base_uri": "https://localhost:8080/"
        },
        "id": "ps8gPV6HpOWE",
        "outputId": "53d9e7b2-e45f-44a9-d19f-a648292c9937"
      },
      "execution_count": null,
      "outputs": [
        {
          "output_type": "stream",
          "name": "stderr",
          "text": [
            "\u001b[1mRows: \u001b[22m\u001b[34m6617\u001b[39m \u001b[1mColumns: \u001b[22m\u001b[34m22\u001b[39m\n",
            "\u001b[36m──\u001b[39m \u001b[1mColumn specification\u001b[22m \u001b[36m────────────────────────────────────────────────────────\u001b[39m\n",
            "\u001b[1mDelimiter:\u001b[22m \",\"\n",
            "\u001b[31mchr\u001b[39m (14): Parental_Involvement, Access_to_Resources, Extracurricular_Activit...\n",
            "\u001b[32mdbl\u001b[39m  (8): Hours_Studied, Attendance, Sleep_Hours, Awake_Hours, Previous_Scor...\n",
            "\n",
            "\u001b[36mℹ\u001b[39m Use `spec()` to retrieve the full column specification for this data.\n",
            "\u001b[36mℹ\u001b[39m Specify the column types or set `show_col_types = FALSE` to quiet this message.\n"
          ]
        },
        {
          "output_type": "stream",
          "name": "stdout",
          "text": [
            "Rows: 6,617\n",
            "Columns: 22\n",
            "$ Hours_Studied              \u001b[3m\u001b[90m<dbl>\u001b[39m\u001b[23m 23\u001b[90m, \u001b[39m19\u001b[90m, \u001b[39m24\u001b[90m, \u001b[39m29\u001b[90m, \u001b[39m19\u001b[90m, \u001b[39m19\u001b[90m, \u001b[39m29\u001b[90m, \u001b[39m25\u001b[90m, \u001b[39m17\u001b[90m, \u001b[39m23\u001b[90m, \u001b[39m17\u001b[90m,\u001b[39m…\n",
            "$ Attendance                 \u001b[3m\u001b[90m<dbl>\u001b[39m\u001b[23m 84\u001b[90m, \u001b[39m64\u001b[90m, \u001b[39m98\u001b[90m, \u001b[39m89\u001b[90m, \u001b[39m92\u001b[90m, \u001b[39m88\u001b[90m, \u001b[39m84\u001b[90m, \u001b[39m78\u001b[90m, \u001b[39m94\u001b[90m, \u001b[39m98\u001b[90m, \u001b[39m80\u001b[90m,\u001b[39m…\n",
            "$ Parental_Involvement       \u001b[3m\u001b[90m<chr>\u001b[39m\u001b[23m \"Low\"\u001b[90m, \u001b[39m\"Low\"\u001b[90m, \u001b[39m\"Medium\"\u001b[90m, \u001b[39m\"Low\"\u001b[90m, \u001b[39m\"Medium\"\u001b[90m, \u001b[39m\"M…\n",
            "$ Access_to_Resources        \u001b[3m\u001b[90m<chr>\u001b[39m\u001b[23m \"High\"\u001b[90m, \u001b[39m\"Medium\"\u001b[90m, \u001b[39m\"Medium\"\u001b[90m, \u001b[39m\"Medium\"\u001b[90m, \u001b[39m\"Medi…\n",
            "$ Extracurricular_Activities \u001b[3m\u001b[90m<chr>\u001b[39m\u001b[23m \"No\"\u001b[90m, \u001b[39m\"No\"\u001b[90m, \u001b[39m\"Yes\"\u001b[90m, \u001b[39m\"Yes\"\u001b[90m, \u001b[39m\"Yes\"\u001b[90m, \u001b[39m\"Yes\"\u001b[90m, \u001b[39m\"Ye…\n",
            "$ Sleep_Hours                \u001b[3m\u001b[90m<dbl>\u001b[39m\u001b[23m 7\u001b[90m, \u001b[39m8\u001b[90m, \u001b[39m7\u001b[90m, \u001b[39m8\u001b[90m, \u001b[39m6\u001b[90m, \u001b[39m8\u001b[90m, \u001b[39m7\u001b[90m, \u001b[39m6\u001b[90m, \u001b[39m6\u001b[90m, \u001b[39m8\u001b[90m, \u001b[39m8\u001b[90m, \u001b[39m6\u001b[90m, \u001b[39m8\u001b[90m, \u001b[39m8\u001b[90m, \u001b[39m8…\n",
            "$ Awake_Hours                \u001b[3m\u001b[90m<dbl>\u001b[39m\u001b[23m 17\u001b[90m, \u001b[39m16\u001b[90m, \u001b[39m17\u001b[90m, \u001b[39m16\u001b[90m, \u001b[39m18\u001b[90m, \u001b[39m16\u001b[90m, \u001b[39m17\u001b[90m, \u001b[39m18\u001b[90m, \u001b[39m18\u001b[90m, \u001b[39m16\u001b[90m, \u001b[39m16\u001b[90m,\u001b[39m…\n",
            "$ Previous_Scores            \u001b[3m\u001b[90m<dbl>\u001b[39m\u001b[23m 73\u001b[90m, \u001b[39m59\u001b[90m, \u001b[39m91\u001b[90m, \u001b[39m98\u001b[90m, \u001b[39m65\u001b[90m, \u001b[39m89\u001b[90m, \u001b[39m68\u001b[90m, \u001b[39m50\u001b[90m, \u001b[39m80\u001b[90m, \u001b[39m71\u001b[90m, \u001b[39m88\u001b[90m,\u001b[39m…\n",
            "$ Motivation_Level           \u001b[3m\u001b[90m<chr>\u001b[39m\u001b[23m \"Low\"\u001b[90m, \u001b[39m\"Low\"\u001b[90m, \u001b[39m\"Medium\"\u001b[90m, \u001b[39m\"Medium\"\u001b[90m, \u001b[39m\"Medium\"\u001b[90m,\u001b[39m…\n",
            "$ Internet_Access            \u001b[3m\u001b[90m<chr>\u001b[39m\u001b[23m \"Yes\"\u001b[90m, \u001b[39m\"Yes\"\u001b[90m, \u001b[39m\"Yes\"\u001b[90m, \u001b[39m\"Yes\"\u001b[90m, \u001b[39m\"Yes\"\u001b[90m, \u001b[39m\"Yes\"\u001b[90m, \u001b[39m\"…\n",
            "$ Tutoring_Sessions          \u001b[3m\u001b[90m<dbl>\u001b[39m\u001b[23m 0\u001b[90m, \u001b[39m2\u001b[90m, \u001b[39m2\u001b[90m, \u001b[39m1\u001b[90m, \u001b[39m3\u001b[90m, \u001b[39m3\u001b[90m, \u001b[39m1\u001b[90m, \u001b[39m1\u001b[90m, \u001b[39m0\u001b[90m, \u001b[39m0\u001b[90m, \u001b[39m4\u001b[90m, \u001b[39m2\u001b[90m, \u001b[39m2\u001b[90m, \u001b[39m2\u001b[90m, \u001b[39m1…\n",
            "$ Family_Income              \u001b[3m\u001b[90m<chr>\u001b[39m\u001b[23m \"Low\"\u001b[90m, \u001b[39m\"Medium\"\u001b[90m, \u001b[39m\"Medium\"\u001b[90m, \u001b[39m\"Medium\"\u001b[90m, \u001b[39m\"Mediu…\n",
            "$ Teacher_Quality            \u001b[3m\u001b[90m<chr>\u001b[39m\u001b[23m \"Medium\"\u001b[90m, \u001b[39m\"Medium\"\u001b[90m, \u001b[39m\"Medium\"\u001b[90m, \u001b[39m\"Medium\"\u001b[90m, \u001b[39m\"Hi…\n",
            "$ School_Type                \u001b[3m\u001b[90m<chr>\u001b[39m\u001b[23m \"Public\"\u001b[90m, \u001b[39m\"Public\"\u001b[90m, \u001b[39m\"Public\"\u001b[90m, \u001b[39m\"Public\"\u001b[90m, \u001b[39m\"Pu…\n",
            "$ Peer_Influence             \u001b[3m\u001b[90m<chr>\u001b[39m\u001b[23m \"Positive\"\u001b[90m, \u001b[39m\"Negative\"\u001b[90m, \u001b[39m\"Neutral\"\u001b[90m, \u001b[39m\"Negativ…\n",
            "$ Physical_Activity          \u001b[3m\u001b[90m<dbl>\u001b[39m\u001b[23m 3\u001b[90m, \u001b[39m4\u001b[90m, \u001b[39m4\u001b[90m, \u001b[39m4\u001b[90m, \u001b[39m4\u001b[90m, \u001b[39m3\u001b[90m, \u001b[39m2\u001b[90m, \u001b[39m2\u001b[90m, \u001b[39m1\u001b[90m, \u001b[39m5\u001b[90m, \u001b[39m4\u001b[90m, \u001b[39m2\u001b[90m, \u001b[39m4\u001b[90m, \u001b[39m3\u001b[90m, \u001b[39m4…\n",
            "$ Learning_Disabilities      \u001b[3m\u001b[90m<chr>\u001b[39m\u001b[23m \"No\"\u001b[90m, \u001b[39m\"No\"\u001b[90m, \u001b[39m\"No\"\u001b[90m, \u001b[39m\"No\"\u001b[90m, \u001b[39m\"No\"\u001b[90m, \u001b[39m\"No\"\u001b[90m, \u001b[39m\"No\"\u001b[90m, \u001b[39m\"…\n",
            "$ Parental_Education_Level   \u001b[3m\u001b[90m<chr>\u001b[39m\u001b[23m \"High School\"\u001b[90m, \u001b[39m\"College\"\u001b[90m, \u001b[39m\"Postgraduate\"\u001b[90m, \u001b[39m\"…\n",
            "$ Distance_from_Home         \u001b[3m\u001b[90m<chr>\u001b[39m\u001b[23m \"Near\"\u001b[90m, \u001b[39m\"Moderate\"\u001b[90m, \u001b[39m\"Near\"\u001b[90m, \u001b[39m\"Moderate\"\u001b[90m, \u001b[39m\"Ne…\n",
            "$ Home_Planet                \u001b[3m\u001b[90m<chr>\u001b[39m\u001b[23m \"Earth\"\u001b[90m, \u001b[39m\"Earth\"\u001b[90m, \u001b[39m\"Earth\"\u001b[90m, \u001b[39m\"Earth\"\u001b[90m, \u001b[39m\"Earth\"…\n",
            "$ Gender                     \u001b[3m\u001b[90m<chr>\u001b[39m\u001b[23m \"Male\"\u001b[90m, \u001b[39m\"Female\"\u001b[90m, \u001b[39m\"Male\"\u001b[90m, \u001b[39m\"Male\"\u001b[90m, \u001b[39m\"Female\"\u001b[90m,\u001b[39m…\n",
            "$ Exam_Score                 \u001b[3m\u001b[90m<dbl>\u001b[39m\u001b[23m 67\u001b[90m, \u001b[39m61\u001b[90m, \u001b[39m74\u001b[90m, \u001b[39m71\u001b[90m, \u001b[39m70\u001b[90m, \u001b[39m71\u001b[90m, \u001b[39m67\u001b[90m, \u001b[39m66\u001b[90m, \u001b[39m69\u001b[90m, \u001b[39m72\u001b[90m, \u001b[39m68\u001b[90m,\u001b[39m…\n"
          ]
        }
      ]
    },
    {
      "cell_type": "code",
      "source": [
        "#####################********************####################*******************\n",
        "### Data Exploration + Data Cleaning + Data Pre-processing\n",
        "### Outlier Removal + Feature Engineering\n",
        "###\n",
        "###\n",
        "#####################********************####################*******************\n",
        "\n",
        "\n",
        "cat(\"The Home_Planet column has just one unique value, therefore is redundant, including it will be uninformative to our data analysis and as well\\\n",
        "modelling process.\n",
        "Dropping duplicates, the 'distinct' function will ensure we keep only unique rows - essentially what is needed across all columns. The 'ExamScore' \\\n",
        "target variable is made to appear first using the 'relocate' function.\")\n",
        "cat(\"\\n\")\n",
        "\n",
        "data <- data  |>\n",
        "        # Select all except Home_Planet\n",
        "        select(!c(Home_Planet)) |>\n",
        "        # Keep only distintct observation\n",
        "        distinct(.keep_all = TRUE) |>\n",
        "        # Remove na values\n",
        "        na.omit() |>\n",
        "        # Relocate the target variable to first column\n",
        "        relocate(Exam_Score)\n",
        "\n",
        "## Replace misspelled words\n",
        "data$Parental_Involvement <- gsub('MEDium', 'Medium', data$Parental_Involvement)\n",
        "data$Gender <- gsub('Femael', 'Female', data$Gender)\n",
        "\n",
        "cat(\"\\n\")\n",
        "cat(\" For smooth data analysis and for creating models, we will have qualitative data encoded as factors. For this, I will apply apply the 'as.factor()' \\\n",
        "function across the entire data for columns with character data type. Numeric columns are are already in the desired data type, it is left unchanged\")\n",
        "cat(\"\\n\")\n",
        "\n",
        "## Cast character data type to factor\n",
        "data <- data |>\n",
        "        mutate(across(where(is.character), \\(x) as.factor(x)) )\n",
        "summary(data)\n",
        "cat(\"Now data is more easy to understand\")"
      ],
      "metadata": {
        "id": "Bb2wr-06L66J",
        "colab": {
          "base_uri": "https://localhost:8080/",
          "height": 1000
        },
        "outputId": "55f1277b-e00e-4bce-a713-4fb2f39ba8e8"
      },
      "execution_count": null,
      "outputs": [
        {
          "output_type": "stream",
          "name": "stdout",
          "text": [
            "The Home_Planet column has just one unique value, therefore is redundant, including it will be uninformative to our data analysis and as well\n",
            "modelling process.\n",
            "Dropping duplicates, the 'distinct' function will ensure we keep only unique rows - essentially what is needed across all columns. The 'ExamScore' \n",
            "target variable is made to appear first using the 'relocate' function.\n",
            "\n",
            " For smooth data analysis and for creating models, we will have qualitative data encoded as factors. For this, I will apply apply the 'as.factor()' \n",
            "function across the entire data for columns with character data type. Numeric columns are are already in the desired data type, it is left unchanged\n"
          ]
        },
        {
          "output_type": "display_data",
          "data": {
            "text/plain": [
              "   Exam_Score    Hours_Studied      Attendance     Parental_Involvement\n",
              " Min.   :  0.0   Min.   :  1.00   Min.   : 60.00   High  :1816         \n",
              " 1st Qu.: 65.0   1st Qu.: 16.00   1st Qu.: 70.00   Low   :1273         \n",
              " Median : 67.0   Median : 20.00   Median : 80.00   Medium:3230         \n",
              " Mean   : 67.2   Mean   : 20.05   Mean   : 80.01                       \n",
              " 3rd Qu.: 69.0   3rd Qu.: 24.00   3rd Qu.: 90.00                       \n",
              " Max.   :101.0   Max.   :100.00   Max.   :100.00                       \n",
              " Access_to_Resources Extracurricular_Activities  Sleep_Hours    \n",
              " High  :1887         No :2545                   Min.   : 4.000  \n",
              " Low   :1260         Yes:3774                   1st Qu.: 6.000  \n",
              " Medium:3172                                    Median : 7.000  \n",
              "                                                Mean   : 7.033  \n",
              "                                                3rd Qu.: 8.000  \n",
              "                                                Max.   :10.000  \n",
              "  Awake_Hours    Previous_Scores  Motivation_Level Internet_Access\n",
              " Min.   :14.00   Min.   : 50.00   High  :1266      No : 478       \n",
              " 1st Qu.:16.00   1st Qu.: 63.00   Low   :1842      Yes:5841       \n",
              " Median :17.00   Median : 75.00   Medium:3211                     \n",
              " Mean   :16.97   Mean   : 75.06                                   \n",
              " 3rd Qu.:18.00   3rd Qu.: 88.00                                   \n",
              " Max.   :20.00   Max.   :100.00                                   \n",
              " Tutoring_Sessions Family_Income Teacher_Quality  School_Type    Peer_Influence\n",
              " Min.   :0.000     High  :1216   High  :1884     Private:1927   Negative:1321  \n",
              " 1st Qu.:1.000     Low   :2561   Low   : 644     Public :4392   Neutral :2478  \n",
              " Median :1.000     Medium:2542   Medium:3791                    Positive:2520  \n",
              " Mean   :1.494                                                                 \n",
              " 3rd Qu.:2.000                                                                 \n",
              " Max.   :8.000                                                                 \n",
              " Physical_Activity Learning_Disabilities Parental_Education_Level\n",
              " Min.   :0.000     No :5654              College     :1921       \n",
              " 1st Qu.:2.000     Yes: 665              High School :3131       \n",
              " Median :3.000                           Postgraduate:1267       \n",
              " Mean   :2.971                                                   \n",
              " 3rd Qu.:4.000                                                   \n",
              " Max.   :6.000                                                   \n",
              " Distance_from_Home    Gender    \n",
              " Far     : 630      Female:2672  \n",
              " Moderate:1916      Male  :3647  \n",
              " Near    :3773                   \n",
              "                                 \n",
              "                                 \n",
              "                                 "
            ]
          },
          "metadata": {}
        },
        {
          "output_type": "stream",
          "name": "stdout",
          "text": [
            "Now data is more easy to understand"
          ]
        }
      ]
    },
    {
      "cell_type": "code",
      "source": [
        "##\n",
        "## Examine target variable\n",
        "##\n",
        "summary(data$Exam_Score)\n",
        "#data |> count(data$Exam_Score)"
      ],
      "metadata": {
        "id": "nKlETvxRMCbf",
        "colab": {
          "base_uri": "https://localhost:8080/",
          "height": 62
        },
        "outputId": "4cbab39d-9fe9-42e6-8aee-25312b6f70d3"
      },
      "execution_count": null,
      "outputs": [
        {
          "output_type": "display_data",
          "data": {
            "text/plain": [
              "   Min. 1st Qu.  Median    Mean 3rd Qu.    Max. \n",
              "    0.0    65.0    67.0    67.2    69.0   101.0 "
            ]
          },
          "metadata": {}
        }
      ]
    },
    {
      "cell_type": "code",
      "source": [
        "ggplot(data, aes(x = Exam_Score)) +\n",
        "  geom_histogram() +\n",
        "  theme_classic()\n",
        "\n",
        "cat(\"We notice how data is very extreme, we handel accoringly\")"
      ],
      "metadata": {
        "colab": {
          "base_uri": "https://localhost:8080/",
          "height": 482
        },
        "id": "Xncm6AgS-5SM",
        "outputId": "db3cf49c-1a21-4381-9b19-199347d4ffda"
      },
      "execution_count": null,
      "outputs": [
        {
          "output_type": "stream",
          "name": "stderr",
          "text": [
            "\u001b[1m\u001b[22m`stat_bin()` using `bins = 30`. Pick better value with `binwidth`.\n"
          ]
        },
        {
          "output_type": "stream",
          "name": "stdout",
          "text": [
            "We notice how data is very extreme, we handel accoringly"
          ]
        },
        {
          "output_type": "display_data",
          "data": {
            "text/plain": [
              "plot without title"
            ],
            "image/png": "[encoded data removed]"
          },
          "metadata": {
            "image/png": {
              "width": 420,
              "height": 420
            }
          }
        }
      ]
    },
    {
      "cell_type": "code",
      "source": [
        "## Outlier removal\n",
        "cat(\" For treating outliers, the traditional appraoch is to use Inter Quartile Range approach to remove outliers, as seen from the  displayed hist, \\\n",
        "we have very few outliers, that is we have few extreme data points, and are very extreme. This implies the traditional outlier removal  approach \\\n",
        "involving the IQR, wil throw away a lot data. For this reason, I recon removing just the very extremes values would solve this.\")\n",
        "cat(\"\\n\")\n",
        "\n",
        "## The Lower and upper 0.5 % thresholds will be removed\n",
        "lower_threshold <- quantile(data$Exam_Score, 0.005)\n",
        "\n",
        "upper_threshold <- quantile(data$Exam_Score, 0.995)\n",
        "cat('Lower threshold: ', lower_threshold, '\\n' ,'Upper threshold: ', upper_threshold)\n",
        "\n",
        "\n",
        "## Filter data within the thresholds\n",
        "data <- data |>\n",
        "  filter(Exam_Score >= lower_threshold & Exam_Score <= upper_threshold)\n",
        "\n",
        "## Hist after removal\n",
        "ggplot(data, aes(x = Exam_Score)) +\n",
        "  geom_histogram() +\n",
        "  theme_classic()"
      ],
      "metadata": {
        "colab": {
          "base_uri": "https://localhost:8080/",
          "height": 548
        },
        "id": "iOKM8iM6-qdz",
        "outputId": "cd7433d9-a6d1-458b-9c54-aad53ecb781c"
      },
      "execution_count": null,
      "outputs": [
        {
          "output_type": "stream",
          "name": "stdout",
          "text": [
            " For treating outliers, the traditional appraoch is to use Inter Quartile Range approach to remove outliers, as seen from the  displayed hist, \n",
            "we have very few outliers, that is we have few extreme data points, and are very extreme. This implies the traditional outlier removal  approach \n",
            "involving the IQR, wil throw away a lot data. For this reason, I recon removing just the very extremes values would solve this.\n",
            "Lower threshold:  59 \n",
            " Upper threshold:  86"
          ]
        },
        {
          "output_type": "stream",
          "name": "stderr",
          "text": [
            "\u001b[1m\u001b[22m`stat_bin()` using `bins = 30`. Pick better value with `binwidth`.\n"
          ]
        },
        {
          "output_type": "display_data",
          "data": {
            "text/plain": [
              "plot without title"
            ],
            "image/png": "[encoded data removed]"
          },
          "metadata": {
            "image/png": {
              "width": 420,
              "height": 420
            }
          }
        }
      ]
    },
    {
      "cell_type": "code",
      "source": [
        "## Hist after removal\n",
        "ggplot(data, aes(x = Exam_Score)) +\n",
        "  geom_histogram() +\n",
        "  theme_classic()\n",
        "\n",
        "cat(\"Current dimension of the data set:  \", '\\n',dim(data)[1], 'Observations and ', dim(data)[2], 'Variables')"
      ],
      "metadata": {
        "colab": {
          "base_uri": "https://localhost:8080/",
          "height": 504
        },
        "id": "zi3BD7Zb-0vj",
        "outputId": "d23cc0a2-d1bd-40f8-a300-9f9e3a53d088"
      },
      "execution_count": null,
      "outputs": [
        {
          "output_type": "stream",
          "name": "stderr",
          "text": [
            "\u001b[1m\u001b[22m`stat_bin()` using `bins = 30`. Pick better value with `binwidth`.\n"
          ]
        },
        {
          "output_type": "stream",
          "name": "stdout",
          "text": [
            "Current dimension of the data set:   \n",
            " 6259 Observations and  21 Variables"
          ]
        },
        {
          "output_type": "display_data",
          "data": {
            "text/plain": [
              "plot without title"
            ],
            "image/png": "[encoded data removed]"
          },
          "metadata": {
            "image/png": {
              "width": 420,
              "height": 420
            }
          }
        }
      ]
    },
    {
      "cell_type": "code",
      "source": [
        "\n",
        "# Compute correlation for numeric data\n",
        "data |> select(where(is.numeric)) |> cor()\n",
        "\n",
        "cat(\"\\n\")\n",
        "cat(\"Results shows exam score is (weakly) positively coorrelated with Hours studeied and (strongly) positively correlated with Attendance. Moreover \\\n",
        "hours awake, Prev score, Tutoring and Physical activity are share a (weak) positive linear relationship with students perfromance - Exam_Score.\n",
        "However, sleep hours is (perhaps surprisingly) (weakly) neagtively correlated. I would think enough sleep helps with studies, but maybe these guys \\\n",
        "overslept and as a result it reduced their time allocated for studying. \\\n",
        "sleep and awake hours share  a perfect negative relationship. This will lead to multi-collinearity, to fix that we engineer a new feature, \\\n",
        "sleep awake ratio, replacing both.  \" )\n",
        "cat(\"\\n\")\n",
        "\n",
        "# Engineer feaature: Sleep Awake ratio\n",
        "data <- data |>\n",
        "        mutate(SleepAwake_Ratio = Sleep_Hours  / Awake_Hours)  |>\n",
        "        # Deselect Sleep_hours and Awake_Hours\n",
        "        select(-Sleep_Hours, -Awake_Hours)\n",
        "\n",
        "# Re-Compute correlation\n",
        "data |> select(where(is.numeric)) |> cor()\n",
        "\n",
        "## Obtain factor column names\n",
        "factor_colnames <- data |> select(where(is.factor)) |> names()\n",
        "factor_colnames\n",
        "\n",
        "#data[factor_colnames]"
      ],
      "metadata": {
        "id": "6HSNGeZOMFOq",
        "colab": {
          "base_uri": "https://localhost:8080/",
          "height": 922
        },
        "outputId": "a3113e24-d9ab-4920-d92b-6e122e667a66"
      },
      "execution_count": null,
      "outputs": [
        {
          "output_type": "display_data",
          "data": {
            "text/html": [
              "<table class=\"dataframe\">\n",
              "<caption>A matrix: 8 × 8 of type dbl</caption>\n",
              "<thead>\n",
              "\t<tr><th></th><th scope=col>Exam_Score</th><th scope=col>Hours_Studied</th><th scope=col>Attendance</th><th scope=col>Sleep_Hours</th><th scope=col>Awake_Hours</th><th scope=col>Previous_Scores</th><th scope=col>Tutoring_Sessions</th><th scope=col>Physical_Activity</th></tr>\n",
              "</thead>\n",
              "<tbody>\n",
              "\t<tr><th scope=row>Exam_Score</th><td> 1.000000000</td><td> 0.450969141</td><td> 0.644284126</td><td>-0.008463445</td><td> 0.008463445</td><td> 0.183948911</td><td> 0.169231279</td><td> 0.023806460</td></tr>\n",
              "\t<tr><th scope=row>Hours_Studied</th><td> 0.450969141</td><td> 1.000000000</td><td>-0.027591244</td><td> 0.017485566</td><td>-0.017485566</td><td> 0.011224256</td><td>-0.020939108</td><td> 0.000400647</td></tr>\n",
              "\t<tr><th scope=row>Attendance</th><td> 0.644284126</td><td>-0.027591244</td><td> 1.000000000</td><td>-0.018327024</td><td> 0.018327024</td><td>-0.024036621</td><td> 0.008453124</td><td>-0.027243045</td></tr>\n",
              "\t<tr><th scope=row>Sleep_Hours</th><td>-0.008463445</td><td> 0.017485566</td><td>-0.018327024</td><td> 1.000000000</td><td>-1.000000000</td><td>-0.022093969</td><td>-0.009691784</td><td>-0.003254398</td></tr>\n",
              "\t<tr><th scope=row>Awake_Hours</th><td> 0.008463445</td><td>-0.017485566</td><td> 0.018327024</td><td>-1.000000000</td><td> 1.000000000</td><td> 0.022093969</td><td> 0.009691784</td><td> 0.003254398</td></tr>\n",
              "\t<tr><th scope=row>Previous_Scores</th><td> 0.183948911</td><td> 0.011224256</td><td>-0.024036621</td><td>-0.022093969</td><td> 0.022093969</td><td> 1.000000000</td><td>-0.016538294</td><td>-0.007447314</td></tr>\n",
              "\t<tr><th scope=row>Tutoring_Sessions</th><td> 0.169231279</td><td>-0.020939108</td><td> 0.008453124</td><td>-0.009691784</td><td> 0.009691784</td><td>-0.016538294</td><td> 1.000000000</td><td> 0.015478799</td></tr>\n",
              "\t<tr><th scope=row>Physical_Activity</th><td> 0.023806460</td><td> 0.000400647</td><td>-0.027243045</td><td>-0.003254398</td><td> 0.003254398</td><td>-0.007447314</td><td> 0.015478799</td><td> 1.000000000</td></tr>\n",
              "</tbody>\n",
              "</table>\n"
            ],
            "text/markdown": "\nA matrix: 8 × 8 of type dbl\n\n| <!--/--> | Exam_Score | Hours_Studied | Attendance | Sleep_Hours | Awake_Hours | Previous_Scores | Tutoring_Sessions | Physical_Activity |\n|---|---|---|---|---|---|---|---|---|\n| Exam_Score |  1.000000000 |  0.450969141 |  0.644284126 | -0.008463445 |  0.008463445 |  0.183948911 |  0.169231279 |  0.023806460 |\n| Hours_Studied |  0.450969141 |  1.000000000 | -0.027591244 |  0.017485566 | -0.017485566 |  0.011224256 | -0.020939108 |  0.000400647 |\n| Attendance |  0.644284126 | -0.027591244 |  1.000000000 | -0.018327024 |  0.018327024 | -0.024036621 |  0.008453124 | -0.027243045 |\n| Sleep_Hours | -0.008463445 |  0.017485566 | -0.018327024 |  1.000000000 | -1.000000000 | -0.022093969 | -0.009691784 | -0.003254398 |\n| Awake_Hours |  0.008463445 | -0.017485566 |  0.018327024 | -1.000000000 |  1.000000000 |  0.022093969 |  0.009691784 |  0.003254398 |\n| Previous_Scores |  0.183948911 |  0.011224256 | -0.024036621 | -0.022093969 |  0.022093969 |  1.000000000 | -0.016538294 | -0.007447314 |\n| Tutoring_Sessions |  0.169231279 | -0.020939108 |  0.008453124 | -0.009691784 |  0.009691784 | -0.016538294 |  1.000000000 |  0.015478799 |\n| Physical_Activity |  0.023806460 |  0.000400647 | -0.027243045 | -0.003254398 |  0.003254398 | -0.007447314 |  0.015478799 |  1.000000000 |\n\n",
            "text/latex": "A matrix: 8 × 8 of type dbl\n\\begin{tabular}{r|llllllll}\n  & Exam\\_Score & Hours\\_Studied & Attendance & Sleep\\_Hours & Awake\\_Hours & Previous\\_Scores & Tutoring\\_Sessions & Physical\\_Activity\\\\\n\\hline\n\tExam\\_Score &  1.000000000 &  0.450969141 &  0.644284126 & -0.008463445 &  0.008463445 &  0.183948911 &  0.169231279 &  0.023806460\\\\\n\tHours\\_Studied &  0.450969141 &  1.000000000 & -0.027591244 &  0.017485566 & -0.017485566 &  0.011224256 & -0.020939108 &  0.000400647\\\\\n\tAttendance &  0.644284126 & -0.027591244 &  1.000000000 & -0.018327024 &  0.018327024 & -0.024036621 &  0.008453124 & -0.027243045\\\\\n\tSleep\\_Hours & -0.008463445 &  0.017485566 & -0.018327024 &  1.000000000 & -1.000000000 & -0.022093969 & -0.009691784 & -0.003254398\\\\\n\tAwake\\_Hours &  0.008463445 & -0.017485566 &  0.018327024 & -1.000000000 &  1.000000000 &  0.022093969 &  0.009691784 &  0.003254398\\\\\n\tPrevious\\_Scores &  0.183948911 &  0.011224256 & -0.024036621 & -0.022093969 &  0.022093969 &  1.000000000 & -0.016538294 & -0.007447314\\\\\n\tTutoring\\_Sessions &  0.169231279 & -0.020939108 &  0.008453124 & -0.009691784 &  0.009691784 & -0.016538294 &  1.000000000 &  0.015478799\\\\\n\tPhysical\\_Activity &  0.023806460 &  0.000400647 & -0.027243045 & -0.003254398 &  0.003254398 & -0.007447314 &  0.015478799 &  1.000000000\\\\\n\\end{tabular}\n",
            "text/plain": [
              "                  Exam_Score   Hours_Studied Attendance   Sleep_Hours \n",
              "Exam_Score         1.000000000  0.450969141   0.644284126 -0.008463445\n",
              "Hours_Studied      0.450969141  1.000000000  -0.027591244  0.017485566\n",
              "Attendance         0.644284126 -0.027591244   1.000000000 -0.018327024\n",
              "Sleep_Hours       -0.008463445  0.017485566  -0.018327024  1.000000000\n",
              "Awake_Hours        0.008463445 -0.017485566   0.018327024 -1.000000000\n",
              "Previous_Scores    0.183948911  0.011224256  -0.024036621 -0.022093969\n",
              "Tutoring_Sessions  0.169231279 -0.020939108   0.008453124 -0.009691784\n",
              "Physical_Activity  0.023806460  0.000400647  -0.027243045 -0.003254398\n",
              "                  Awake_Hours  Previous_Scores Tutoring_Sessions\n",
              "Exam_Score         0.008463445  0.183948911     0.169231279     \n",
              "Hours_Studied     -0.017485566  0.011224256    -0.020939108     \n",
              "Attendance         0.018327024 -0.024036621     0.008453124     \n",
              "Sleep_Hours       -1.000000000 -0.022093969    -0.009691784     \n",
              "Awake_Hours        1.000000000  0.022093969     0.009691784     \n",
              "Previous_Scores    0.022093969  1.000000000    -0.016538294     \n",
              "Tutoring_Sessions  0.009691784 -0.016538294     1.000000000     \n",
              "Physical_Activity  0.003254398 -0.007447314     0.015478799     \n",
              "                  Physical_Activity\n",
              "Exam_Score         0.023806460     \n",
              "Hours_Studied      0.000400647     \n",
              "Attendance        -0.027243045     \n",
              "Sleep_Hours       -0.003254398     \n",
              "Awake_Hours        0.003254398     \n",
              "Previous_Scores   -0.007447314     \n",
              "Tutoring_Sessions  0.015478799     \n",
              "Physical_Activity  1.000000000     "
            ]
          },
          "metadata": {}
        },
        {
          "output_type": "stream",
          "name": "stdout",
          "text": [
            "\n",
            "Results shows exam score is (weakly) positively coorrelated with Hours studeied and (strongly) positively correlated with Attendance. Moreover \n",
            "hours awake, Prev score, Tutoring and Physical activity are share a (weak) positive linear relationship with students perfromance - Exam_Score.\n",
            "However, sleep hours is (perhaps surprisingly) (weakly) neagtively correlated. I would think enough sleep helps with studies, but maybe these guys \n",
            "overslept and as a result it reduced their time allocated for studying. \n",
            "sleep and awake hours share  a perfect negative relationship. This will lead to multi-collinearity, to fix that we engineer a new feature, \n",
            "sleep awake ratio, replacing both.  \n"
          ]
        },
        {
          "output_type": "display_data",
          "data": {
            "text/html": [
              "<table class=\"dataframe\">\n",
              "<caption>A matrix: 7 × 7 of type dbl</caption>\n",
              "<thead>\n",
              "\t<tr><th></th><th scope=col>Exam_Score</th><th scope=col>Hours_Studied</th><th scope=col>Attendance</th><th scope=col>Previous_Scores</th><th scope=col>Tutoring_Sessions</th><th scope=col>Physical_Activity</th><th scope=col>SleepAwake_Ratio</th></tr>\n",
              "</thead>\n",
              "<tbody>\n",
              "\t<tr><th scope=row>Exam_Score</th><td> 1.000000000</td><td> 0.450969141</td><td> 0.644284126</td><td> 0.183948911</td><td> 0.169231279</td><td> 0.023806460</td><td>-0.008076085</td></tr>\n",
              "\t<tr><th scope=row>Hours_Studied</th><td> 0.450969141</td><td> 1.000000000</td><td>-0.027591244</td><td> 0.011224256</td><td>-0.020939108</td><td> 0.000400647</td><td> 0.017410996</td></tr>\n",
              "\t<tr><th scope=row>Attendance</th><td> 0.644284126</td><td>-0.027591244</td><td> 1.000000000</td><td>-0.024036621</td><td> 0.008453124</td><td>-0.027243045</td><td>-0.017273073</td></tr>\n",
              "\t<tr><th scope=row>Previous_Scores</th><td> 0.183948911</td><td> 0.011224256</td><td>-0.024036621</td><td> 1.000000000</td><td>-0.016538294</td><td>-0.007447314</td><td>-0.022622211</td></tr>\n",
              "\t<tr><th scope=row>Tutoring_Sessions</th><td> 0.169231279</td><td>-0.020939108</td><td> 0.008453124</td><td>-0.016538294</td><td> 1.000000000</td><td> 0.015478799</td><td>-0.011249983</td></tr>\n",
              "\t<tr><th scope=row>Physical_Activity</th><td> 0.023806460</td><td> 0.000400647</td><td>-0.027243045</td><td>-0.007447314</td><td> 0.015478799</td><td> 1.000000000</td><td>-0.002550562</td></tr>\n",
              "\t<tr><th scope=row>SleepAwake_Ratio</th><td>-0.008076085</td><td> 0.017410996</td><td>-0.017273073</td><td>-0.022622211</td><td>-0.011249983</td><td>-0.002550562</td><td> 1.000000000</td></tr>\n",
              "</tbody>\n",
              "</table>\n"
            ],
            "text/markdown": "\nA matrix: 7 × 7 of type dbl\n\n| <!--/--> | Exam_Score | Hours_Studied | Attendance | Previous_Scores | Tutoring_Sessions | Physical_Activity | SleepAwake_Ratio |\n|---|---|---|---|---|---|---|---|\n| Exam_Score |  1.000000000 |  0.450969141 |  0.644284126 |  0.183948911 |  0.169231279 |  0.023806460 | -0.008076085 |\n| Hours_Studied |  0.450969141 |  1.000000000 | -0.027591244 |  0.011224256 | -0.020939108 |  0.000400647 |  0.017410996 |\n| Attendance |  0.644284126 | -0.027591244 |  1.000000000 | -0.024036621 |  0.008453124 | -0.027243045 | -0.017273073 |\n| Previous_Scores |  0.183948911 |  0.011224256 | -0.024036621 |  1.000000000 | -0.016538294 | -0.007447314 | -0.022622211 |\n| Tutoring_Sessions |  0.169231279 | -0.020939108 |  0.008453124 | -0.016538294 |  1.000000000 |  0.015478799 | -0.011249983 |\n| Physical_Activity |  0.023806460 |  0.000400647 | -0.027243045 | -0.007447314 |  0.015478799 |  1.000000000 | -0.002550562 |\n| SleepAwake_Ratio | -0.008076085 |  0.017410996 | -0.017273073 | -0.022622211 | -0.011249983 | -0.002550562 |  1.000000000 |\n\n",
            "text/latex": "A matrix: 7 × 7 of type dbl\n\\begin{tabular}{r|lllllll}\n  & Exam\\_Score & Hours\\_Studied & Attendance & Previous\\_Scores & Tutoring\\_Sessions & Physical\\_Activity & SleepAwake\\_Ratio\\\\\n\\hline\n\tExam\\_Score &  1.000000000 &  0.450969141 &  0.644284126 &  0.183948911 &  0.169231279 &  0.023806460 & -0.008076085\\\\\n\tHours\\_Studied &  0.450969141 &  1.000000000 & -0.027591244 &  0.011224256 & -0.020939108 &  0.000400647 &  0.017410996\\\\\n\tAttendance &  0.644284126 & -0.027591244 &  1.000000000 & -0.024036621 &  0.008453124 & -0.027243045 & -0.017273073\\\\\n\tPrevious\\_Scores &  0.183948911 &  0.011224256 & -0.024036621 &  1.000000000 & -0.016538294 & -0.007447314 & -0.022622211\\\\\n\tTutoring\\_Sessions &  0.169231279 & -0.020939108 &  0.008453124 & -0.016538294 &  1.000000000 &  0.015478799 & -0.011249983\\\\\n\tPhysical\\_Activity &  0.023806460 &  0.000400647 & -0.027243045 & -0.007447314 &  0.015478799 &  1.000000000 & -0.002550562\\\\\n\tSleepAwake\\_Ratio & -0.008076085 &  0.017410996 & -0.017273073 & -0.022622211 & -0.011249983 & -0.002550562 &  1.000000000\\\\\n\\end{tabular}\n",
            "text/plain": [
              "                  Exam_Score   Hours_Studied Attendance   Previous_Scores\n",
              "Exam_Score         1.000000000  0.450969141   0.644284126  0.183948911   \n",
              "Hours_Studied      0.450969141  1.000000000  -0.027591244  0.011224256   \n",
              "Attendance         0.644284126 -0.027591244   1.000000000 -0.024036621   \n",
              "Previous_Scores    0.183948911  0.011224256  -0.024036621  1.000000000   \n",
              "Tutoring_Sessions  0.169231279 -0.020939108   0.008453124 -0.016538294   \n",
              "Physical_Activity  0.023806460  0.000400647  -0.027243045 -0.007447314   \n",
              "SleepAwake_Ratio  -0.008076085  0.017410996  -0.017273073 -0.022622211   \n",
              "                  Tutoring_Sessions Physical_Activity SleepAwake_Ratio\n",
              "Exam_Score         0.169231279       0.023806460      -0.008076085    \n",
              "Hours_Studied     -0.020939108       0.000400647       0.017410996    \n",
              "Attendance         0.008453124      -0.027243045      -0.017273073    \n",
              "Previous_Scores   -0.016538294      -0.007447314      -0.022622211    \n",
              "Tutoring_Sessions  1.000000000       0.015478799      -0.011249983    \n",
              "Physical_Activity  0.015478799       1.000000000      -0.002550562    \n",
              "SleepAwake_Ratio  -0.011249983      -0.002550562       1.000000000    "
            ]
          },
          "metadata": {}
        },
        {
          "output_type": "display_data",
          "data": {
            "text/html": [
              "<style>\n",
              ".list-inline {list-style: none; margin:0; padding: 0}\n",
              ".list-inline>li {display: inline-block}\n",
              ".list-inline>li:not(:last-child)::after {content: \"\\00b7\"; padding: 0 .5ex}\n",
              "</style>\n",
              "<ol class=list-inline><li>'Parental_Involvement'</li><li>'Access_to_Resources'</li><li>'Extracurricular_Activities'</li><li>'Motivation_Level'</li><li>'Internet_Access'</li><li>'Family_Income'</li><li>'Teacher_Quality'</li><li>'School_Type'</li><li>'Peer_Influence'</li><li>'Learning_Disabilities'</li><li>'Parental_Education_Level'</li><li>'Distance_from_Home'</li><li>'Gender'</li></ol>\n"
            ],
            "text/markdown": "1. 'Parental_Involvement'\n2. 'Access_to_Resources'\n3. 'Extracurricular_Activities'\n4. 'Motivation_Level'\n5. 'Internet_Access'\n6. 'Family_Income'\n7. 'Teacher_Quality'\n8. 'School_Type'\n9. 'Peer_Influence'\n10. 'Learning_Disabilities'\n11. 'Parental_Education_Level'\n12. 'Distance_from_Home'\n13. 'Gender'\n\n\n",
            "text/latex": "\\begin{enumerate*}\n\\item 'Parental\\_Involvement'\n\\item 'Access\\_to\\_Resources'\n\\item 'Extracurricular\\_Activities'\n\\item 'Motivation\\_Level'\n\\item 'Internet\\_Access'\n\\item 'Family\\_Income'\n\\item 'Teacher\\_Quality'\n\\item 'School\\_Type'\n\\item 'Peer\\_Influence'\n\\item 'Learning\\_Disabilities'\n\\item 'Parental\\_Education\\_Level'\n\\item 'Distance\\_from\\_Home'\n\\item 'Gender'\n\\end{enumerate*}\n",
            "text/plain": [
              " [1] \"Parental_Involvement\"       \"Access_to_Resources\"       \n",
              " [3] \"Extracurricular_Activities\" \"Motivation_Level\"          \n",
              " [5] \"Internet_Access\"            \"Family_Income\"             \n",
              " [7] \"Teacher_Quality\"            \"School_Type\"               \n",
              " [9] \"Peer_Influence\"             \"Learning_Disabilities\"     \n",
              "[11] \"Parental_Education_Level\"   \"Distance_from_Home\"        \n",
              "[13] \"Gender\"                    "
            ]
          },
          "metadata": {}
        }
      ]
    },
    {
      "cell_type": "code",
      "source": [
        "# loop through and examine impact of factors on Exam Score\n",
        "for (col in factor_colnames) {\n",
        "  summary_result <- data |>\n",
        "    group_by(!!sym(col)) |>\n",
        "    summarise(avg_score = mean(Exam_Score))\n",
        "\n",
        "  print(paste(\"Summary for\", col))\n",
        "  print(list(summary_result))\n",
        "  cat(\"\\n\")\n",
        "}\n",
        "\n",
        "cat(\"\\n\")\n",
        "cat(\"Looking at first few: the higher the parental involvment the more likely the students perfomance will be high. This also applies to access to resources \\\n",
        "and family income. Gender has zero impact on students expected performance.\")\n",
        "cat(\"\\n\")\n",
        "\n",
        "cat(\"Time for modelling: \\\n",
        "We are presented with predictors along with a continuos target variable, and our goal is to predict the continuos target variable, the natural selection for such \\\n",
        "a task is a  regression model\")"
      ],
      "metadata": {
        "colab": {
          "base_uri": "https://localhost:8080/"
        },
        "id": "feJOt837_CyG",
        "outputId": "3beedaba-4a1b-48ac-d778-aebc97fdb098"
      },
      "execution_count": null,
      "outputs": [
        {
          "output_type": "stream",
          "name": "stdout",
          "text": [
            "[1] \"Summary for Parental_Involvement\"\n",
            "[[1]]\n",
            "\u001b[90m# A tibble: 3 × 2\u001b[39m\n",
            "  Parental_Involvement avg_score\n",
            "  \u001b[3m\u001b[90m<fct>\u001b[39m\u001b[23m                    \u001b[3m\u001b[90m<dbl>\u001b[39m\u001b[23m\n",
            "\u001b[90m1\u001b[39m High                      68.0\n",
            "\u001b[90m2\u001b[39m Low                       66.3\n",
            "\u001b[90m3\u001b[39m Medium                    67.0\n",
            "\n",
            "\n",
            "[1] \"Summary for Access_to_Resources\"\n",
            "[[1]]\n",
            "\u001b[90m# A tibble: 3 × 2\u001b[39m\n",
            "  Access_to_Resources avg_score\n",
            "  \u001b[3m\u001b[90m<fct>\u001b[39m\u001b[23m                   \u001b[3m\u001b[90m<dbl>\u001b[39m\u001b[23m\n",
            "\u001b[90m1\u001b[39m High                     68.0\n",
            "\u001b[90m2\u001b[39m Low                      66.2\n",
            "\u001b[90m3\u001b[39m Medium                   67.1\n",
            "\n",
            "\n",
            "[1] \"Summary for Extracurricular_Activities\"\n",
            "[[1]]\n",
            "\u001b[90m# A tibble: 2 × 2\u001b[39m\n",
            "  Extracurricular_Activities avg_score\n",
            "  \u001b[3m\u001b[90m<fct>\u001b[39m\u001b[23m                          \u001b[3m\u001b[90m<dbl>\u001b[39m\u001b[23m\n",
            "\u001b[90m1\u001b[39m No                              66.9\n",
            "\u001b[90m2\u001b[39m Yes                             67.4\n",
            "\n",
            "\n",
            "[1] \"Summary for Motivation_Level\"\n",
            "[[1]]\n",
            "\u001b[90m# A tibble: 3 × 2\u001b[39m\n",
            "  Motivation_Level avg_score\n",
            "  \u001b[3m\u001b[90m<fct>\u001b[39m\u001b[23m                \u001b[3m\u001b[90m<dbl>\u001b[39m\u001b[23m\n",
            "\u001b[90m1\u001b[39m High                  67.7\n",
            "\u001b[90m2\u001b[39m Low                   66.7\n",
            "\u001b[90m3\u001b[39m Medium                67.2\n",
            "\n",
            "\n",
            "[1] \"Summary for Internet_Access\"\n",
            "[[1]]\n",
            "\u001b[90m# A tibble: 2 × 2\u001b[39m\n",
            "  Internet_Access avg_score\n",
            "  \u001b[3m\u001b[90m<fct>\u001b[39m\u001b[23m               \u001b[3m\u001b[90m<dbl>\u001b[39m\u001b[23m\n",
            "\u001b[90m1\u001b[39m No                   66.4\n",
            "\u001b[90m2\u001b[39m Yes                  67.2\n",
            "\n",
            "\n",
            "[1] \"Summary for Family_Income\"\n",
            "[[1]]\n",
            "\u001b[90m# A tibble: 3 × 2\u001b[39m\n",
            "  Family_Income avg_score\n",
            "  \u001b[3m\u001b[90m<fct>\u001b[39m\u001b[23m             \u001b[3m\u001b[90m<dbl>\u001b[39m\u001b[23m\n",
            "\u001b[90m1\u001b[39m High               67.6\n",
            "\u001b[90m2\u001b[39m Low                66.8\n",
            "\u001b[90m3\u001b[39m Medium             67.3\n",
            "\n",
            "\n",
            "[1] \"Summary for Teacher_Quality\"\n",
            "[[1]]\n",
            "\u001b[90m# A tibble: 3 × 2\u001b[39m\n",
            "  Teacher_Quality avg_score\n",
            "  \u001b[3m\u001b[90m<fct>\u001b[39m\u001b[23m               \u001b[3m\u001b[90m<dbl>\u001b[39m\u001b[23m\n",
            "\u001b[90m1\u001b[39m High                 67.5\n",
            "\u001b[90m2\u001b[39m Low                  66.7\n",
            "\u001b[90m3\u001b[39m Medium               67.1\n",
            "\n",
            "\n",
            "[1] \"Summary for School_Type\"\n",
            "[[1]]\n",
            "\u001b[90m# A tibble: 2 × 2\u001b[39m\n",
            "  School_Type avg_score\n",
            "  \u001b[3m\u001b[90m<fct>\u001b[39m\u001b[23m           \u001b[3m\u001b[90m<dbl>\u001b[39m\u001b[23m\n",
            "\u001b[90m1\u001b[39m Private          67.2\n",
            "\u001b[90m2\u001b[39m Public           67.1\n",
            "\n",
            "\n",
            "[1] \"Summary for Peer_Influence\"\n",
            "[[1]]\n",
            "\u001b[90m# A tibble: 3 × 2\u001b[39m\n",
            "  Peer_Influence avg_score\n",
            "  \u001b[3m\u001b[90m<fct>\u001b[39m\u001b[23m              \u001b[3m\u001b[90m<dbl>\u001b[39m\u001b[23m\n",
            "\u001b[90m1\u001b[39m Negative            66.5\n",
            "\u001b[90m2\u001b[39m Neutral             67.1\n",
            "\u001b[90m3\u001b[39m Positive            67.6\n",
            "\n",
            "\n",
            "[1] \"Summary for Learning_Disabilities\"\n",
            "[[1]]\n",
            "\u001b[90m# A tibble: 2 × 2\u001b[39m\n",
            "  Learning_Disabilities avg_score\n",
            "  \u001b[3m\u001b[90m<fct>\u001b[39m\u001b[23m                     \u001b[3m\u001b[90m<dbl>\u001b[39m\u001b[23m\n",
            "\u001b[90m1\u001b[39m No                         67.3\n",
            "\u001b[90m2\u001b[39m Yes                        66.3\n",
            "\n",
            "\n",
            "[1] \"Summary for Parental_Education_Level\"\n",
            "[[1]]\n",
            "\u001b[90m# A tibble: 3 × 2\u001b[39m\n",
            "  Parental_Education_Level avg_score\n",
            "  \u001b[3m\u001b[90m<fct>\u001b[39m\u001b[23m                        \u001b[3m\u001b[90m<dbl>\u001b[39m\u001b[23m\n",
            "\u001b[90m1\u001b[39m College                       67.3\n",
            "\u001b[90m2\u001b[39m High School                   66.8\n",
            "\u001b[90m3\u001b[39m Postgraduate                  67.9\n",
            "\n",
            "\n",
            "[1] \"Summary for Distance_from_Home\"\n",
            "[[1]]\n",
            "\u001b[90m# A tibble: 3 × 2\u001b[39m\n",
            "  Distance_from_Home avg_score\n",
            "  \u001b[3m\u001b[90m<fct>\u001b[39m\u001b[23m                  \u001b[3m\u001b[90m<dbl>\u001b[39m\u001b[23m\n",
            "\u001b[90m1\u001b[39m Far                     66.4\n",
            "\u001b[90m2\u001b[39m Moderate                66.9\n",
            "\u001b[90m3\u001b[39m Near                    67.4\n",
            "\n",
            "\n",
            "[1] \"Summary for Gender\"\n",
            "[[1]]\n",
            "\u001b[90m# A tibble: 2 × 2\u001b[39m\n",
            "  Gender avg_score\n",
            "  \u001b[3m\u001b[90m<fct>\u001b[39m\u001b[23m      \u001b[3m\u001b[90m<dbl>\u001b[39m\u001b[23m\n",
            "\u001b[90m1\u001b[39m Female      67.2\n",
            "\u001b[90m2\u001b[39m Male        67.2\n",
            "\n",
            "\n",
            "\n",
            "Looking at first few: the higher the parental involvment the more likely the students perfomance will be high. This also applies to access to resources \n",
            "and family income. Gender has zero impact on students expected performance.\n",
            "Time for modelling: \n",
            "We are presented with predictors along with a continuos target variable, and our goal is to predict the continuos target variable, the natural selection for such \n",
            "a task is a  regression model"
          ]
        }
      ]
    },
    {
      "cell_type": "code",
      "source": [
        "#####################********************####################*******************\n",
        "#*******************************************************************************\n",
        "### Data Splitting\n",
        "###\n",
        "###\n",
        "\n",
        "#glimpse(data)\n",
        "\n",
        "## Split data reserving 75% for training and the rest for testing\n",
        "set.seed(1)\n",
        "data_split <- initial_split(data, prop = 3/4)\n",
        "train <- training(data_split)\n",
        "test <- testing(data_split)\n",
        "\n",
        "## Split training data into 5 folds for cross validation tasks\n",
        "set.seed(1)\n",
        "trainreg_cv <- vfold_cv(train, v = 5)"
      ],
      "metadata": {
        "id": "OGkF4Ey9MKpg"
      },
      "execution_count": null,
      "outputs": []
    },
    {
      "cell_type": "code",
      "source": [
        "#####################********************####################*******************\n",
        "#*******************************************************************************\n",
        "####\n",
        "#### MODELLING\n",
        "####*\n",
        "#### A --> Regression Models\n",
        "####*\n",
        "## Models Considered:\n",
        "## Linear Regression, Elastic Net Regression\n",
        "## Random Forest and Extreme Gradient Boosting Regression Model\n",
        "#*******************************************************************************\n",
        "#*******************************************************************************\n",
        "\n",
        "\n",
        "\n",
        "\n",
        "##\n",
        "## Linear Regression\n",
        "##\n",
        "cat(\"Linear regresssion model is a model that can predict numeric values from preditors using linear function.\", \"\\n\")\n",
        "\n",
        "# Layout the linear regression recipe\n",
        "reg_recipe <- recipe(formula = Exam_Score ~ ., data = train)\n",
        "cat(\"Previous data preprocessing is sufficient for the linear model. Thus, no further preprooceeesing is done at the level of the regression model recipe\")\n",
        "\n",
        "## Set up linear regression specification\n",
        "linreg_spec <-  linear_reg() |>\n",
        "                set_mode(\"regression\") |>\n",
        "                set_engine(\"lm\")\n",
        "\n",
        "## Construct linear regression workflow\n",
        "linreg_workflow <- workflow() |>\n",
        "  add_recipe(reg_recipe) |>\n",
        "  add_model(linreg_spec)\n",
        "\n",
        "## Fit linear model to train data\n",
        "linreg_fit <- fit(linreg_workflow, data = train)\n",
        "\n",
        "## Show results\n",
        "linreg_fit |> tidy() |> print(n = Inf)\n",
        "cat(\"Seeing the results we interprete a few coefficients as follow: \", '\\n',\n",
        "\" A positive coefficient for 'Hours_Studied' means that for an additional hour studied, the predicted outcome increases by 0.263, indicating \\\n",
        "quantitative relevance. Moreover, with p-value less than 0.05 implies statistical significance at 5% level. Low and medium parental involvement \\\n",
        "negatively impacts students performance, and their coefficients are statistically significant\")\n",
        "\n",
        "## Make predictions with fitted model\n",
        "# Training data\n",
        "linreg_aug <- augment(linreg_fit, new_data = train)\n",
        "\n",
        "bind_rows( linreg_aug |> rmse(truth = Exam_Score, .pred),\n",
        "           linreg_aug |> rsq(truth = Exam_Score, .pred) )\n",
        "\n",
        "cat(\"The lower the root mean squared error rmse the better. The higher the r-squared the more variation in the target variable is explained for \\\n",
        "by the predictors.\")\n",
        "\n",
        "# Test data\n",
        "linreg_aug <- augment(linreg_fit, new_data = test)\n",
        "\n",
        "bind_rows( linreg_aug |> rmse(truth = Exam_Score, .pred),\n",
        "           linreg_aug |> rsq(truth = Exam_Score, .pred) )"
      ],
      "metadata": {
        "id": "KTHm1h0KMRIG",
        "colab": {
          "base_uri": "https://localhost:8080/",
          "height": 1000
        },
        "outputId": "a957189a-0fd4-493b-a203-575a45c595c5"
      },
      "execution_count": null,
      "outputs": [
        {
          "output_type": "stream",
          "name": "stdout",
          "text": [
            "Linear regresssion model is a model that can predict numeric values from preditors using linear function. \n",
            "Previous data preprocessing is sufficient for the linear model. Thus, no further preprooceeesing is done at the level of the regression model recipe\u001b[90m# A tibble: 28 × 5\u001b[39m\n",
            "   term                                  estimate std.error statistic   p.value\n",
            "   \u001b[3m\u001b[90m<chr>\u001b[39m\u001b[23m                                    \u001b[3m\u001b[90m<dbl>\u001b[39m\u001b[23m     \u001b[3m\u001b[90m<dbl>\u001b[39m\u001b[23m     \u001b[3m\u001b[90m<dbl>\u001b[39m\u001b[23m     \u001b[3m\u001b[90m<dbl>\u001b[39m\u001b[23m\n",
            "\u001b[90m 1\u001b[39m (Intercept)                          42.3        0.233   181.      0   \u001b[90m \u001b[39m    \n",
            "\u001b[90m 2\u001b[39m Hours_Studied                         0.263      0.002\u001b[4m9\u001b[24m\u001b[4m9\u001b[24m  88.1     0   \u001b[90m \u001b[39m    \n",
            "\u001b[90m 3\u001b[39m Attendance                            0.197      0.001\u001b[4m6\u001b[24m\u001b[4m2\u001b[24m 122.      0   \u001b[90m \u001b[39m    \n",
            "\u001b[90m 4\u001b[39m Parental_InvolvementLow              -\u001b[31m1\u001b[39m\u001b[31m.\u001b[39m\u001b[31m97\u001b[39m       0.054\u001b[4m3\u001b[24m  -\u001b[31m36\u001b[39m\u001b[31m.\u001b[39m\u001b[31m4\u001b[39m     3.36\u001b[90me\u001b[39m\u001b[31m-255\u001b[39m\n",
            "\u001b[90m 5\u001b[39m Parental_InvolvementMedium           -\u001b[31m1\u001b[39m\u001b[31m.\u001b[39m\u001b[31m0\u001b[39m\u001b[31m4\u001b[39m       0.043\u001b[4m4\u001b[24m  -\u001b[31m24\u001b[39m\u001b[31m.\u001b[39m\u001b[31m0\u001b[39m     9.56\u001b[90me\u001b[39m\u001b[31m-120\u001b[39m\n",
            "\u001b[90m 6\u001b[39m Access_to_ResourcesLow               -\u001b[31m1\u001b[39m\u001b[31m.\u001b[39m\u001b[31m99\u001b[39m       0.054\u001b[4m3\u001b[24m  -\u001b[31m36\u001b[39m\u001b[31m.\u001b[39m\u001b[31m6\u001b[39m     1.36\u001b[90me\u001b[39m\u001b[31m-258\u001b[39m\n",
            "\u001b[90m 7\u001b[39m Access_to_ResourcesMedium            -\u001b[31m0\u001b[39m\u001b[31m.\u001b[39m\u001b[31m965\u001b[39m      0.043\u001b[4m1\u001b[24m  -\u001b[31m22\u001b[39m\u001b[31m.\u001b[39m\u001b[31m4\u001b[39m     1.82\u001b[90me\u001b[39m\u001b[31m-105\u001b[39m\n",
            "\u001b[90m 8\u001b[39m Extracurricular_ActivitiesYes         0.537      0.038\u001b[4m1\u001b[24m   14.1     3.32\u001b[90me\u001b[39m\u001b[31m- 44\u001b[39m\n",
            "\u001b[90m 9\u001b[39m Previous_Scores                       0.048\u001b[4m1\u001b[24m     0.001\u001b[4m2\u001b[24m\u001b[4m9\u001b[24m  37.2     2.79\u001b[90me\u001b[39m\u001b[31m-265\u001b[39m\n",
            "\u001b[90m10\u001b[39m Motivation_LevelLow                  -\u001b[31m1\u001b[39m\u001b[31m.\u001b[39m\u001b[31m0\u001b[39m\u001b[31m3\u001b[39m       0.054\u001b[4m0\u001b[24m  -\u001b[31m19\u001b[39m\u001b[31m.\u001b[39m\u001b[31m0\u001b[39m     1.91\u001b[90me\u001b[39m\u001b[31m- 77\u001b[39m\n",
            "\u001b[90m11\u001b[39m Motivation_LevelMedium               -\u001b[31m0\u001b[39m\u001b[31m.\u001b[39m\u001b[31m517\u001b[39m      0.049\u001b[4m0\u001b[24m  -\u001b[31m10\u001b[39m\u001b[31m.\u001b[39m\u001b[31m5\u001b[39m     1.06\u001b[90me\u001b[39m\u001b[31m- 25\u001b[39m\n",
            "\u001b[90m12\u001b[39m Internet_AccessYes                    0.936      0.070\u001b[4m8\u001b[24m   13.2     3.28\u001b[90me\u001b[39m\u001b[31m- 39\u001b[39m\n",
            "\u001b[90m13\u001b[39m Tutoring_Sessions                     0.497      0.015\u001b[4m0\u001b[24m   33.2     1.26\u001b[90me\u001b[39m\u001b[31m-216\u001b[39m\n",
            "\u001b[90m14\u001b[39m Family_IncomeLow                     -\u001b[31m0\u001b[39m\u001b[31m.\u001b[39m\u001b[31m986\u001b[39m      0.051\u001b[4m6\u001b[24m  -\u001b[31m19\u001b[39m\u001b[31m.\u001b[39m\u001b[31m1\u001b[39m     2.78\u001b[90me\u001b[39m\u001b[31m- 78\u001b[39m\n",
            "\u001b[90m15\u001b[39m Family_IncomeMedium                  -\u001b[31m0\u001b[39m\u001b[31m.\u001b[39m\u001b[31m502\u001b[39m      0.051\u001b[4m6\u001b[24m   -\u001b[31m9\u001b[39m\u001b[31m.\u001b[39m\u001b[31m73\u001b[39m    3.58\u001b[90me\u001b[39m\u001b[31m- 22\u001b[39m\n",
            "\u001b[90m16\u001b[39m Teacher_QualityLow                   -\u001b[31m1\u001b[39m\u001b[31m.\u001b[39m\u001b[31m0\u001b[39m\u001b[31m4\u001b[39m       0.067\u001b[4m9\u001b[24m  -\u001b[31m15\u001b[39m\u001b[31m.\u001b[39m\u001b[31m4\u001b[39m     3.60\u001b[90me\u001b[39m\u001b[31m- 52\u001b[39m\n",
            "\u001b[90m17\u001b[39m Teacher_QualityMedium                -\u001b[31m0\u001b[39m\u001b[31m.\u001b[39m\u001b[31m490\u001b[39m      0.041\u001b[4m7\u001b[24m  -\u001b[31m11\u001b[39m\u001b[31m.\u001b[39m\u001b[31m8\u001b[39m     1.87\u001b[90me\u001b[39m\u001b[31m- 31\u001b[39m\n",
            "\u001b[90m18\u001b[39m School_TypePublic                     0.014\u001b[4m9\u001b[24m     0.040\u001b[4m3\u001b[24m    0.370   7.11\u001b[90me\u001b[39m\u001b[31m-  1\u001b[39m\n",
            "\u001b[90m19\u001b[39m Peer_InfluenceNeutral                 0.511      0.050\u001b[4m7\u001b[24m   10.1     1.37\u001b[90me\u001b[39m\u001b[31m- 23\u001b[39m\n",
            "\u001b[90m20\u001b[39m Peer_InfluencePositive                1.00       0.050\u001b[4m6\u001b[24m   19.8     3.40\u001b[90me\u001b[39m\u001b[31m- 84\u001b[39m\n",
            "\u001b[90m21\u001b[39m Physical_Activity                     0.183      0.018\u001b[4m2\u001b[24m   10.1     1.03\u001b[90me\u001b[39m\u001b[31m- 23\u001b[39m\n",
            "\u001b[90m22\u001b[39m Learning_DisabilitiesYes             -\u001b[31m0\u001b[39m\u001b[31m.\u001b[39m\u001b[31m776\u001b[39m      0.060\u001b[4m3\u001b[24m  -\u001b[31m12\u001b[39m\u001b[31m.\u001b[39m\u001b[31m9\u001b[39m     2.92\u001b[90me\u001b[39m\u001b[31m- 37\u001b[39m\n",
            "\u001b[90m23\u001b[39m Parental_Education_LevelHigh School  -\u001b[31m0\u001b[39m\u001b[31m.\u001b[39m\u001b[31m518\u001b[39m      0.043\u001b[4m1\u001b[24m  -\u001b[31m12\u001b[39m\u001b[31m.\u001b[39m\u001b[31m0\u001b[39m     7.45\u001b[90me\u001b[39m\u001b[31m- 33\u001b[39m\n",
            "\u001b[90m24\u001b[39m Parental_Education_LevelPostgraduate  0.448      0.053\u001b[4m4\u001b[24m    8.40    6.03\u001b[90me\u001b[39m\u001b[31m- 17\u001b[39m\n",
            "\u001b[90m25\u001b[39m Distance_from_HomeModerate            0.435      0.068\u001b[4m2\u001b[24m    6.38    1.94\u001b[90me\u001b[39m\u001b[31m- 10\u001b[39m\n",
            "\u001b[90m26\u001b[39m Distance_from_HomeNear                0.956      0.063\u001b[4m8\u001b[24m   15.0     1.49\u001b[90me\u001b[39m\u001b[31m- 49\u001b[39m\n",
            "\u001b[90m27\u001b[39m GenderMale                            0.000\u001b[4m1\u001b[24m\u001b[4m8\u001b[24m\u001b[4m6\u001b[24m   0.037\u001b[4m7\u001b[24m    0.004\u001b[4m9\u001b[24m\u001b[4m4\u001b[24m 9.96\u001b[90me\u001b[39m\u001b[31m-  1\u001b[39m\n",
            "\u001b[90m28\u001b[39m SleepAwake_Ratio                      0.071\u001b[4m3\u001b[24m     0.149     0.479   6.32\u001b[90me\u001b[39m\u001b[31m-  1\u001b[39m\n",
            "Seeing the results we interprete a few coefficients as follow:  \n",
            "  A positive coefficient for 'Hours_Studied' means that for an additional hour studied, the predicted outcome increases by 0.263, indicating \n",
            "quantitative relevance. Moreover, with p-value less than 0.05 implies statistical significance at 5% level. Low and medium parental involvement \n",
            "negatively impacts students performance, and their coefficients are statistically significant"
          ]
        },
        {
          "output_type": "display_data",
          "data": {
            "text/html": [
              "<table class=\"dataframe\">\n",
              "<caption>A tibble: 2 × 3</caption>\n",
              "<thead>\n",
              "\t<tr><th scope=col>.metric</th><th scope=col>.estimator</th><th scope=col>.estimate</th></tr>\n",
              "\t<tr><th scope=col>&lt;chr&gt;</th><th scope=col>&lt;chr&gt;</th><th scope=col>&lt;dbl&gt;</th></tr>\n",
              "</thead>\n",
              "<tbody>\n",
              "\t<tr><td>rmse</td><td>standard</td><td>1.2697327</td></tr>\n",
              "\t<tr><td>rsq </td><td>standard</td><td>0.8622597</td></tr>\n",
              "</tbody>\n",
              "</table>\n"
            ],
            "text/markdown": "\nA tibble: 2 × 3\n\n| .metric &lt;chr&gt; | .estimator &lt;chr&gt; | .estimate &lt;dbl&gt; |\n|---|---|---|\n| rmse | standard | 1.2697327 |\n| rsq  | standard | 0.8622597 |\n\n",
            "text/latex": "A tibble: 2 × 3\n\\begin{tabular}{lll}\n .metric & .estimator & .estimate\\\\\n <chr> & <chr> & <dbl>\\\\\n\\hline\n\t rmse & standard & 1.2697327\\\\\n\t rsq  & standard & 0.8622597\\\\\n\\end{tabular}\n",
            "text/plain": [
              "  .metric .estimator .estimate\n",
              "1 rmse    standard   1.2697327\n",
              "2 rsq     standard   0.8622597"
            ]
          },
          "metadata": {}
        },
        {
          "output_type": "stream",
          "name": "stdout",
          "text": [
            "The lower the root mean squared error rmse the better. The higher the r-squared the more variation in the target variable is explained for \n",
            "by the predictors."
          ]
        },
        {
          "output_type": "display_data",
          "data": {
            "text/html": [
              "<table class=\"dataframe\">\n",
              "<caption>A tibble: 2 × 3</caption>\n",
              "<thead>\n",
              "\t<tr><th scope=col>.metric</th><th scope=col>.estimator</th><th scope=col>.estimate</th></tr>\n",
              "\t<tr><th scope=col>&lt;chr&gt;</th><th scope=col>&lt;chr&gt;</th><th scope=col>&lt;dbl&gt;</th></tr>\n",
              "</thead>\n",
              "<tbody>\n",
              "\t<tr><td>rmse</td><td>standard</td><td>1.2528712</td></tr>\n",
              "\t<tr><td>rsq </td><td>standard</td><td>0.8638779</td></tr>\n",
              "</tbody>\n",
              "</table>\n"
            ],
            "text/markdown": "\nA tibble: 2 × 3\n\n| .metric &lt;chr&gt; | .estimator &lt;chr&gt; | .estimate &lt;dbl&gt; |\n|---|---|---|\n| rmse | standard | 1.2528712 |\n| rsq  | standard | 0.8638779 |\n\n",
            "text/latex": "A tibble: 2 × 3\n\\begin{tabular}{lll}\n .metric & .estimator & .estimate\\\\\n <chr> & <chr> & <dbl>\\\\\n\\hline\n\t rmse & standard & 1.2528712\\\\\n\t rsq  & standard & 0.8638779\\\\\n\\end{tabular}\n",
            "text/plain": [
              "  .metric .estimator .estimate\n",
              "1 rmse    standard   1.2528712\n",
              "2 rsq     standard   0.8638779"
            ]
          },
          "metadata": {}
        }
      ]
    },
    {
      "cell_type": "code",
      "source": [
        "## Linear regression feature importance\n",
        "linreg_fit |>\n",
        "  extract_fit_parsnip() |>\n",
        "  vip(num_features = 30)"
      ],
      "metadata": {
        "colab": {
          "base_uri": "https://localhost:8080/",
          "height": 438
        },
        "id": "_MiS5ueX_MuM",
        "outputId": "20b02b7a-ee4e-4864-d16c-f095feed838f"
      },
      "execution_count": null,
      "outputs": [
        {
          "output_type": "display_data",
          "data": {
            "text/plain": [
              "plot without title"
            ],
            "image/png": "[encoded data removed]"
          },
          "metadata": {
            "image/png": {
              "width": 420,
              "height": 420
            }
          }
        }
      ]
    },
    {
      "cell_type": "code",
      "source": [
        "##\n",
        "## Elastic Net Regression\n",
        "##\n",
        "cat(\"Linear regression model is a model that can predict numeric values from predictors using a linear function. Elastic Net regression extends \\\n",
        "the linear regression by adding both L1 (Lasso) and L2 (Ridge) regularization to improve stability and feature selection.\")\n",
        "\n",
        "## Layout elastic net recipe\n",
        "reg_recipe <- recipe(formula = Exam_Score ~ ., data = train) |>\n",
        "  # to assign an unseen factor  to a new factor in testing.\n",
        "  #step_novel(all_nominal_predictors()) |>\n",
        "  step_dummy(all_nominal_predictors())\n",
        "\n",
        "cat(\"Factor variables with more than two levels requires label encoding to be used for efficient preprocessing. Howerver utilizing one-hot encoding\\\n",
        "for such a case does used, not a lot of information is lost\n",
        ". Thus step_dummy() will be used on all factor variables.\")\n",
        "\n",
        "## Set up the elastic net specification\n",
        "elastic_net_spec <-\n",
        "  linear_reg(penalty = tune(), mixture = tune()) |>\n",
        "  set_mode(\"regression\") |>\n",
        "  set_engine(\"glmnet\")\n",
        "\n",
        "#?linear_reg\n",
        "## Build elastic workflow\n",
        "elastic_net_workflow <- workflow() |>\n",
        "  add_recipe(reg_recipe) |>\n",
        "  add_model(elastic_net_spec)\n",
        "\n",
        "## Construct the grid of parameters\n",
        "param_grid <- grid_regular(penalty(range = c(-2, 2)), mixture(), levels = 5)\n",
        "\n",
        "## Tune grid parameters\n",
        "tune_res <- tune_grid(\n",
        "  elastic_net_workflow,\n",
        "  resamples = trainreg_cv,\n",
        "  grid = param_grid\n",
        ")\n",
        "\n",
        "## Show tuned parameters results plot\n",
        "autoplot(tune_res)\n",
        "\n",
        "cat(\"Basically we want to choose parameters such that the 'root mean squared error' is lowest. The graph depicts as amount of regularization value increases \\\n",
        "'root mean squared error' value is getting' getting worse\")\n"
      ],
      "metadata": {
        "id": "R18Uz3UsMU3g",
        "colab": {
          "base_uri": "https://localhost:8080/",
          "height": 854
        },
        "outputId": "739207d1-341b-4805-97c2-f19a5711dd69"
      },
      "execution_count": null,
      "outputs": [
        {
          "output_type": "stream",
          "name": "stdout",
          "text": [
            "Linear regression model is a model that can predict numeric values from predictors using a linear function. Elastic Net regression extends \n",
            "the linear regression by adding both L1 (Lasso) and L2 (Ridge) regularization to improve stability and feature selection.Factor variables with more than two levels requires label encoding to be used for efficient preprocessing. Howerver utilizing one-hot encoding\n",
            "for such a case does used, not a lot of information is lost\n",
            ". Thus step_dummy() will be used on all factor variables."
          ]
        },
        {
          "output_type": "stream",
          "name": "stderr",
          "text": [
            "→ \u001b[33m\u001b[1mA\u001b[22m\u001b[39m | \u001b[33mwarning\u001b[39m: \u001b[1m\u001b[22mA correlation computation is required, but `estimate` is constant and has 0\n",
            "               standard deviation, resulting in a divide by 0 error. `NA` will be returned.\n",
            "\n",
            "There were issues with some computations   \u001b[1m\u001b[33mA\u001b[39m\u001b[22m: x1\n",
            "\n",
            "There were issues with some computations   \u001b[1m\u001b[33mA\u001b[39m\u001b[22m: x2\n",
            "\n",
            "There were issues with some computations   \u001b[1m\u001b[33mA\u001b[39m\u001b[22m: x5\n",
            "\n",
            "There were issues with some computations   \u001b[1m\u001b[33mA\u001b[39m\u001b[22m: x5\n",
            "\n",
            "\n",
            "\n"
          ]
        },
        {
          "output_type": "stream",
          "name": "stdout",
          "text": [
            "Basically we want to choose parameters such that the 'root mean squared error' is lowest. The graph depicts as amount of regularization value increases \n",
            "'root mean squared error' value is getting' getting worse"
          ]
        },
        {
          "output_type": "display_data",
          "data": {
            "text/plain": [
              "plot without title"
            ],
            "image/png": "[encoded data removed]"
          },
          "metadata": {
            "image/png": {
              "width": 420,
              "height": 420
            }
          }
        }
      ]
    },
    {
      "cell_type": "code",
      "source": [
        "\n",
        "cat(\"Basically we want to choose parameters such that the 'root mean squared error' is lowest. The graph depicts as amount of regularization value increases \\\n",
        "'root mean squared error' value is getting' getting worse\")\n",
        "\n",
        "## Extract best model\n",
        "best_penalty <- select_best(tune_res, metric = \"rmse\")\n",
        "print(best_penalty)\n",
        "\n",
        "## Finalize workflow with best parameter\n",
        "elastic_net_final <- finalize_workflow(elastic_net_workflow, best_penalty)\n",
        "\n",
        "## Fit elastic net model to train data\n",
        "elastic_net_final_fit <- fit(elastic_net_final, data = train)\n",
        "\n",
        "# Show output of model\n",
        "elastic_net_final_fit |> tidy() |> print(n = Inf)\n",
        "cat(\"Seeing the results we interprete a few coefficients as follows: \", '\\n',\n",
        "\" A positive coefficient for 'Hours_Studied' means that for an additional hour studied, the predicted outcome increases by 0.262, again indicating quantitative relevance.\\\n",
        "Gender coefficient (0) implies the Gender of a student is quantitatively irrelevant for determining their performance.\")\n",
        "\n",
        "## Make predictions with fitted model\n",
        "# Training data\n",
        "elasticnet_aug <- augment(elastic_net_final_fit, new_data = train)\n",
        "\n",
        "bind_rows(  elasticnet_aug |> rmse(truth = Exam_Score, .pred),\n",
        "            elasticnet_aug |> rsq(truth = Exam_Score, .pred) )"
      ],
      "metadata": {
        "id": "WkRFTYRfMZBv",
        "colab": {
          "base_uri": "https://localhost:8080/",
          "height": 1000
        },
        "outputId": "6c2d2f88-b039-4d59-ae77-090c470e4bc8"
      },
      "execution_count": null,
      "outputs": [
        {
          "output_type": "stream",
          "name": "stdout",
          "text": [
            "Basically we want to choose parameters such that the 'root mean squared error' is lowest. The graph depicts as amount of regularization value increases \n",
            "'root mean squared error' value is getting' getting worse\u001b[90m# A tibble: 1 × 3\u001b[39m\n",
            "  penalty mixture .config              \n",
            "    \u001b[3m\u001b[90m<dbl>\u001b[39m\u001b[23m   \u001b[3m\u001b[90m<dbl>\u001b[39m\u001b[23m \u001b[3m\u001b[90m<chr>\u001b[39m\u001b[23m                \n",
            "\u001b[90m1\u001b[39m    0.01    0.25 Preprocessor1_Model06\n",
            "\u001b[90m# A tibble: 28 × 3\u001b[39m\n",
            "   term                                  estimate penalty\n",
            "   \u001b[3m\u001b[90m<chr>\u001b[39m\u001b[23m                                    \u001b[3m\u001b[90m<dbl>\u001b[39m\u001b[23m   \u001b[3m\u001b[90m<dbl>\u001b[39m\u001b[23m\n",
            "\u001b[90m 1\u001b[39m (Intercept)                           42.4        0.01\n",
            "\u001b[90m 2\u001b[39m Hours_Studied                          0.262      0.01\n",
            "\u001b[90m 3\u001b[39m Attendance                             0.196      0.01\n",
            "\u001b[90m 4\u001b[39m Previous_Scores                        0.047\u001b[4m8\u001b[24m     0.01\n",
            "\u001b[90m 5\u001b[39m Tutoring_Sessions                      0.494      0.01\n",
            "\u001b[90m 6\u001b[39m Physical_Activity                      0.179      0.01\n",
            "\u001b[90m 7\u001b[39m SleepAwake_Ratio                       0.050\u001b[4m0\u001b[24m     0.01\n",
            "\u001b[90m 8\u001b[39m Parental_Involvement_Low              -\u001b[31m1\u001b[39m\u001b[31m.\u001b[39m\u001b[31m95\u001b[39m       0.01\n",
            "\u001b[90m 9\u001b[39m Parental_Involvement_Medium           -\u001b[31m1\u001b[39m\u001b[31m.\u001b[39m\u001b[31m0\u001b[39m\u001b[31m2\u001b[39m       0.01\n",
            "\u001b[90m10\u001b[39m Access_to_Resources_Low               -\u001b[31m1\u001b[39m\u001b[31m.\u001b[39m\u001b[31m97\u001b[39m       0.01\n",
            "\u001b[90m11\u001b[39m Access_to_Resources_Medium            -\u001b[31m0\u001b[39m\u001b[31m.\u001b[39m\u001b[31m948\u001b[39m      0.01\n",
            "\u001b[90m12\u001b[39m Extracurricular_Activities_Yes         0.530      0.01\n",
            "\u001b[90m13\u001b[39m Motivation_Level_Low                  -\u001b[31m1\u001b[39m\u001b[31m.\u001b[39m\u001b[31m00\u001b[39m       0.01\n",
            "\u001b[90m14\u001b[39m Motivation_Level_Medium               -\u001b[31m0\u001b[39m\u001b[31m.\u001b[39m\u001b[31m497\u001b[39m      0.01\n",
            "\u001b[90m15\u001b[39m Internet_Access_Yes                    0.924      0.01\n",
            "\u001b[90m16\u001b[39m Family_Income_Low                     -\u001b[31m0\u001b[39m\u001b[31m.\u001b[39m\u001b[31m963\u001b[39m      0.01\n",
            "\u001b[90m17\u001b[39m Family_Income_Medium                  -\u001b[31m0\u001b[39m\u001b[31m.\u001b[39m\u001b[31m479\u001b[39m      0.01\n",
            "\u001b[90m18\u001b[39m Teacher_Quality_Low                   -\u001b[31m1\u001b[39m\u001b[31m.\u001b[39m\u001b[31m0\u001b[39m\u001b[31m2\u001b[39m       0.01\n",
            "\u001b[90m19\u001b[39m Teacher_Quality_Medium                -\u001b[31m0\u001b[39m\u001b[31m.\u001b[39m\u001b[31m479\u001b[39m      0.01\n",
            "\u001b[90m20\u001b[39m School_Type_Public                     0.008\u001b[4m4\u001b[24m\u001b[4m7\u001b[24m    0.01\n",
            "\u001b[90m21\u001b[39m Peer_Influence_Neutral                 0.490      0.01\n",
            "\u001b[90m22\u001b[39m Peer_Influence_Positive                0.983      0.01\n",
            "\u001b[90m23\u001b[39m Learning_Disabilities_Yes             -\u001b[31m0\u001b[39m\u001b[31m.\u001b[39m\u001b[31m766\u001b[39m      0.01\n",
            "\u001b[90m24\u001b[39m Parental_Education_Level_High.School  -\u001b[31m0\u001b[39m\u001b[31m.\u001b[39m\u001b[31m513\u001b[39m      0.01\n",
            "\u001b[90m25\u001b[39m Parental_Education_Level_Postgraduate  0.443      0.01\n",
            "\u001b[90m26\u001b[39m Distance_from_Home_Moderate            0.397      0.01\n",
            "\u001b[90m27\u001b[39m Distance_from_Home_Near                0.919      0.01\n",
            "\u001b[90m28\u001b[39m Gender_Male                            0          0.01\n",
            "Seeing the results we interprete a few coefficients as follows:  \n",
            "  A positive coefficient for 'Hours_Studied' means that for an additional hour studied, the predicted outcome increases by 0.262, again indicating quantitative relevance.\n",
            "Gender coefficient (0) implies the Gender of a student is quantitatively irrelevant for determining their performance."
          ]
        },
        {
          "output_type": "display_data",
          "data": {
            "text/html": [
              "<table class=\"dataframe\">\n",
              "<caption>A tibble: 2 × 3</caption>\n",
              "<thead>\n",
              "\t<tr><th scope=col>.metric</th><th scope=col>.estimator</th><th scope=col>.estimate</th></tr>\n",
              "\t<tr><th scope=col>&lt;chr&gt;</th><th scope=col>&lt;chr&gt;</th><th scope=col>&lt;dbl&gt;</th></tr>\n",
              "</thead>\n",
              "<tbody>\n",
              "\t<tr><td>rmse</td><td>standard</td><td>1.2700117</td></tr>\n",
              "\t<tr><td>rsq </td><td>standard</td><td>0.8622275</td></tr>\n",
              "</tbody>\n",
              "</table>\n"
            ],
            "text/markdown": "\nA tibble: 2 × 3\n\n| .metric &lt;chr&gt; | .estimator &lt;chr&gt; | .estimate &lt;dbl&gt; |\n|---|---|---|\n| rmse | standard | 1.2700117 |\n| rsq  | standard | 0.8622275 |\n\n",
            "text/latex": "A tibble: 2 × 3\n\\begin{tabular}{lll}\n .metric & .estimator & .estimate\\\\\n <chr> & <chr> & <dbl>\\\\\n\\hline\n\t rmse & standard & 1.2700117\\\\\n\t rsq  & standard & 0.8622275\\\\\n\\end{tabular}\n",
            "text/plain": [
              "  .metric .estimator .estimate\n",
              "1 rmse    standard   1.2700117\n",
              "2 rsq     standard   0.8622275"
            ]
          },
          "metadata": {}
        }
      ]
    },
    {
      "cell_type": "code",
      "source": [
        "##\n",
        "## Random Forest Model\n",
        "##\n",
        "cat(\"A ranom forest is an emsemble model that creates a  large number of decision trees, each independent of the others. The final prediction uses all predictions from the \\\n",
        "individual trees, and reports an average for regression models, a mode value for classification mdoels\", \"\\n\")\n",
        "\n",
        "cat(\"tuning rf paramters was computtationally expensive, so I settled for base model\")\n",
        "\n",
        "## Set up the elastic net specification\n",
        "rf_regtree_spec <- rand_forest() |>\n",
        "                   set_engine(\"randomForest\", importance = TRUE ) |>\n",
        "                   set_mode(\"regression\")\n",
        "\n",
        "## Fit model\n",
        "set.seed(1)\n",
        "rf_regtree_fit <- fit(rf_regtree_spec, Exam_Score ~ ., train )\n",
        "rf_regtree_fit\n",
        "\n",
        "## Make predictions with fitted model\n",
        "# Training data\n",
        "rf_regtree_aug <- augment(rf_regtree_fit, new_data = train)\n",
        "\n",
        "bind_rows( rf_regtree_aug|> rmse(truth = Exam_Score, .pred),\n",
        "           rf_regtree_aug |> rsq(truth = Exam_Score, .pred) )\n",
        "\n",
        "cat(\"Training metrics for RF are great much better than two previous model in terms of rmse and r-squared. \\\n",
        "However, test metrics will be more meaningful\")"
      ],
      "metadata": {
        "colab": {
          "base_uri": "https://localhost:8080/",
          "height": 554
        },
        "id": "mDfXUbmELWmG",
        "outputId": "03feb8e3-2716-4ad9-c277-2b9142b7aaa7"
      },
      "execution_count": null,
      "outputs": [
        {
          "output_type": "stream",
          "name": "stdout",
          "text": [
            "A ranom forest is an emsemble model that creates a  large number of decision trees, each independent of the others. The final prediction uses all predictions from the \n",
            "individual trees, and reports an average for regression models, a mode value for classification mdoels \n",
            "tuning rf paramters was computtationally expensive, so I settled for base model"
          ]
        },
        {
          "output_type": "display_data",
          "data": {
            "text/plain": [
              "parsnip model object\n",
              "\n",
              "\n",
              "Call:\n",
              " randomForest(x = maybe_data_frame(x), y = y, importance = ~TRUE) \n",
              "               Type of random forest: regression\n",
              "                     Number of trees: 500\n",
              "No. of variables tried at each split: 6\n",
              "\n",
              "          Mean of squared residuals: 2.35767\n",
              "                    % Var explained: 79.86"
            ]
          },
          "metadata": {}
        },
        {
          "output_type": "display_data",
          "data": {
            "text/html": [
              "<table class=\"dataframe\">\n",
              "<caption>A tibble: 2 × 3</caption>\n",
              "<thead>\n",
              "\t<tr><th scope=col>.metric</th><th scope=col>.estimator</th><th scope=col>.estimate</th></tr>\n",
              "\t<tr><th scope=col>&lt;chr&gt;</th><th scope=col>&lt;chr&gt;</th><th scope=col>&lt;dbl&gt;</th></tr>\n",
              "</thead>\n",
              "<tbody>\n",
              "\t<tr><td>rmse</td><td>standard</td><td>0.7471323</td></tr>\n",
              "\t<tr><td>rsq </td><td>standard</td><td>0.9647602</td></tr>\n",
              "</tbody>\n",
              "</table>\n"
            ],
            "text/markdown": "\nA tibble: 2 × 3\n\n| .metric &lt;chr&gt; | .estimator &lt;chr&gt; | .estimate &lt;dbl&gt; |\n|---|---|---|\n| rmse | standard | 0.7471323 |\n| rsq  | standard | 0.9647602 |\n\n",
            "text/latex": "A tibble: 2 × 3\n\\begin{tabular}{lll}\n .metric & .estimator & .estimate\\\\\n <chr> & <chr> & <dbl>\\\\\n\\hline\n\t rmse & standard & 0.7471323\\\\\n\t rsq  & standard & 0.9647602\\\\\n\\end{tabular}\n",
            "text/plain": [
              "  .metric .estimator .estimate\n",
              "1 rmse    standard   0.7471323\n",
              "2 rsq     standard   0.9647602"
            ]
          },
          "metadata": {}
        },
        {
          "output_type": "stream",
          "name": "stdout",
          "text": [
            "Training metrics for RF are great much better than two previous model in terms of rmse and r-squared. \n",
            "However, test metrics will be more meaningful"
          ]
        }
      ]
    },
    {
      "cell_type": "code",
      "source": [
        "##\n",
        "## Extreme Gradient Boosting (XGB) regression model\n",
        "##\n",
        "cat(\"An XGB Model creates a series of decision trees forming an ensemble. Each tree depends on the results of the previuos tree. All trees in the ensemble are combined\\\n",
        "to produce a final prediction. Below a regression model is set up with two paramters to tune namely: tree_dpth and learn_rate\")\n",
        "\n",
        "\n",
        "## Set up the XGB reg specification\n",
        "xgbregtree_spec <- boost_tree( tree_depth = tune(), learn_rate = tune()) |>\n",
        "                   set_engine(\"xgboost\") |>\n",
        "                   set_mode(\"regression\")\n",
        "\n",
        "## Layout XGB reg recipe\n",
        "xgbreg_recipe <- recipe(formula = Exam_Score ~ ., data = train) |>\n",
        "                 step_novel(all_nominal_predictors()) |>\n",
        "                 step_normalize(all_numeric_predictors()) |>\n",
        "                 step_dummy(all_nominal_predictors()) #|>\n",
        "\n",
        "\n",
        "## Build elastic workflow\n",
        "xgbreg_wf <- workflow() |>\n",
        "  add_model(xgbregtree_spec) |>\n",
        "  add_recipe(xgbreg_recipe)\n"
      ],
      "metadata": {
        "id": "xGG9Q08dMgjb",
        "colab": {
          "base_uri": "https://localhost:8080/"
        },
        "outputId": "32645d96-e358-4795-ed54-bdc3c0c53d1a"
      },
      "execution_count": null,
      "outputs": [
        {
          "output_type": "stream",
          "name": "stdout",
          "text": [
            "An XGB Model creates a series of decision trees forming an ensemble. Each tree depends on the results of the previuos tree. All trees in the ensemble are combined\n",
            "to produce a final prediction. Below a regression model is set up with two paramters to tune namely: tree_dpth and learn_rate"
          ]
        }
      ]
    },
    {
      "cell_type": "code",
      "source": [
        "\n",
        "# Create grid of parameters\n",
        "set.seed(1)\n",
        "\n",
        "\n",
        "cat('While a wider parameter grid gives a better chance of obtaining best param. Leaving size of 60 would be ideal, as described in literature.')\n",
        "xgbparam_grid <- grid_random( tree_depth(range = c(3, 10)),\n",
        "                              learn_rate(c(0.01, 0.3), trans = NULL), size = 60)\n",
        "\n",
        "# show a few\n",
        "xgbparam_grid |> print(n = 5)\n",
        "\n",
        "tune_res <- tune_grid(xgbreg_wf, resamples = trainreg_cv, grid = xgbparam_grid)\n",
        "\n",
        "# Select best param\n",
        "xgbbest_params <- select_best(tune_res, metric = 'rmse')\n",
        "xgbbest_params\n",
        "\n",
        "# Finalize workflow\n",
        "xgbreg_final <- finalize_workflow(xgbreg_wf, xgbbest_params)\n",
        "\n",
        "# Fit model to data\n",
        "xgbregfinal_fit <- fit(xgbreg_final, data = train )\n",
        "\n",
        "## Make predictions with fitted model\n",
        "# Training data\n",
        "xgbreg_aug <- augment(xgbregfinal_fit, new_data = train)\n",
        "bind_rows( xgbreg_aug |> rmse(truth = Exam_Score, .pred),\n",
        "           xgbreg_aug |> rsq(truth = Exam_Score, .pred) )\n",
        "\n",
        "\n",
        "#?boost_tree\n",
        "#?decision_tree\n",
        "#?randomForest"
      ],
      "metadata": {
        "id": "Tz0XJfBGMjjR",
        "colab": {
          "base_uri": "https://localhost:8080/",
          "height": 544
        },
        "outputId": "b67a63db-e1d5-404e-fe7d-3d45eb70752d"
      },
      "execution_count": null,
      "outputs": [
        {
          "output_type": "stream",
          "name": "stdout",
          "text": [
            "While a wider parameter grid gives a better chance of obtaining best param. Leaving size of 60 would be ideal, as described in literature.\u001b[90m# A tibble: 60 × 2\u001b[39m\n",
            "  tree_depth learn_rate\n",
            "       \u001b[3m\u001b[90m<int>\u001b[39m\u001b[23m      \u001b[3m\u001b[90m<dbl>\u001b[39m\u001b[23m\n",
            "\u001b[90m1\u001b[39m          3     0.275 \n",
            "\u001b[90m2\u001b[39m          6     0.095\u001b[4m1\u001b[24m\n",
            "\u001b[90m3\u001b[39m          9     0.143 \n",
            "\u001b[90m4\u001b[39m          3     0.106 \n",
            "\u001b[90m5\u001b[39m          4     0.199 \n",
            "\u001b[90m# ℹ 55 more rows\u001b[39m\n"
          ]
        },
        {
          "output_type": "display_data",
          "data": {
            "text/html": [
              "<table class=\"dataframe\">\n",
              "<caption>A tibble: 1 × 3</caption>\n",
              "<thead>\n",
              "\t<tr><th scope=col>tree_depth</th><th scope=col>learn_rate</th><th scope=col>.config</th></tr>\n",
              "\t<tr><th scope=col>&lt;int&gt;</th><th scope=col>&lt;dbl&gt;</th><th scope=col>&lt;chr&gt;</th></tr>\n",
              "</thead>\n",
              "<tbody>\n",
              "\t<tr><td>8</td><td>0.2930895</td><td>Preprocessor1_Model51</td></tr>\n",
              "</tbody>\n",
              "</table>\n"
            ],
            "text/markdown": "\nA tibble: 1 × 3\n\n| tree_depth &lt;int&gt; | learn_rate &lt;dbl&gt; | .config &lt;chr&gt; |\n|---|---|---|\n| 8 | 0.2930895 | Preprocessor1_Model51 |\n\n",
            "text/latex": "A tibble: 1 × 3\n\\begin{tabular}{lll}\n tree\\_depth & learn\\_rate & .config\\\\\n <int> & <dbl> & <chr>\\\\\n\\hline\n\t 8 & 0.2930895 & Preprocessor1\\_Model51\\\\\n\\end{tabular}\n",
            "text/plain": [
              "  tree_depth learn_rate .config              \n",
              "1 8          0.2930895  Preprocessor1_Model51"
            ]
          },
          "metadata": {}
        },
        {
          "output_type": "display_data",
          "data": {
            "text/html": [
              "<table class=\"dataframe\">\n",
              "<caption>A tibble: 2 × 3</caption>\n",
              "<thead>\n",
              "\t<tr><th scope=col>.metric</th><th scope=col>.estimator</th><th scope=col>.estimate</th></tr>\n",
              "\t<tr><th scope=col>&lt;chr&gt;</th><th scope=col>&lt;chr&gt;</th><th scope=col>&lt;dbl&gt;</th></tr>\n",
              "</thead>\n",
              "<tbody>\n",
              "\t<tr><td>rmse</td><td>standard</td><td>1.0454589</td></tr>\n",
              "\t<tr><td>rsq </td><td>standard</td><td>0.9279164</td></tr>\n",
              "</tbody>\n",
              "</table>\n"
            ],
            "text/markdown": "\nA tibble: 2 × 3\n\n| .metric &lt;chr&gt; | .estimator &lt;chr&gt; | .estimate &lt;dbl&gt; |\n|---|---|---|\n| rmse | standard | 1.0454589 |\n| rsq  | standard | 0.9279164 |\n\n",
            "text/latex": "A tibble: 2 × 3\n\\begin{tabular}{lll}\n .metric & .estimator & .estimate\\\\\n <chr> & <chr> & <dbl>\\\\\n\\hline\n\t rmse & standard & 1.0454589\\\\\n\t rsq  & standard & 0.9279164\\\\\n\\end{tabular}\n",
            "text/plain": [
              "  .metric .estimator .estimate\n",
              "1 rmse    standard   1.0454589\n",
              "2 rsq     standard   0.9279164"
            ]
          },
          "metadata": {}
        }
      ]
    },
    {
      "cell_type": "code",
      "source": [
        "\n",
        "#####################********************####################*******************\n",
        "#*******************************************************************************\n",
        "####\n",
        "#### Model Performance Evaluation\n",
        "#### A --> Regression Model\n",
        "\n",
        "# Test results: Linear regression\n",
        "linreg_aug <- augment(linreg_fit, new_data = test)\n",
        "bind_rows( linreg_aug |> rmse(truth = Exam_Score, .pred),\n",
        "           linreg_aug |> rsq(truth = Exam_Score, .pred) )\n",
        "\n",
        "# Test results: Elastic net regression\n",
        "elasticnet_aug <- augment(elastic_net_final_fit, new_data = test)\n",
        "bind_rows(  elasticnet_aug |> rmse(truth = Exam_Score, .pred),\n",
        "            elasticnet_aug |> rsq(truth = Exam_Score, .pred))\n",
        "\n",
        "# Test results: RF\n",
        "rf_regtree_aug <- augment(rf_regtree_fit, new_data = test)\n",
        "bind_rows( rf_regtree_aug|> rmse(truth = Exam_Score, .pred),\n",
        "           rf_regtree_aug |> rsq(truth = Exam_Score, .pred))\n",
        "\n",
        "# Test results: XBG\n",
        "xgbreg_aug <- augment(xgbregfinal_fit, new_data = test)\n",
        "bind_rows( xgbreg_aug |> rmse(truth = Exam_Score, .pred),\n",
        "           xgbreg_aug |> rsq(truth = Exam_Score, .pred))\n",
        "\n",
        "cat(\"Best model in terms of rmse is Linear model and Elastic Net \")\n",
        "\n",
        "\n",
        "## Feature importance and prediction plot of best model only\n",
        "cat(\"We look at feature importance and the predictions plot below, for only the best regression model\")\n",
        "\n",
        "# Feature importance\n",
        "linreg_fit  |> extract_fit_parsnip() |>\n",
        "               vip(num_features = 30)\n",
        "cat(\"We see from top to bottom the most important features for predicting the final score of a student according to the linear model. \\\n",
        "The predictors: Attendance, Hourse Studied, Previuos score, appearing as the most important and 'Gender' having the least importance. \\\n",
        "Gender essentially playing no role in predicting final score\")\n",
        "\n",
        "# Plot\n",
        "linreg_aug |>\n",
        "  ggplot(aes(x = Exam_Score, y = .pred))+\n",
        "  geom_abline()+\n",
        "  geom_point(alpha = 0.5) +\n",
        "  ylim(50, 90) +\n",
        "  xlim(50, 90)\n",
        "\n",
        "cat(\"For accurate prediction, points are suppose to strictly appear on the 45 degree line. The graph depicts otherwise, and further shows the model \\\n",
        "shortcomings with some observations: as we noticed points do not exactly appear on the line. However, the outliers are not too many as there only exist four down east and two top center of the graph.\")"
      ],
      "metadata": {
        "id": "NLbSdXQpMmZU",
        "colab": {
          "base_uri": "https://localhost:8080/",
          "height": 1000
        },
        "outputId": "cec64ef3-e872-43fd-b332-a61a111c7c34"
      },
      "execution_count": null,
      "outputs": [
        {
          "output_type": "display_data",
          "data": {
            "text/html": [
              "<table class=\"dataframe\">\n",
              "<caption>A tibble: 2 × 3</caption>\n",
              "<thead>\n",
              "\t<tr><th scope=col>.metric</th><th scope=col>.estimator</th><th scope=col>.estimate</th></tr>\n",
              "\t<tr><th scope=col>&lt;chr&gt;</th><th scope=col>&lt;chr&gt;</th><th scope=col>&lt;dbl&gt;</th></tr>\n",
              "</thead>\n",
              "<tbody>\n",
              "\t<tr><td>rmse</td><td>standard</td><td>1.2528712</td></tr>\n",
              "\t<tr><td>rsq </td><td>standard</td><td>0.8638779</td></tr>\n",
              "</tbody>\n",
              "</table>\n"
            ],
            "text/markdown": "\nA tibble: 2 × 3\n\n| .metric &lt;chr&gt; | .estimator &lt;chr&gt; | .estimate &lt;dbl&gt; |\n|---|---|---|\n| rmse | standard | 1.2528712 |\n| rsq  | standard | 0.8638779 |\n\n",
            "text/latex": "A tibble: 2 × 3\n\\begin{tabular}{lll}\n .metric & .estimator & .estimate\\\\\n <chr> & <chr> & <dbl>\\\\\n\\hline\n\t rmse & standard & 1.2528712\\\\\n\t rsq  & standard & 0.8638779\\\\\n\\end{tabular}\n",
            "text/plain": [
              "  .metric .estimator .estimate\n",
              "1 rmse    standard   1.2528712\n",
              "2 rsq     standard   0.8638779"
            ]
          },
          "metadata": {}
        },
        {
          "output_type": "display_data",
          "data": {
            "text/html": [
              "<table class=\"dataframe\">\n",
              "<caption>A tibble: 2 × 3</caption>\n",
              "<thead>\n",
              "\t<tr><th scope=col>.metric</th><th scope=col>.estimator</th><th scope=col>.estimate</th></tr>\n",
              "\t<tr><th scope=col>&lt;chr&gt;</th><th scope=col>&lt;chr&gt;</th><th scope=col>&lt;dbl&gt;</th></tr>\n",
              "</thead>\n",
              "<tbody>\n",
              "\t<tr><td>rmse</td><td>standard</td><td>1.2525029</td></tr>\n",
              "\t<tr><td>rsq </td><td>standard</td><td>0.8637286</td></tr>\n",
              "</tbody>\n",
              "</table>\n"
            ],
            "text/markdown": "\nA tibble: 2 × 3\n\n| .metric &lt;chr&gt; | .estimator &lt;chr&gt; | .estimate &lt;dbl&gt; |\n|---|---|---|\n| rmse | standard | 1.2525029 |\n| rsq  | standard | 0.8637286 |\n\n",
            "text/latex": "A tibble: 2 × 3\n\\begin{tabular}{lll}\n .metric & .estimator & .estimate\\\\\n <chr> & <chr> & <dbl>\\\\\n\\hline\n\t rmse & standard & 1.2525029\\\\\n\t rsq  & standard & 0.8637286\\\\\n\\end{tabular}\n",
            "text/plain": [
              "  .metric .estimator .estimate\n",
              "1 rmse    standard   1.2525029\n",
              "2 rsq     standard   0.8637286"
            ]
          },
          "metadata": {}
        },
        {
          "output_type": "display_data",
          "data": {
            "text/html": [
              "<table class=\"dataframe\">\n",
              "<caption>A tibble: 2 × 3</caption>\n",
              "<thead>\n",
              "\t<tr><th scope=col>.metric</th><th scope=col>.estimator</th><th scope=col>.estimate</th></tr>\n",
              "\t<tr><th scope=col>&lt;chr&gt;</th><th scope=col>&lt;chr&gt;</th><th scope=col>&lt;dbl&gt;</th></tr>\n",
              "</thead>\n",
              "<tbody>\n",
              "\t<tr><td>rmse</td><td>standard</td><td>1.4311991</td></tr>\n",
              "\t<tr><td>rsq </td><td>standard</td><td>0.8466983</td></tr>\n",
              "</tbody>\n",
              "</table>\n"
            ],
            "text/markdown": "\nA tibble: 2 × 3\n\n| .metric &lt;chr&gt; | .estimator &lt;chr&gt; | .estimate &lt;dbl&gt; |\n|---|---|---|\n| rmse | standard | 1.4311991 |\n| rsq  | standard | 0.8466983 |\n\n",
            "text/latex": "A tibble: 2 × 3\n\\begin{tabular}{lll}\n .metric & .estimator & .estimate\\\\\n <chr> & <chr> & <dbl>\\\\\n\\hline\n\t rmse & standard & 1.4311991\\\\\n\t rsq  & standard & 0.8466983\\\\\n\\end{tabular}\n",
            "text/plain": [
              "  .metric .estimator .estimate\n",
              "1 rmse    standard   1.4311991\n",
              "2 rsq     standard   0.8466983"
            ]
          },
          "metadata": {}
        },
        {
          "output_type": "display_data",
          "data": {
            "text/html": [
              "<table class=\"dataframe\">\n",
              "<caption>A tibble: 2 × 3</caption>\n",
              "<thead>\n",
              "\t<tr><th scope=col>.metric</th><th scope=col>.estimator</th><th scope=col>.estimate</th></tr>\n",
              "\t<tr><th scope=col>&lt;chr&gt;</th><th scope=col>&lt;chr&gt;</th><th scope=col>&lt;dbl&gt;</th></tr>\n",
              "</thead>\n",
              "<tbody>\n",
              "\t<tr><td>rmse</td><td>standard</td><td>1.4467571</td></tr>\n",
              "\t<tr><td>rsq </td><td>standard</td><td>0.8347104</td></tr>\n",
              "</tbody>\n",
              "</table>\n"
            ],
            "text/markdown": "\nA tibble: 2 × 3\n\n| .metric &lt;chr&gt; | .estimator &lt;chr&gt; | .estimate &lt;dbl&gt; |\n|---|---|---|\n| rmse | standard | 1.4467571 |\n| rsq  | standard | 0.8347104 |\n\n",
            "text/latex": "A tibble: 2 × 3\n\\begin{tabular}{lll}\n .metric & .estimator & .estimate\\\\\n <chr> & <chr> & <dbl>\\\\\n\\hline\n\t rmse & standard & 1.4467571\\\\\n\t rsq  & standard & 0.8347104\\\\\n\\end{tabular}\n",
            "text/plain": [
              "  .metric .estimator .estimate\n",
              "1 rmse    standard   1.4467571\n",
              "2 rsq     standard   0.8347104"
            ]
          },
          "metadata": {}
        },
        {
          "output_type": "stream",
          "name": "stdout",
          "text": [
            "Best model in terms of rmse is Linear model and Elastic Net We look at feature importance and the predictions plot below, for only the best regression modelWe see from top to bottom the most important features for predicting the final score of a student according to the linear model. \n",
            "The predictors: Attendance, Hourse Studied, Previuos score, appearing as the most important and 'Gender' having the least importance. \n",
            "Gender essentially playing no role in predicting final score"
          ]
        },
        {
          "output_type": "display_data",
          "data": {
            "text/plain": [
              "plot without title"
            ],
            "image/png": "[encoded data removed]"
          },
          "metadata": {
            "image/png": {
              "width": 420,
              "height": 420
            }
          }
        },
        {
          "output_type": "stream",
          "name": "stdout",
          "text": [
            "For accurate prediction, points are suppose to strictly appear on the 45 degree line. The graph depicts otherwise, and further shows the model \n",
            "shortcomings with some observations: as we noticed points do not exactly appear on the line. However, the outliers are not too many as there only exist four down east and two top center of the graph."
          ]
        },
        {
          "output_type": "display_data",
          "data": {
            "text/plain": [
              "plot without title"
            ],
            "image/png": "[encoded data removed]"
          },
          "metadata": {
            "image/png": {
              "width": 420,
              "height": 420
            }
          }
        }
      ]
    },
    {
      "cell_type": "code",
      "source": [
        "#####################********************####################*******************\n",
        "#*******************************************************************************\n",
        "####\n",
        "#### MODELLING\n",
        "####*\n",
        "#### B -> Classification Models\n",
        "####*\n",
        "## Models Considered: Logistic Regression and Extreme Gradient Boosting Model\n",
        "#*******************************************************************************\n",
        "#*******************************************************************************\n",
        "\n",
        "\n",
        "summary(data$Exam_Score)\n",
        "cat(\"The maximum attainable score is 100, I believe. As seen with the summary of target variable - Exam_Score, the worst score recorded in our current data is\", min(data$Exam_Score),\". Therefore, we are \\\n",
        "dealing with a perfromance data set of brilliant students (that is like good and very good sets of students). Students whom all are expected to have a pass grade.\" , '\\n', \"\n",
        "This task can also be addressed as a classification problem, whereby we want to predict a student's final Exam grade, scoring between good or very good. \")\n",
        "\n",
        "\n",
        "## Compute median\n",
        "med = median( data$Exam_Score)\n",
        "cat(\"The median value:\", med ,  \"is used as boundary to separate class between 'very good' and 'good' \")\n",
        "\n",
        "# Transform \"Exam_Score\" to binary class: 'very good' and 'good'\n",
        "data_class  <- data |>\n",
        "               mutate( Exam_Score = factor( ifelse(Exam_Score > med, 'v_good', 'good')))\n",
        "\n",
        "summary(data_class)\n",
        "\n",
        "## Split data\n",
        "\n",
        "\n",
        "## 'Strata' for data split to obtain similar proportion of target variable - Exam_Score, in training set as well as test set.\n",
        "set.seed(1)\n",
        "data_split <- initial_split(data_class, prop = 3/4, strata = 'Exam_Score')\n",
        "\n",
        "train_class <- training(data_split)\n",
        "test_class <- testing(data_split)\n",
        "\n",
        "\n",
        "# Declare recipe\n",
        "class_recipe <- recipe(Exam_Score ~., data = train_class)\n",
        "\n",
        "##\n",
        "## Logistic Regression\n",
        "##\n",
        "cat(\"Logistic Regression is a generalized linear model for modelling the relationship between predictors and targets of binanry nature. A linear combination of the predictors \\\n",
        "is used to model the log odds of an event (target).\")\n",
        "\n",
        "## Set up logistic regression specification\n",
        "logreg_spec <- logistic_reg() |>\n",
        "               set_engine(\"glm\") |>\n",
        "               set_mode(\"classification\")\n",
        "\n",
        "## Build workflow\n",
        "logreg_wrkflow <- workflow() |>\n",
        "                  add_model(logreg_spec) |>\n",
        "                  add_recipe(class_recipe)\n",
        "\n",
        "## Fit model to data\n",
        "logreg_fit <- logreg_wrkflow |> fit(data = train_class)\n",
        "\n",
        "## Extract coefficients\n",
        "logreg_fit |> extract_fit_parsnip() |> tidy() |> print(n = Inf)\n",
        "cat(\"Negative coefficients mean lower probability of very good performance.\n",
        "Positive coefficients mean higher probability  of very good performance.\")\n",
        "\n",
        "## Make predictions with fitted model\n",
        "# Test data\n",
        "logreg_aug <- augment(logreg_fit, new_data = test_class)\n",
        "\n",
        "bind_rows(logreg_aug |> accuracy(truth = Exam_Score, .pred_class),\n",
        "          logreg_aug |> roc_auc(truth = Exam_Score, .pred_good) )\n",
        "logreg_aug |> conf_mat(truth = Exam_Score, .pred_class)\n",
        "\n",
        "cat(\" 97.9% accuracy is pretty good for accuracy.\n",
        "The roc value will imply the roc curve will almost hug the extreme end, further indicating implying the base model log reg model \\\n",
        "is 99.2% accurate in terms of distinguishing the classes and also acuurate in predicting the right class between a good and very good grade\")"
      ],
      "metadata": {
        "id": "fFHCmfxJMnLk",
        "colab": {
          "base_uri": "https://localhost:8080/",
          "height": 1000
        },
        "outputId": "1b5e099a-cc02-4002-fcff-c66c9f9604f6"
      },
      "execution_count": null,
      "outputs": [
        {
          "output_type": "display_data",
          "data": {
            "text/plain": [
              "   Min. 1st Qu.  Median    Mean 3rd Qu.    Max. \n",
              "  59.00   65.00   67.00   67.17   69.00   86.00 "
            ]
          },
          "metadata": {}
        },
        {
          "output_type": "stream",
          "name": "stdout",
          "text": [
            "The maximum attainable score is 100, I believe. As seen with the summary of target variable - Exam_Score, the worst score recorded in our current data is 59 . Therefore, we are \n",
            "dealing with a perfromance data set of brilliant students (that is like good and very good sets of students). Students whom all are expected to have a pass grade. \n",
            " \n",
            "This task can also be addressed as a classification problem, whereby we want to predict a student's final Exam grade, scoring between good or very good. The median value: 67 is used as boundary to separate class between 'very good' and 'good' "
          ]
        },
        {
          "output_type": "display_data",
          "data": {
            "text/plain": [
              "  Exam_Score   Hours_Studied     Attendance     Parental_Involvement\n",
              " good  :3400   Min.   :  1.0   Min.   : 60.00   High  :1799         \n",
              " v_good:2859   1st Qu.: 16.0   1st Qu.: 70.00   Low   :1259         \n",
              "               Median : 20.0   Median : 80.00   Medium:3201         \n",
              "               Mean   : 20.1   Mean   : 80.07                       \n",
              "               3rd Qu.: 24.0   3rd Qu.: 90.00                       \n",
              "               Max.   :100.0   Max.   :100.00                       \n",
              " Access_to_Resources Extracurricular_Activities Previous_Scores \n",
              " High  :1870         No :2521                   Min.   : 50.00  \n",
              " Low   :1247         Yes:3738                   1st Qu.: 63.00  \n",
              " Medium:3142                                    Median : 75.00  \n",
              "                                                Mean   : 75.07  \n",
              "                                                3rd Qu.: 88.00  \n",
              "                                                Max.   :100.00  \n",
              " Motivation_Level Internet_Access Tutoring_Sessions Family_Income\n",
              " High  :1254      No : 472        Min.   :0.000     High  :1204  \n",
              " Low   :1821      Yes:5787        1st Qu.:1.000     Low   :2535  \n",
              " Medium:3184                      Median :1.000     Medium:2520  \n",
              "                                  Mean   :1.497                  \n",
              "                                  3rd Qu.:2.000                  \n",
              "                                  Max.   :8.000                  \n",
              " Teacher_Quality  School_Type    Peer_Influence Physical_Activity\n",
              " High  :1870     Private:1909   Negative:1308   Min.   :0.000    \n",
              " Low   : 635     Public :4350   Neutral :2453   1st Qu.:2.000    \n",
              " Medium:3754                    Positive:2498   Median :3.000    \n",
              "                                                Mean   :2.974    \n",
              "                                                3rd Qu.:4.000    \n",
              "                                                Max.   :6.000    \n",
              " Learning_Disabilities Parental_Education_Level Distance_from_Home\n",
              " No :5606              College     :1903        Far     : 619     \n",
              " Yes: 653              High School :3099        Moderate:1896     \n",
              "                       Postgraduate:1257        Near    :3744     \n",
              "                                                                  \n",
              "                                                                  \n",
              "                                                                  \n",
              "    Gender     SleepAwake_Ratio\n",
              " Female:2645   Min.   :0.2000  \n",
              " Male  :3614   1st Qu.:0.3333  \n",
              "               Median :0.4118  \n",
              "               Mean   :0.4252  \n",
              "               3rd Qu.:0.5000  \n",
              "               Max.   :0.7143  "
            ]
          },
          "metadata": {}
        },
        {
          "output_type": "stream",
          "name": "stdout",
          "text": [
            "Logistic Regression is a generalized linear model for modelling the relationship between predictors and targets of binanry nature. A linear combination of the predictors \n",
            "is used to model the log odds of an event (target)."
          ]
        },
        {
          "output_type": "stream",
          "name": "stderr",
          "text": [
            "Warning message:\n",
            "“glm.fit: fitted probabilities numerically 0 or 1 occurred”\n"
          ]
        },
        {
          "output_type": "stream",
          "name": "stdout",
          "text": [
            "\u001b[90m# A tibble: 28 × 5\u001b[39m\n",
            "   term                                 estimate std.error statistic   p.value\n",
            "   \u001b[3m\u001b[90m<chr>\u001b[39m\u001b[23m                                   \u001b[3m\u001b[90m<dbl>\u001b[39m\u001b[23m     \u001b[3m\u001b[90m<dbl>\u001b[39m\u001b[23m     \u001b[3m\u001b[90m<dbl>\u001b[39m\u001b[23m     \u001b[3m\u001b[90m<dbl>\u001b[39m\u001b[23m\n",
            "\u001b[90m 1\u001b[39m (Intercept)                          -\u001b[31m69\u001b[39m\u001b[31m.\u001b[39m\u001b[31m3\u001b[39m      2.84     -\u001b[31m24\u001b[39m\u001b[31m.\u001b[39m\u001b[31m4\u001b[39m    5.60\u001b[90me\u001b[39m\u001b[31m-131\u001b[39m\n",
            "\u001b[90m 2\u001b[39m Hours_Studied                          0.740    0.031\u001b[4m6\u001b[24m    23.4    1.39\u001b[90me\u001b[39m\u001b[31m-121\u001b[39m\n",
            "\u001b[90m 3\u001b[39m Attendance                             0.533    0.021\u001b[4m4\u001b[24m    24.9    2.74\u001b[90me\u001b[39m\u001b[31m-137\u001b[39m\n",
            "\u001b[90m 4\u001b[39m Parental_InvolvementLow               -\u001b[31m5\u001b[39m\u001b[31m.\u001b[39m\u001b[31m0\u001b[39m\u001b[31m9\u001b[39m     0.290    -\u001b[31m17\u001b[39m\u001b[31m.\u001b[39m\u001b[31m6\u001b[39m    3.24\u001b[90me\u001b[39m\u001b[31m- 69\u001b[39m\n",
            "\u001b[90m 5\u001b[39m Parental_InvolvementMedium            -\u001b[31m2\u001b[39m\u001b[31m.\u001b[39m\u001b[31m56\u001b[39m     0.192    -\u001b[31m13\u001b[39m\u001b[31m.\u001b[39m\u001b[31m3\u001b[39m    1.62\u001b[90me\u001b[39m\u001b[31m- 40\u001b[39m\n",
            "\u001b[90m 6\u001b[39m Access_to_ResourcesLow                -\u001b[31m5\u001b[39m\u001b[31m.\u001b[39m\u001b[31m40\u001b[39m     0.296    -\u001b[31m18\u001b[39m\u001b[31m.\u001b[39m\u001b[31m3\u001b[39m    2.06\u001b[90me\u001b[39m\u001b[31m- 74\u001b[39m\n",
            "\u001b[90m 7\u001b[39m Access_to_ResourcesMedium             -\u001b[31m2\u001b[39m\u001b[31m.\u001b[39m\u001b[31m68\u001b[39m     0.193    -\u001b[31m13\u001b[39m\u001b[31m.\u001b[39m\u001b[31m9\u001b[39m    9.50\u001b[90me\u001b[39m\u001b[31m- 44\u001b[39m\n",
            "\u001b[90m 8\u001b[39m Extracurricular_ActivitiesYes          1.23     0.155      7.98   1.51\u001b[90me\u001b[39m\u001b[31m- 15\u001b[39m\n",
            "\u001b[90m 9\u001b[39m Previous_Scores                        0.131    0.007\u001b[4m0\u001b[24m\u001b[4m6\u001b[24m   18.6    7.40\u001b[90me\u001b[39m\u001b[31m- 77\u001b[39m\n",
            "\u001b[90m10\u001b[39m Motivation_LevelLow                   -\u001b[31m2\u001b[39m\u001b[31m.\u001b[39m\u001b[31m61\u001b[39m     0.232    -\u001b[31m11\u001b[39m\u001b[31m.\u001b[39m\u001b[31m3\u001b[39m    1.93\u001b[90me\u001b[39m\u001b[31m- 29\u001b[39m\n",
            "\u001b[90m11\u001b[39m Motivation_LevelMedium                -\u001b[31m1\u001b[39m\u001b[31m.\u001b[39m\u001b[31m30\u001b[39m     0.198     -\u001b[31m6\u001b[39m\u001b[31m.\u001b[39m\u001b[31m59\u001b[39m   4.46\u001b[90me\u001b[39m\u001b[31m- 11\u001b[39m\n",
            "\u001b[90m12\u001b[39m Internet_AccessYes                     2.78     0.295      9.44   3.73\u001b[90me\u001b[39m\u001b[31m- 21\u001b[39m\n",
            "\u001b[90m13\u001b[39m Tutoring_Sessions                      1.35     0.078\u001b[4m3\u001b[24m    17.3    7.58\u001b[90me\u001b[39m\u001b[31m- 67\u001b[39m\n",
            "\u001b[90m14\u001b[39m Family_IncomeLow                      -\u001b[31m2\u001b[39m\u001b[31m.\u001b[39m\u001b[31m72\u001b[39m     0.221    -\u001b[31m12\u001b[39m\u001b[31m.\u001b[39m\u001b[31m3\u001b[39m    1.15\u001b[90me\u001b[39m\u001b[31m- 34\u001b[39m\n",
            "\u001b[90m15\u001b[39m Family_IncomeMedium                   -\u001b[31m1\u001b[39m\u001b[31m.\u001b[39m\u001b[31m41\u001b[39m     0.201     -\u001b[31m7\u001b[39m\u001b[31m.\u001b[39m\u001b[31m00\u001b[39m   2.61\u001b[90me\u001b[39m\u001b[31m- 12\u001b[39m\n",
            "\u001b[90m16\u001b[39m Teacher_QualityLow                    -\u001b[31m2\u001b[39m\u001b[31m.\u001b[39m\u001b[31m90\u001b[39m     0.276    -\u001b[31m10\u001b[39m\u001b[31m.\u001b[39m\u001b[31m5\u001b[39m    7.21\u001b[90me\u001b[39m\u001b[31m- 26\u001b[39m\n",
            "\u001b[90m17\u001b[39m Teacher_QualityMedium                 -\u001b[31m1\u001b[39m\u001b[31m.\u001b[39m\u001b[31m38\u001b[39m     0.167     -\u001b[31m8\u001b[39m\u001b[31m.\u001b[39m\u001b[31m25\u001b[39m   1.57\u001b[90me\u001b[39m\u001b[31m- 16\u001b[39m\n",
            "\u001b[90m18\u001b[39m School_TypePublic                      0.174    0.156      1.12   2.65\u001b[90me\u001b[39m\u001b[31m-  1\u001b[39m\n",
            "\u001b[90m19\u001b[39m Peer_InfluenceNeutral                  1.32     0.201      6.56   5.49\u001b[90me\u001b[39m\u001b[31m- 11\u001b[39m\n",
            "\u001b[90m20\u001b[39m Peer_InfluencePositive                 2.61     0.221     11.8    3.51\u001b[90me\u001b[39m\u001b[31m- 32\u001b[39m\n",
            "\u001b[90m21\u001b[39m Physical_Activity                      0.575    0.074\u001b[4m0\u001b[24m     7.78   7.54\u001b[90me\u001b[39m\u001b[31m- 15\u001b[39m\n",
            "\u001b[90m22\u001b[39m Learning_DisabilitiesYes              -\u001b[31m2\u001b[39m\u001b[31m.\u001b[39m\u001b[31m60\u001b[39m     0.259    -\u001b[31m10\u001b[39m\u001b[31m.\u001b[39m\u001b[31m1\u001b[39m    7.68\u001b[90me\u001b[39m\u001b[31m- 24\u001b[39m\n",
            "\u001b[90m23\u001b[39m Parental_Education_LevelHigh School   -\u001b[31m1\u001b[39m\u001b[31m.\u001b[39m\u001b[31m33\u001b[39m     0.172     -\u001b[31m7\u001b[39m\u001b[31m.\u001b[39m\u001b[31m69\u001b[39m   1.46\u001b[90me\u001b[39m\u001b[31m- 14\u001b[39m\n",
            "\u001b[90m24\u001b[39m Parental_Education_LevelPostgraduate   1.28     0.206      6.23   4.80\u001b[90me\u001b[39m\u001b[31m- 10\u001b[39m\n",
            "\u001b[90m25\u001b[39m Distance_from_HomeModerate             1.28     0.261      4.90   9.72\u001b[90me\u001b[39m\u001b[31m-  7\u001b[39m\n",
            "\u001b[90m26\u001b[39m Distance_from_HomeNear                 2.65     0.260     10.2    2.79\u001b[90me\u001b[39m\u001b[31m- 24\u001b[39m\n",
            "\u001b[90m27\u001b[39m GenderMale                            -\u001b[31m0\u001b[39m\u001b[31m.\u001b[39m\u001b[31m153\u001b[39m    0.144     -\u001b[31m1\u001b[39m\u001b[31m.\u001b[39m\u001b[31m0\u001b[39m\u001b[31m6\u001b[39m   2.90\u001b[90me\u001b[39m\u001b[31m-  1\u001b[39m\n",
            "\u001b[90m28\u001b[39m SleepAwake_Ratio                       0.022\u001b[4m8\u001b[24m   0.564      0.040\u001b[4m4\u001b[24m 9.68\u001b[90me\u001b[39m\u001b[31m-  1\u001b[39m\n",
            "Negative coefficients mean lower probability of very good performance.\n",
            "Positive coefficients mean higher probability  of very good performance."
          ]
        },
        {
          "output_type": "display_data",
          "data": {
            "text/html": [
              "<table class=\"dataframe\">\n",
              "<caption>A tibble: 2 × 3</caption>\n",
              "<thead>\n",
              "\t<tr><th scope=col>.metric</th><th scope=col>.estimator</th><th scope=col>.estimate</th></tr>\n",
              "\t<tr><th scope=col>&lt;chr&gt;</th><th scope=col>&lt;chr&gt;</th><th scope=col>&lt;dbl&gt;</th></tr>\n",
              "</thead>\n",
              "<tbody>\n",
              "\t<tr><td>accuracy</td><td>binary</td><td>0.9789137</td></tr>\n",
              "\t<tr><td>roc_auc </td><td>binary</td><td>0.9923406</td></tr>\n",
              "</tbody>\n",
              "</table>\n"
            ],
            "text/markdown": "\nA tibble: 2 × 3\n\n| .metric &lt;chr&gt; | .estimator &lt;chr&gt; | .estimate &lt;dbl&gt; |\n|---|---|---|\n| accuracy | binary | 0.9789137 |\n| roc_auc  | binary | 0.9923406 |\n\n",
            "text/latex": "A tibble: 2 × 3\n\\begin{tabular}{lll}\n .metric & .estimator & .estimate\\\\\n <chr> & <chr> & <dbl>\\\\\n\\hline\n\t accuracy & binary & 0.9789137\\\\\n\t roc\\_auc  & binary & 0.9923406\\\\\n\\end{tabular}\n",
            "text/plain": [
              "  .metric  .estimator .estimate\n",
              "1 accuracy binary     0.9789137\n",
              "2 roc_auc  binary     0.9923406"
            ]
          },
          "metadata": {}
        },
        {
          "output_type": "display_data",
          "data": {
            "text/plain": [
              "          Truth\n",
              "Prediction good v_good\n",
              "    good    836     19\n",
              "    v_good   14    696"
            ]
          },
          "metadata": {}
        },
        {
          "output_type": "stream",
          "name": "stdout",
          "text": [
            " 97.9% accuracy is pretty good for accuracy.\n",
            "The roc value will imply the roc curve will almost hug the extreme end, further indicating implying the base model log reg model \n",
            "is 99.2% accurate in terms of distinguishing the classes and also acuurate in predicting the right class between a good and very good grade"
          ]
        }
      ]
    },
    {
      "cell_type": "code",
      "source": [
        "##\n",
        "## XGB classificaction\n",
        "##\n",
        "\n",
        "## Set up extreme gradient boosting model specification\n",
        "xgbclasstree_spec <- boost_tree( tree_depth = tune(), learn_rate = tune()) |>\n",
        "                     set_engine(\"xgboost\") |>\n",
        "                     set_mode(\"classification\")\n",
        "## Create recipe\n",
        "class_recipe <- recipe(Exam_Score ~., data = train_class) |>\n",
        "  step_dummy(all_nominal_predictors())\n",
        "\n",
        "## Build workflow\n",
        "xgbclass_wf <- workflow() |>\n",
        "               add_model(xgbclasstree_spec) |>\n",
        "               add_recipe(class_recipe)\n",
        "\n",
        "## Create grid of parameters\n",
        "set.seed(1)\n",
        "xgbparam_grid <- grid_random( tree_depth(range = c(6, 9)),\n",
        "                 learn_rate(c(0.1, 0.35), trans = NULL), size = 60)\n",
        "\n",
        "trainclass_cv <- vfold_cv(train_class)\n",
        "\n",
        "## Tune params\n",
        "tune_res <- tune_grid(xgbclass_wf, resamples = trainclass_cv, grid = xgbparam_grid)\n",
        "\n",
        "## Extract best params\n",
        "best_params <- select_best(tune_res, metric = 'accuracy')\n",
        "best_params\n",
        "\n",
        "## Finanlize workflow\n",
        "xgbclass_final <- finalize_workflow(xgbclass_wf, best_params)\n",
        "\n",
        "## Fit model\n",
        "xgbclassfinal_fit <- fit(xgbclass_final, data = train_class )\n",
        "\n",
        "\n",
        "## Make predictions with fitted model\n",
        "# Test data\n",
        "xgbclass_aug <- augment(xgbclassfinal_fit, new_data = test_class)\n",
        "bind_rows( xgbclass_aug |> accuracy(truth = Exam_Score, .pred_class),\n",
        "           xgbclass_aug |> roc_auc(truth = Exam_Score, .pred_good) )\n",
        "xgbclass_aug |> conf_mat(truth = Exam_Score, .pred_class)\n",
        "\n",
        "cat(\"Although recording a very good accuracy and roc score, the tuned XGB performs less better than logistic regression\\\n",
        "Also, accounting for more false positive and false negative classification than logistic regression. Therefore logistic regression is more suitable here. \\\n",
        "Maybe a more fine-tuned model may be better. \")"
      ],
      "metadata": {
        "id": "nI_qRQdYLx4W",
        "colab": {
          "base_uri": "https://localhost:8080/",
          "height": 500
        },
        "outputId": "13473eb1-c15d-4034-ba8a-dcde5627f63d"
      },
      "execution_count": null,
      "outputs": [
        {
          "output_type": "display_data",
          "data": {
            "text/html": [
              "<table class=\"dataframe\">\n",
              "<caption>A tibble: 1 × 3</caption>\n",
              "<thead>\n",
              "\t<tr><th scope=col>tree_depth</th><th scope=col>learn_rate</th><th scope=col>.config</th></tr>\n",
              "\t<tr><th scope=col>&lt;int&gt;</th><th scope=col>&lt;dbl&gt;</th><th scope=col>&lt;chr&gt;</th></tr>\n",
              "</thead>\n",
              "<tbody>\n",
              "\t<tr><td>7</td><td>0.3440427</td><td>Preprocessor1_Model51</td></tr>\n",
              "</tbody>\n",
              "</table>\n"
            ],
            "text/markdown": "\nA tibble: 1 × 3\n\n| tree_depth &lt;int&gt; | learn_rate &lt;dbl&gt; | .config &lt;chr&gt; |\n|---|---|---|\n| 7 | 0.3440427 | Preprocessor1_Model51 |\n\n",
            "text/latex": "A tibble: 1 × 3\n\\begin{tabular}{lll}\n tree\\_depth & learn\\_rate & .config\\\\\n <int> & <dbl> & <chr>\\\\\n\\hline\n\t 7 & 0.3440427 & Preprocessor1\\_Model51\\\\\n\\end{tabular}\n",
            "text/plain": [
              "  tree_depth learn_rate .config              \n",
              "1 7          0.3440427  Preprocessor1_Model51"
            ]
          },
          "metadata": {}
        },
        {
          "output_type": "display_data",
          "data": {
            "text/html": [
              "<table class=\"dataframe\">\n",
              "<caption>A tibble: 2 × 3</caption>\n",
              "<thead>\n",
              "\t<tr><th scope=col>.metric</th><th scope=col>.estimator</th><th scope=col>.estimate</th></tr>\n",
              "\t<tr><th scope=col>&lt;chr&gt;</th><th scope=col>&lt;chr&gt;</th><th scope=col>&lt;dbl&gt;</th></tr>\n",
              "</thead>\n",
              "<tbody>\n",
              "\t<tr><td>accuracy</td><td>binary</td><td>0.9041534</td></tr>\n",
              "\t<tr><td>roc_auc </td><td>binary</td><td>0.9686154</td></tr>\n",
              "</tbody>\n",
              "</table>\n"
            ],
            "text/markdown": "\nA tibble: 2 × 3\n\n| .metric &lt;chr&gt; | .estimator &lt;chr&gt; | .estimate &lt;dbl&gt; |\n|---|---|---|\n| accuracy | binary | 0.9041534 |\n| roc_auc  | binary | 0.9686154 |\n\n",
            "text/latex": "A tibble: 2 × 3\n\\begin{tabular}{lll}\n .metric & .estimator & .estimate\\\\\n <chr> & <chr> & <dbl>\\\\\n\\hline\n\t accuracy & binary & 0.9041534\\\\\n\t roc\\_auc  & binary & 0.9686154\\\\\n\\end{tabular}\n",
            "text/plain": [
              "  .metric  .estimator .estimate\n",
              "1 accuracy binary     0.9041534\n",
              "2 roc_auc  binary     0.9686154"
            ]
          },
          "metadata": {}
        },
        {
          "output_type": "display_data",
          "data": {
            "text/plain": [
              "          Truth\n",
              "Prediction good v_good\n",
              "    good    777     77\n",
              "    v_good   73    638"
            ]
          },
          "metadata": {}
        },
        {
          "output_type": "stream",
          "name": "stdout",
          "text": [
            "Although recording a very good accuracy and roc score, the tuned XGB performs less better than logistic regression\n",
            "Also, accounting for more false positive and false negative classification than logistic regression. Therefore logistic regression is more suitable here. \n",
            "Maybe a more fine-tuned model may be better. "
          ]
        }
      ]
    }
  ]
}