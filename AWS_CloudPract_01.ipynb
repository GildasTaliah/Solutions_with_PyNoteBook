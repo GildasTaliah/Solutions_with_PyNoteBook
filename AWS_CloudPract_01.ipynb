{
  "nbformat": 4,
  "nbformat_minor": 0,
  "metadata": {
    "colab": {
      "provenance": [],
      "toc_visible": true,
      "authorship_tag": "ABX9TyMS3XuVrObDtnTbl0I1sFmD",
      "include_colab_link": true
    },
    "kernelspec": {
      "name": "python3",
      "display_name": "Python 3"
    },
    "language_info": {
      "name": "python"
    }
  },
  "cells": [
    {
      "cell_type": "markdown",
      "metadata": {
        "id": "view-in-github",
        "colab_type": "text"
      },
      "source": [
        "<a href=\"https://colab.research.google.com/github/GildasTaliah/Solutions_with_PyNoteBook/blob/main/AWS_CloudPract_01.ipynb\" target=\"_parent\"><img src=\"https://colab.research.google.com/assets/colab-badge.svg\" alt=\"Open In Colab\"/></a>"
      ]
    },
    {
      "cell_type": "markdown",
      "source": [
        "# **Understanding CLOUD COMPUTING**\n",
        "\n",
        "**Description**\n",
        "\n",
        "Every day we interact with the cloud—whether it’s using Google Drive, apps like Salesforce, or accessing our favorite websites. Cloud computing has become the norm for many companies, but what exactly is the cloud and why is everyone rushing to adopt it? Designed for absolute novices, this course breaks down what the cloud is and explains terminology such as scalability, latency, and high-availability. You'll learn about the many advantages including ease of remote collaboration, how there are no hardware limitations, and reliable disaster recovery. You'll also discover the range of tools provided by major cloud providers such as Amazon Web Services (AWS), Microsoft Azure, and Google Cloud. By the end of this course, you'll be able to confidently explain how cloud tools can increase productivity and save money, as well as ask the right questions about how to optimize your use of cloud tools."
      ],
      "metadata": {
        "id": "FdeM3j4t2Qyn"
      }
    },
    {
      "cell_type": "markdown",
      "source": [
        "# **1. Introduction to Cloud Computing**\n",
        "\n",
        "In this chapter, you’ll learn why cloud computing is growing in popularity, how it compares to an on-premise solution, and what makes it so powerful. Next, you’ll learn about the three different service models—IaaS, PaaS, and SaaS—and how they each satisfy a unique set of business requirements."
      ],
      "metadata": {
        "id": "RbLnAi3H_BA7"
      }
    },
    {
      "cell_type": "markdown",
      "source": [
        "**What is cloud computing ?**\n",
        "\n",
        "Cloud computing is the delivery of technology services including - compute, storage, databases, networking, software and more over the internet with pay-as-you-pricing."
      ],
      "metadata": {
        "id": "u--aaXZy36oh"
      }
    },
    {
      "cell_type": "markdown",
      "source": [
        "**Understanding the cloud**\n",
        "\n",
        "You may have heard of the cloud in the context of storing your photos and videos online, but cloud computing is more than that. It is part of a business model that is becoming increasingly popular with more and more companies moving their workloads to the cloud.\n",
        "\n",
        "In the video, we introduced you to the world of cloud computing. Let's see how well you understand what it encompasses.\n",
        "\n",
        "Which statement about cloud computing is FALSE?\n",
        "\n",
        "- Cloud adoptin has been growing over the years and predicted to grow even further.\n",
        "- Solutions in the cloud are more precise than on-premise.\n",
        "- You can build and deploy custom AI MODELS in the cloud.\n",
        "-  A server is apowerful computer you can connect to remotely.\n",
        "\n",
        "Perfect! You're right (No: 2), this statement is false. Some use cases require an on-premise solution. You'll learn more about this in the next video.\n",
        "\n"
      ],
      "metadata": {
        "id": "x5GrF8CP5fGk"
      }
    },
    {
      "cell_type": "markdown",
      "source": [
        "**Cloud vs. on-premise**\n",
        "\n",
        "The cloud is transforming the way organizations use computer services. Where in the past you had to own local servers and systems, in the cloud they are managed by an external provider that charges you for the use. Let's see if you know the difference.\n",
        "\n",
        "**On Premise**\n",
        "\n",
        "- It can take up a long time to set up a server.\n",
        "- You will pay for the server even when you are not using it.\n",
        "- The servers are in the confines of the physical premise of the company.\n",
        "\n",
        "**Cloud Computing**\n",
        "\n",
        "- It is easy to scale up and down smoothly based on needs.\n",
        "- You have access to additional computing power instantly.\n",
        "- Can deal with high website traffic efficiently.\n",
        "\n",
        "Awesome! You have a good idea of the difference between cloud and on-premises server solutions. Remember that no one solution is better than the other and that the ideal IT infrastructure model depends on your use case. We'll learn more about this in the next video.\n",
        "\n",
        "**Cloud computing services**\n",
        "Cloud providers like AWS, Microsoft Azure, and Google Cloud offer a wide variety of services. Below you can find an overview of the products available on AWS:\n",
        " **Compute, Machine Learning, Storage, Databases, Analytics, GameTech, Quantum Tech, Robotics, Internet of Things etc**\n",
        "\n",
        " Perfect! The services offered by AWS cover a wide variety of areas and they are expanding continuously. You'll see that other cloud providers will have a similar offer, more on that in chapter 3."
      ],
      "metadata": {
        "id": "NGJJFFYu6U6o"
      }
    },
    {
      "cell_type": "markdown",
      "source": [
        "**Primary cloud services**\n",
        "\n",
        "Cloud providers like AWS, Microsoft Azure, and Google Cloud offer a wide variety of services. The three basic ones, which you will be able to find for every cloud provider, are:\n",
        "\n",
        "- Compute: These resources provide the brains that would process your workload.\n",
        "- Storage: These resources helps save and store (unstructered) data such as: images and text files.\n",
        "- Databases: Thses resourecs helps you store more structured sets of data like tables.\n",
        "It's important to understand what the resources provided by this service are responsible for.\n",
        "\n",
        "Congrats! You now know what the primary cloud services are. On top of these basic ones, you'll find a long list of other services offered by different cloud providers. You can take a look at their respective websites to see what they offer if you're curious.\n",
        "\n",
        "Key characteristics\n",
        "Cloud computing services provide more possibilities for organizations all over the world. These services share certain characteristics that make them very powerful. Time to check how well you understand them!\n"
      ],
      "metadata": {
        "id": "Inp_cLO09XBU"
      }
    },
    {
      "cell_type": "markdown",
      "source": [
        "**True**\n",
        "- Most on-service data centers have a hard time competing with cloud providers network of data centers data centers in terms of perfromance.\n",
        "- Virtualozation splits one physical server into multiple servers, allowing for more efficient use of the physical resources available.\n",
        "\n",
        "- **On-demand** resourcing means resources are available to you immediately when needed.\n",
        "\n",
        "**False**\n",
        "- If a disaster destroy your cloud data center, where your data is stored, you lose everything.\n",
        "- Storing your data in the cloud is not secured at all.\n",
        "- A cloud solution is always cheapest when the resources you need are clear and stable over time.\n",
        "\n",
        "Amazing! These key characteristics make the cloud the powerful technology that it is today."
      ],
      "metadata": {
        "id": "YBAsuW5A_XNQ"
      }
    },
    {
      "cell_type": "markdown",
      "source": [
        "**Outsourcing IT services**\n",
        "\n",
        "Cloud computing is offered in three different service models each satisfying a unique set of business requirements. It's important to understand what each model offers. There are three main service models:\n",
        "\n",
        "- Infrastructure as a Service (IaaS) - offers cloud infrastructure\n",
        "Platform as a Service (PaaS).\n",
        "\n",
        "- Infrastructure as a Service (IaaS) - offers cloud infrastructure\n",
        "\n",
        "Mostly used by **systems admins**. For example, to improve the capacity of your data center for unrpedictable workload.\n",
        "\n",
        "- Platform as a Service (PaaS) - offers infrastructure and software for application development.\n",
        "\n",
        "Mostly used by **developers**. For example, used to reduce the cost of application development.\n",
        "\n",
        "- Software as a Service (SaaS) - offers ready-to-use applications in the cloud.\n",
        "\n",
        "Mostly used by end customers. For example, transitioning from an internally hosted exchange email to a cloud-based email tool.\n",
        "\n",
        "Fantastic! You know the differences between these three cloud service models. You saw that the model depends on the use case. This is why most organizations use a combination of IaaS, PaaS, and SaaS."
      ],
      "metadata": {
        "id": "1-dpDOkwDykx"
      }
    },
    {
      "cell_type": "markdown",
      "source": [
        "**Level of abstraction**\n",
        "Cloud service models can be ordered in terms of abstraction. Abstraction refers to the act of offering essential features without including the background details.\n",
        "\n",
        "Let's take a look at the three models from before - IaaS, PaaS, and SaaS - as well as a fourth one, FaaS (Function as a Service). Can you order the cloud service models based on their level of abstraction? The model with the highest level of abstraction should come first.\n",
        "\n",
        "**According to decresing level of abstraction.** : SaaS. FaaS. PaaS. IaaS.  "
      ],
      "metadata": {
        "id": "Nt0vrIJwHuTs"
      }
    },
    {
      "cell_type": "markdown",
      "source": [
        "# **2. Cloud Deployment**\n",
        "\n",
        "Now that you understand the power of cloud computing, it’s time to discover how it’s implemented using one of three deployment methods—private, public, and hybrid. You'll then find out how data protection regulations can affect cloud infrastructure. Lastly, you’ll meet the important roles within an organization that can make your cloud deployment a reality."
      ],
      "metadata": {
        "id": "XOFFj6LlIUWD"
      }
    },
    {
      "cell_type": "markdown",
      "source": [
        "**Private or public?**\n",
        "\n",
        "In terms of cloud deployment models, the private model and the public model are on the opposite ends of the spectrum. Therefore, it's crucial to understand the difference between the two. If you know the strengths and drawbacks of each, then you can better decide on the best deployment model for a given use-case, even if it's something in between like the hybrid, community, or multicloud model!\n",
        "\n",
        "\n",
        "**Private Model**\n",
        "\n",
        "Provides an organization with exclusive use of infrastructure. Can get direct access to all data centers.\n",
        "\n",
        "**Public Model**\n",
        "\n",
        "Usually has the least upfront investment. In cloud bursting, overflow model is sent to this (public) model.\n",
        "\n",
        "\n",
        "Great job! One model isn't always better than the other so remember to consider your security requirements and other cloud deployment models in between.\n"
      ],
      "metadata": {
        "id": "O4ZOFUBmJ7sZ"
      }
    },
    {
      "cell_type": "markdown",
      "source": [
        "**Pick the best model**\n",
        "\n",
        "Below are four statements each describing a deployment model and a use-case.\n",
        "\n",
        "Select the statement that does not describe an appropriate use-case for the given model.\n",
        "\n",
        "- Community model: Three different university hospitals have partnered on a research study requiring sensitive patient data.\n",
        "- Public model: A young startup wants to get their app live right away at the lowest cost possible and with the ability to scale.\n",
        "- Hybrid model: Different government agencies need access to tax data.\n",
        "- Multicloud model: A freelance data scientist needs to uses services from different cloud providers depending on their clients' needs.\n",
        "\n",
        "\n",
        "You got it! It's not clear in this use-case where the government agencies would benefit from combining more than one model. The community model sounds like a better fit for easier sharing of data, while maintaining exclusive use of the infrastructure."
      ],
      "metadata": {
        "id": "1AXc0EtiLKCY"
      }
    },
    {
      "cell_type": "markdown",
      "source": [
        "**Time limits on storing data**\n",
        "\n",
        "GDPR has regulations on how long data can be stored. Below is an excerpt from the European Commission describing this regulation:\n",
        "\n",
        "\n",
        "**Data must be stored for the shortest time possible. That period should take into account the reasons why your company/organization needs to process the data, as well as any legal obligations to keep the data for a fixed period of time (for example national labour, tax or anti-fraud laws requiring you to keep personal data about your employees for a defined period, product warranty duration, etc.).\n",
        "Your company/organization should establish time limits to erase or review the data stored.**\n",
        "\n",
        "- If copies of European user data exist on multiple data centers, including disaster recovery backups, companies need to have a robust protocol for making sure every copy is deleted once the time limit elapses.\n",
        "\n",
        "Nice! Can you see how even regulations on time limits can affect a company's cloud infrastructure? These regulations hold true for both on-premise and cloud solutions. For on-premise solutions, you would have to make sure to delete all copies within your on-premise data centers."
      ],
      "metadata": {
        "id": "dGuaKzHaMool"
      }
    },
    {
      "cell_type": "markdown",
      "source": [
        "**Personal data**\n",
        "\n",
        "In the video, we saw a list of data protection regulations around the world. To understand these regulations properly, you need to understand personal data. As a reminder, this is how GDPR defines personal data:\n",
        "\n",
        "**Personal data is any information that relates to an identified or identifiable living individual. Different pieces of information, which collected together can lead to the identification of a particular person, also constitute personal data**\n",
        "\n",
        "source: [EU_DataProtection](https://commission.europa.eu/law/law-topic/data-protection/data-protection-explained_en)\n",
        "\n",
        "\n"
      ],
      "metadata": {
        "id": "ofMpXUFxNpg8"
      }
    },
    {
      "cell_type": "markdown",
      "source": [
        "**Cloud roles**\n",
        "\n",
        "The rise of cloud computing has brought on a new wave of technology roles. In this exercise, each responsibility belongs to a role.\n",
        "\n",
        "- Cloud Architect. DevOps Engineer. Security Engineer. MLOps Engineer."
      ],
      "metadata": {
        "id": "cB7HXldsQUcj"
      }
    },
    {
      "cell_type": "markdown",
      "source": [
        "# **3. Cloud Providers and Case Studies**\n",
        "\n",
        "In the final chapter, you’ll be introduced to the major cloud infrastructure players, including **AWS, Microsoft Azure, and Google Cloud**. You’ll become more familiar with their market positioning, the products they offer, and who their main customers are and how they use cloud computing.\n"
      ],
      "metadata": {
        "id": "YGIrrmV4yi5s"
      }
    },
    {
      "cell_type": "markdown",
      "source": [
        "**The big three**\n",
        "\n",
        "Which three cloud services make up the big three?\n",
        "\n",
        "- AWS, Microsoft Azure, Google Cloud.\n",
        "- others: Alibaba Cloud, IBM Cloud, saleforce, Oracle...\n",
        "\n",
        "That's correct! It depends on the region, but AWS, GCP, and Azure comprise around two-thirds of the total cloud market."
      ],
      "metadata": {
        "id": "Gya61SoyzwGz"
      }
    },
    {
      "cell_type": "markdown",
      "source": [
        "**The risk of vendor lock-in**\n",
        "\n",
        "Cloud vendor lock-in is a situation in which a customer using a cloud service cannot easily transition to a competitor's product or service. What are things a company can do to avoid vendor lock-in?\n",
        "- Implement a multi-cloud and/or hybrid cloud strategy\n",
        "- Invest in open standards and technology.\n",
        "- Don't sign long-term contracts and negotiate flexibility into contracts\n",
        "- All the bove are good standards for avoiding vendor lock-in.\n",
        "Well done! (4) Avoiding vendor lock-in is important, gives you negotiating power and helps keeping cost under control."
      ],
      "metadata": {
        "id": "v0bWnHv10kCu"
      }
    },
    {
      "cell_type": "markdown",
      "source": [
        "**AWS**\n",
        "\n",
        "**AWS or not AWS!**\n",
        "\n",
        "You have been introduced to a range of key cloud services offered by AWS to enterprises and professionals.\n",
        "\n",
        "Which of the following is NOT a cloud service offered by AWS?\n",
        "\n",
        "- Simple Storage Service (S3)\n",
        "- Elastic Compute Cloud (EC2)\n",
        "- Relational DataBase Service (RDS)\n",
        "- Kinesis (Real time data movement and analytics)\n",
        "- BigQuery\n",
        "- Redshift (Analytics and Data Warehousing)\n",
        "- SageMaker (Predictive Analytics and Machine Learning)\n",
        "\n",
        "Perfect! **BigQuery** is actually a part of Google Cloud Platform, not AWS. Well spotted!"
      ],
      "metadata": {
        "id": "CquYlbWn267b"
      }
    },
    {
      "cell_type": "markdown",
      "source": [
        "**NerdWallet**\n",
        "\n",
        "What was the outcome of NerdWallet's move to Amazon SageMaker?\n",
        "- It now costs them more to train machine learning models.\n",
        "- Models now take days to train instead of months.\n",
        "- Customer data is now more secured.\n",
        "\n",
        "That's right! Faster training times mean the engineering team can iterate and improve the product."
      ],
      "metadata": {
        "id": "f1n9U1_24ix_"
      }
    },
    {
      "cell_type": "markdown",
      "source": [
        "**Microsoft Azure**\n",
        "\n",
        "**Which service to pick?**\n",
        "\n",
        "Microsoft Azure offers customers more than 200 products and services across different areas of interest, such as security, migration, and Internet of Things. We have covered some of the key cloud services.\n",
        "\n",
        "But which services would you need for your Data Science and Analytics (DS-A) tasks? Which service would you use for Data Storage (DS)?\n",
        "\n",
        "- Azure Stream Analytics. Azure Machine Learning.  \n",
        "- Azure SQL Database. Azure Data Data Lake.\n",
        "\n",
        "Congratulations! You've successfully classified Azure services into Data Science and Analytics or Data Storage categories. This knowledge is crucial for leveraging Azure to its fullest, allowing you to select the most suitable services for your data processing and storage needs.\n",
        "\n",
        "- They wanted to decrease the time it takes for image recognition models to identify tumors on medical imaging.\n",
        "- They wanted to decrease storage costs.\n",
        "- They needed a reliable solution to protect their data and essential operations during a disaster.\n",
        "- Canadian regulations required them to move their data to the cloud.\n",
        "\n",
        "Exactly. (3) The Ottawa hospital decided to store data on-premises to optimize its storage costs. Still, they had to implement a disaster recovery option if their data was destroyed or erased due to natural or human events."
      ],
      "metadata": {
        "id": "Qbsdzq1h6C9f"
      }
    },
    {
      "cell_type": "markdown",
      "source": [
        "**Google Cloud**\n",
        "\n",
        "**Lush migration**\n",
        "\n",
        "The international cosmetics company Lush migrated their entire infrastructure to Google Cloud.\n",
        "\n",
        "What was the expected outcome?\n",
        "- Lush wanted to build a recommendation engine to help buyers choose the right product based on their previous purchases, allergies, etc.\n",
        "- Lush wanted to reduce packaging by becoming an online-only retailer.\n",
        "- Lush wanted to improve the scalability and availability of their e-commerce platform when traffic increases.\n",
        "\n",
        "Exactly! (3) Lush had experienced website outages on their e-commerce platform during the previous Boxing Day and wanted to prevent this situation from happening again."
      ],
      "metadata": {
        "id": "g7i4-bO28MrW"
      }
    }
  ]
}